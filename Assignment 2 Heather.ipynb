{
 "cells": [
  {
   "cell_type": "code",
   "execution_count": 1,
   "id": "initial-hardware",
   "metadata": {},
   "outputs": [],
   "source": [
    "import pandas as pd\n",
    "import numpy as np          \n",
    "from scipy import stats     ## statistical functions \n",
    "import seaborn as sn        ## statistical data vis\n",
    "import matplotlib.pyplot as plt ## vis\n",
    "\n",
    "\n",
    "## Reading in the files \n",
    "ccdate = pd.read_csv(\"CCDate2018-2021.csv\")\n",
    "users = pd.read_csv(\"Users2021.csv\")\n",
    "conditions = pd.read_csv(\"CustomerMedicalConditions04Nov21.csv\")\n",
    "\n"
   ]
  },
  {
   "cell_type": "markdown",
   "id": "instructional-marina",
   "metadata": {},
   "source": [
    "## Introduction\n",
    "\n",
    "The project data is taken from a service called CleverCogs, a customisable entertainment and services system provided by Blackwood in its accommodation and externally. Blackwood provides housing and care to people with disabilities and other specific housing needs. Through a tablet device, CleverCogs allows residents to access the internet and entertainment, but also specific services offered by Blackwood such as care notes or assistance. \n",
    "\n",
    "The aim of this project is to look for correlations between the type of content that users access, and their age, location and condition etc. This might allow Blackwood to present users with activities that others with similar demographics have enjoyed, or offer suggested links.I am initially focusing on the link titles and categories as my starting point. \n",
    "\n",
    "\n"
   ]
  },
  {
   "cell_type": "markdown",
   "id": "stylish-agenda",
   "metadata": {},
   "source": [
    "## Describe (summary) \n",
    "\n",
    "Please see annotated code below to see answers for these questions.  \n",
    "\n",
    "**○ what is the general type of the data (tabular, network, geographical, textual etc.)?**\n",
    "\n",
    "**○ how large and complex is it (rows/columns, size, variation, structure)?**\n",
    "\n",
    "**○ What fields and data types are present (max/min, levels for categorical values)?**\n",
    "\n",
    "**○ Links between this data and other data (e.g. foreign keys, unique ids)?**\n",
    "\n",
    "**○ Summary statistics about the data - how many people, what time frame, field averages etc.?**\n",
    " \n",
    "\n",
    " \n",
    "**○ How does the data relate to the questions that the data owner has discussed with you?**\n",
    "\n",
    "The data owner would like to look at correlations between user demographics and the content they engage with. We have information on age, gender, location and entertainment/internet access which is time and date stamped, along with the conditions/reason for residency of many of the individuals. We are looking for any kind of relationship that explains how and why residents use CleverCogs, but we are also looking for demographic correlations with usage. "
   ]
  },
  {
   "cell_type": "markdown",
   "id": "subtle-anchor",
   "metadata": {},
   "source": [
    "**CCDate** \n",
    "\n",
    "My first step is to take a brief look at each of the three files provided using df.info to print a summary of the dataframe. \n",
    "\n",
    "File ccdate contains 654,915 content links accessed by users. Data fields  are 'Time', 'VisitorID', 'ExternalID', 'Role', 'Location', 'Link Title', 'Link  Type', 'ContentInfo', and 'URL'. All fields are 'object' type except ExternalID, which is read in as 'float' due to the formatting. \n",
    "\n",
    "Links are assigned a label in column 'Link Type', which is simply a descriptive label for the link. \n",
    "\n",
    "The data spans from the 1st January 2018-1st November 2021. \n",
    "\n",
    "The external ID is the field used to link across the datasets we have been given. Only 540837 out of 654915 entries have an associated external ID - we will not be able to use the link data without one. We have been told by the data owner that this is usually a shared device, where data cannot be linked to an individual user. This data will have to be removed when analysing relationships between the users and the content. I check the number of external IDs which actually appear in this dataset. Only 544 different users are contained within this dataset. \n",
    "\n",
    "Every row in this file refers to a single link clicked by a user. A check for duplicates returns 58226 duplicated rows. The timestamps are only accurate to the minute, so if a used has clicked within a service twice in the same minute, this would produce an identical row entry. It will be important to decide what to do about these duplicates - for example, do multiple links clicked on Facebook during the same minute count as separate 'uses' of the service? Someone who jumps from page to page within the same service will skew the results more than someone who stays on the page for an extended period of time. Some services by their nature also encourage mutiple 'uses' or clicks, while others, for example videos or TV, would require less clicks. For now, I have chosen to remove these duplicates from the dataset,  but it might be interesting to look for differences in usage types during deeper exploratory analysis later in the project. \n",
    "\n",
    "\n",
    "\n"
   ]
  },
  {
   "cell_type": "code",
   "execution_count": 2,
   "id": "hollywood-facial",
   "metadata": {
    "scrolled": false
   },
   "outputs": [
    {
     "name": "stdout",
     "output_type": "stream",
     "text": [
      "<class 'pandas.core.frame.DataFrame'>\n",
      "RangeIndex: 654915 entries, 0 to 654914\n",
      "Data columns (total 9 columns):\n",
      " #   Column       Non-Null Count   Dtype  \n",
      "---  ------       --------------   -----  \n",
      " 0   Time         654915 non-null  object \n",
      " 1   VisitorID    654915 non-null  object \n",
      " 2   ExternalID   540837 non-null  float64\n",
      " 3   Role         653868 non-null  object \n",
      " 4   Location     640252 non-null  object \n",
      " 5   Link Title   654915 non-null  object \n",
      " 6   Link  Type   654915 non-null  object \n",
      " 7   ContentInfo  24103 non-null   object \n",
      " 8   URL          324089 non-null  object \n",
      "dtypes: float64(1), object(8)\n",
      "memory usage: 45.0+ MB\n",
      "None\n",
      "-----------------------------------------\n",
      "5535.0    60350\n",
      "9533.0    33029\n",
      "5325.0    33009\n",
      "5207.0    30780\n",
      "4763.0    26160\n",
      "          ...  \n",
      "8920.0        1\n",
      "7903.0        1\n",
      "6293.0        1\n",
      "8431.0        1\n",
      "8353.0        1\n",
      "Name: ExternalID, Length: 554, dtype: int64\n",
      "------------------------------------------\n",
      "                   Time                             VisitorID  ExternalID  \\\n",
      "14      11/1/21 4:44 PM  BE0BBD31-93F4-44FE-82EC-24E68BEAD418      7901.0   \n",
      "70      11/1/21 2:46 PM  0EEDEE08-F981-489A-9AB1-67FFFAA76C8C      9533.0   \n",
      "74      11/1/21 2:45 PM  AA454435-CF18-4E34-B50A-A9DEA3EFFF1E      5347.0   \n",
      "75      11/1/21 2:45 PM  AA454435-CF18-4E34-B50A-A9DEA3EFFF1E      5347.0   \n",
      "81      11/1/21 2:44 PM  BE0BBD31-93F4-44FE-82EC-24E68BEAD418      7901.0   \n",
      "...                 ...                                   ...         ...   \n",
      "654887   1/1/18 1:07 AM  9B5B98A6-F7E0-48C2-AC4A-0BB22DA9BEB2         NaN   \n",
      "654893   1/1/18 1:03 AM  9B5B98A6-F7E0-48C2-AC4A-0BB22DA9BEB2         NaN   \n",
      "654897   1/1/18 1:03 AM  9B5B98A6-F7E0-48C2-AC4A-0BB22DA9BEB2         NaN   \n",
      "654898   1/1/18 1:03 AM  9B5B98A6-F7E0-48C2-AC4A-0BB22DA9BEB2         NaN   \n",
      "654905  1/1/18 12:53 AM  9B5B98A6-F7E0-48C2-AC4A-0BB22DA9BEB2         NaN   \n",
      "\n",
      "        Role        Location                        Link Title Link  Type  \\\n",
      "14      User    Aberdeen C@H                        Care Notes   Internet   \n",
      "70      User  Belses Gardens                      My Interests   Category   \n",
      "74      User     Broom Court                      Smooth Radio      Radio   \n",
      "75      User     Broom Court                      Smooth Radio      Radio   \n",
      "81      User    Aberdeen C@H  My Care Team - Aberdeen Services   Internet   \n",
      "...      ...             ...                               ...        ...   \n",
      "654887  User             NaN                          My Music   Category   \n",
      "654893  User             NaN                          My Music   Category   \n",
      "654897  User             NaN                            Videos   Category   \n",
      "654898  User             NaN                     Entertainment   Category   \n",
      "654905  User             NaN                          My Music   Category   \n",
      "\n",
      "       ContentInfo                                                URL  \n",
      "14             NaN                                          notes.asp  \n",
      "70             NaN                                                NaN  \n",
      "74             NaN  http://media-ice.musicradio.com/SmoothScotlandMP3  \n",
      "75             NaN  http://media-ice.musicradio.com/SmoothScotlandMP3  \n",
      "81             NaN  https://blackwood.iqare.eu/document/blackwood....  \n",
      "...            ...                                                ...  \n",
      "654887         NaN                                                NaN  \n",
      "654893         NaN                                                NaN  \n",
      "654897         NaN                                                NaN  \n",
      "654898         NaN                                                NaN  \n",
      "654905         NaN                                                NaN  \n",
      "\n",
      "[58226 rows x 9 columns]\n",
      "------------------------------------------\n",
      "<class 'pandas.core.frame.DataFrame'>\n",
      "Int64Index: 596689 entries, 0 to 654914\n",
      "Data columns (total 9 columns):\n",
      " #   Column       Non-Null Count   Dtype  \n",
      "---  ------       --------------   -----  \n",
      " 0   Time         596689 non-null  object \n",
      " 1   VisitorID    596689 non-null  object \n",
      " 2   ExternalID   494088 non-null  float64\n",
      " 3   Role         595841 non-null  object \n",
      " 4   Location     583703 non-null  object \n",
      " 5   Link Title   596689 non-null  object \n",
      " 6   Link  Type   596689 non-null  object \n",
      " 7   ContentInfo  21983 non-null   object \n",
      " 8   URL          298183 non-null  object \n",
      "dtypes: float64(1), object(8)\n",
      "memory usage: 45.5+ MB\n",
      "None\n"
     ]
    }
   ],
   "source": [
    "### df.info will print summary of dataframe including datatype and non-null values. This will show me the scale of the data and also \n",
    "### if there are any missing/null values. \n",
    "print(ccdate.info())\n",
    "\n",
    "\n",
    "print('-----------------------------------------')\n",
    "\n",
    "## counting the number of external IDs which appear in the dataset. \n",
    "usercount = ccdate['ExternalID'].value_counts()\n",
    "print(usercount)\n",
    "\n",
    "\n",
    "print('------------------------------------------')\n",
    "## shows first occurence of identical duplicate rows of data and saves as variable.\n",
    "duplicates = ccdate[ccdate.duplicated()] \n",
    "print(duplicates)\n",
    "\n",
    "## removes duplicates \n",
    "ccdate = ccdate.drop_duplicates()\n",
    "\n",
    "print('------------------------------------------')\n",
    "\n",
    "print (ccdate.info())\n",
    "\n"
   ]
  },
  {
   "cell_type": "markdown",
   "id": "oriental-somerset",
   "metadata": {},
   "source": [
    "File 'users' contains information on users of the CleverCogs service. Data fields are 'UserID', 'VisitorID', 'ExternalID', Birth date', 'Gender' and 'Location'. All fields are 'object' type except UserID and ExternalID, which are read in as 'float' and 'int' values.\n",
    "\n",
    "The external ID column contains only 2644 non-null values out of a potienal 3641 entries. Again, we have been informed by the data host that null External IDs correspond to a shared device, meaning that the data cannot be used for our purposes as it can't be linked to an individual user. These will need to be removed. Therefore, we should have a sample size of 2644 users - however, only 554 of them actually have recorded link access data. \n",
    "\n",
    "No whole-row duplicates are present in the data. "
   ]
  },
  {
   "cell_type": "code",
   "execution_count": 3,
   "id": "concerned-utilization",
   "metadata": {
    "scrolled": true
   },
   "outputs": [
    {
     "name": "stdout",
     "output_type": "stream",
     "text": [
      "<class 'pandas.core.frame.DataFrame'>\n",
      "RangeIndex: 3641 entries, 0 to 3640\n",
      "Data columns (total 6 columns):\n",
      " #   Column      Non-Null Count  Dtype  \n",
      "---  ------      --------------  -----  \n",
      " 0   User ID     3641 non-null   int64  \n",
      " 1   VisitorID   3641 non-null   object \n",
      " 2   ExternalID  2664 non-null   float64\n",
      " 3   Birth date  1679 non-null   object \n",
      " 4   Gender      3641 non-null   object \n",
      " 5   Location    3024 non-null   object \n",
      "dtypes: float64(1), int64(1), object(4)\n",
      "memory usage: 170.8+ KB\n",
      "None\n",
      " -----------------------------------------\n",
      "Empty DataFrame\n",
      "Columns: [User ID, VisitorID, ExternalID, Birth date, Gender, Location]\n",
      "Index: []\n"
     ]
    }
   ],
   "source": [
    "## Print summary of DF\n",
    "print(users.info())\n",
    "print(' -----------------------------------------')\n",
    "\n",
    "\n",
    "##shows first occurence of identical duplicate rows of data and assigns as variable for further analysis \n",
    "duplicates = users[users.duplicated()] \n",
    "print(duplicates)\n"
   ]
  },
  {
   "cell_type": "markdown",
   "id": "later-behavior",
   "metadata": {},
   "source": [
    "File 'conditions' contains information on 1311 individual users of the CleverCogs service. These users are included in the 'users' file but not everyone has an entry in the 'conditions' file. Data fields are 'ExternalID', 'CleverCogs User ID', 'Gender', 'Date of Birth', 'Age', 'Staff Plan Conditions' and 'Care Sys Conditions'. All fields are 'object' type except UserID and ExternalID, which are read in as 'float' and 'int' values. No whole-row duplicates are present. \n",
    "\n",
    "I see here that the data type of the External ID column differs between files, which will need to be corrected before merging. \n",
    "\n"
   ]
  },
  {
   "cell_type": "code",
   "execution_count": 4,
   "id": "precise-brake",
   "metadata": {
    "scrolled": true
   },
   "outputs": [
    {
     "name": "stdout",
     "output_type": "stream",
     "text": [
      "<class 'pandas.core.frame.DataFrame'>\n",
      "RangeIndex: 1311 entries, 0 to 1310\n",
      "Data columns (total 7 columns):\n",
      " #   Column               Non-Null Count  Dtype  \n",
      "---  ------               --------------  -----  \n",
      " 0   External ID          1311 non-null   object \n",
      " 1   CleverCogsUserId     1311 non-null   int64  \n",
      " 2   Gender               1311 non-null   object \n",
      " 3   DateOfBirth          1310 non-null   object \n",
      " 4   Age                  1310 non-null   float64\n",
      " 5   StaffPlanConditions  150 non-null    object \n",
      " 6   CareSysCondition     978 non-null    object \n",
      "dtypes: float64(1), int64(1), object(5)\n",
      "memory usage: 71.8+ KB\n",
      "None\n",
      "-----------------------------------------\n",
      "Empty DataFrame\n",
      "Columns: [External ID, CleverCogsUserId, Gender, DateOfBirth, Age, StaffPlanConditions, CareSysCondition]\n",
      "Index: []\n"
     ]
    }
   ],
   "source": [
    "## summary\n",
    "print(conditions.info())\n",
    "print('-----------------------------------------')\n",
    "\n",
    "##shows first occurence of identical duplicate rows of data and assigns as variable for further analysis \n",
    "duplicates = conditions[conditions.duplicated()] \n",
    "print(duplicates)\n"
   ]
  },
  {
   "cell_type": "markdown",
   "id": "defined-royal",
   "metadata": {},
   "source": [
    "Here, I have merged the user and condition data into one file containing demographic information, and I have also created a master file which matches the demographic data with every link accessed in the ccdate file. This means that all of the data is easily accessible in one place for further analysis, but I still have access to the individual files in their original format. "
   ]
  },
  {
   "cell_type": "code",
   "execution_count": 5,
   "id": "alternative-amino",
   "metadata": {},
   "outputs": [
    {
     "name": "stdout",
     "output_type": "stream",
     "text": [
      "        User ID                           VisitorID_x  ExternalID  \\\n",
      "0         609.0  A81B2A0C-7638-4756-A44C-AA4592FA7BD6      5325.0   \n",
      "1         609.0  A81B2A0C-7638-4756-A44C-AA4592FA7BD6      5325.0   \n",
      "2        4859.0  0F135CC1-E809-4C1F-8E6F-BD861288920D      8899.0   \n",
      "3        4859.0  0F135CC1-E809-4C1F-8E6F-BD861288920D      8899.0   \n",
      "4         609.0  A81B2A0C-7638-4756-A44C-AA4592FA7BD6      5325.0   \n",
      "...         ...                                   ...         ...   \n",
      "645014    893.0  D6A8031B-C0E2-492E-87DD-DFC07BBD178E      5055.0   \n",
      "645015    893.0  D6A8031B-C0E2-492E-87DD-DFC07BBD178E      5055.0   \n",
      "645016    893.0  D6A8031B-C0E2-492E-87DD-DFC07BBD178E      5055.0   \n",
      "645017    893.0  D6A8031B-C0E2-492E-87DD-DFC07BBD178E      5055.0   \n",
      "645018    893.0  D6A8031B-C0E2-492E-87DD-DFC07BBD178E      5055.0   \n",
      "\n",
      "               Birth date Gender_x  \\\n",
      "0                     NaN   Female   \n",
      "1                     NaN   Female   \n",
      "2        5/26/63 12:00 AM     Male   \n",
      "3        5/26/63 12:00 AM     Male   \n",
      "4                     NaN   Female   \n",
      "...                   ...      ...   \n",
      "645014  11/29/65 12:00 AM   Female   \n",
      "645015  11/29/65 12:00 AM   Female   \n",
      "645016  11/29/65 12:00 AM   Female   \n",
      "645017  11/29/65 12:00 AM   Female   \n",
      "645018  11/29/65 12:00 AM   Female   \n",
      "\n",
      "                                               Location_x  CleverCogsUserId  \\\n",
      "0       National/North/Stirling Council/Broom Care Hom...               NaN   \n",
      "1       National/North/Stirling Council/Broom Care Hom...               NaN   \n",
      "2       National/WEST /Glasgow City Council/Glasgow Ea...            4859.0   \n",
      "3       National/WEST /Glasgow City Council/Glasgow Ea...            4859.0   \n",
      "4       National/North/Stirling Council/Broom Care Hom...               NaN   \n",
      "...                                                   ...               ...   \n",
      "645014                       National/North/North Housing             893.0   \n",
      "645015                       National/North/North Housing             893.0   \n",
      "645016                       National/North/North Housing             893.0   \n",
      "645017                       National/North/North Housing             893.0   \n",
      "645018                       National/North/North Housing             893.0   \n",
      "\n",
      "       Gender_y DateOfBirth   Age StaffPlanConditions CareSysCondition  \\\n",
      "0           NaN         NaN   NaN                 NaN              NaN   \n",
      "1           NaN         NaN   NaN                 NaN              NaN   \n",
      "2             M  26/05/1963  58.0                 NaN           Cancer   \n",
      "3             M  26/05/1963  58.0                 NaN           Cancer   \n",
      "4           NaN         NaN   NaN                 NaN              NaN   \n",
      "...         ...         ...   ...                 ...              ...   \n",
      "645014        F  29/11/1965  56.0                 NaN     Spina Bifida   \n",
      "645015        F  29/11/1965  56.0                 NaN     Spina Bifida   \n",
      "645016        F  29/11/1965  56.0                 NaN     Spina Bifida   \n",
      "645017        F  29/11/1965  56.0                 NaN     Spina Bifida   \n",
      "645018        F  29/11/1965  56.0                 NaN     Spina Bifida   \n",
      "\n",
      "                   Time                           VisitorID_y  Role  \\\n",
      "0       11/1/21 5:10 PM  F7331B56-15F0-4793-9E09-5D9E2510A053  User   \n",
      "1       11/1/21 5:10 PM  F7331B56-15F0-4793-9E09-5D9E2510A053  User   \n",
      "2       11/1/21 5:08 PM  618B75EE-0A49-454C-82B7-6827A9BBA6A5  User   \n",
      "3       11/1/21 5:08 PM  618B75EE-0A49-454C-82B7-6827A9BBA6A5  User   \n",
      "4       11/1/21 5:07 PM  F7331B56-15F0-4793-9E09-5D9E2510A053  User   \n",
      "...                 ...                                   ...   ...   \n",
      "645014  1/1/18 12:46 AM  1BA7F190-33E1-4B53-A900-2ED503B41187  User   \n",
      "645015  1/1/18 12:46 AM  1BA7F190-33E1-4B53-A900-2ED503B41187  User   \n",
      "645016  1/1/18 12:29 AM  1BA7F190-33E1-4B53-A900-2ED503B41187  User   \n",
      "645017  1/1/18 12:20 AM  1BA7F190-33E1-4B53-A900-2ED503B41187  User   \n",
      "645018  1/1/18 12:20 AM  1BA7F190-33E1-4B53-A900-2ED503B41187  User   \n",
      "\n",
      "            Location_y        Link Title Link  Type  \\\n",
      "0          Broom Court     Comfort Break   Services   \n",
      "1          Broom Court           Ask For   Category   \n",
      "2       67 Glamis Road      My Care Team   Category   \n",
      "3       67 Glamis Road           My Care   Category   \n",
      "4          Broom Court  Family & Friends   Internet   \n",
      "...                ...               ...        ...   \n",
      "645014   North Housing          Facebook   Internet   \n",
      "645015   North Housing      My Interests   Category   \n",
      "645016   North Housing          Facebook   Internet   \n",
      "645017   North Housing          Facebook   Internet   \n",
      "645018   North Housing      My Interests   Category   \n",
      "\n",
      "                       ContentInfo                       URL  \n",
      "0       -1|329|10|Comfort Break|1|                      LIST  \n",
      "1                              NaN                       NaN  \n",
      "2                              NaN                       NaN  \n",
      "3                              NaN                       NaN  \n",
      "4                              NaN              contacts.asp  \n",
      "...                            ...                       ...  \n",
      "645014                         NaN  https://www.facebook.com  \n",
      "645015                         NaN                       NaN  \n",
      "645016                         NaN  https://www.facebook.com  \n",
      "645017                         NaN  https://www.facebook.com  \n",
      "645018                         NaN                       NaN  \n",
      "\n",
      "[645019 rows x 20 columns]\n"
     ]
    }
   ],
   "source": [
    "##renaming columns - the column names need to match if I want to merge using them as a reference point. \n",
    "conditions = conditions.rename(columns={\"External ID\": \"ExternalID\"}) \n",
    "\n",
    "## Removing rows with null values in External ID \n",
    "## Unless we have an external ID, these individuals cannot be accurately linked to their activity, so this data must be excluded\n",
    "## It is also not possible to merge a dataset using a column with null values.\n",
    "conditions = conditions.dropna(subset=[\"ExternalID\"])\n",
    "users = users.dropna(subset = ['ExternalID'])\n",
    "\n",
    "## Changing the type of the data to numeric and setting non-viable values to NaN - if we want to merge based on the same ID column across two datasets, it must \n",
    "## be in the same format. \n",
    "conditions['ExternalID'] = pd.to_numeric(conditions['ExternalID'],errors = 'coerce')\n",
    "users['ExternalID'] = pd.to_numeric(users['ExternalID'],errors = 'coerce')\n",
    "\n",
    "\n",
    "## Merging the two files together using the external ID, creating one file with all demographic data \n",
    "userinfo = pd.merge(users, conditions, on= \"ExternalID\", how = 'left') \n",
    "\n",
    "\n",
    "## merging the demographic file with the ccdate file to create a master sheet of all data.\n",
    "## merge data \n",
    "master = pd.merge(userinfo, ccdate, left_on=\"ExternalID\", right_on=\"ExternalID\", how = 'right')\n",
    "\n",
    "print(master)\n"
   ]
  },
  {
   "cell_type": "markdown",
   "id": "dense-programmer",
   "metadata": {},
   "source": [
    "Looking at the summary of the master dataset, I can see that several fields contain null values, but that everything has successfully merged and we have the expected number of entries. Depending on what aspect of the data is being analysed, I don't always have to exclude fields null values - for example, if I'm looking at links accessed but not interested in age, I wouldn't need to exclude fields without ages. This will depend on the type and direction of the analyses we decide to do for the final project.  \n",
    "\n",
    "Some columns have duplicated, such as gender and location. These columns may contain non-overlapping information, so I want to merge these individual columns too. However, it looks like there is no info missing from Gender_x that is present in Gender_y, so I simply remove the extra column. There is different data present for location in both columns, so I check that this has been carried over to column Gender_x and then delete column Gender_y. \n",
    "\n",
    "I also rename the columns for ease of use, and then remove extraneous ID fields. The only universal ID is the External ID so the others are not required. "
   ]
  },
  {
   "cell_type": "code",
   "execution_count": 6,
   "id": "wired-disabled",
   "metadata": {
    "scrolled": true
   },
   "outputs": [
    {
     "name": "stdout",
     "output_type": "stream",
     "text": [
      "<class 'pandas.core.frame.DataFrame'>\n",
      "Int64Index: 645019 entries, 0 to 645018\n",
      "Data columns (total 20 columns):\n",
      " #   Column               Non-Null Count   Dtype  \n",
      "---  ------               --------------   -----  \n",
      " 0   User ID              542418 non-null  float64\n",
      " 1   VisitorID_x          542418 non-null  object \n",
      " 2   ExternalID           542418 non-null  float64\n",
      " 3   Birth date           356256 non-null  object \n",
      " 4   Gender_x             542418 non-null  object \n",
      " 5   Location_x           534007 non-null  object \n",
      " 6   CleverCogsUserId     436408 non-null  float64\n",
      " 7   Gender_y             436408 non-null  object \n",
      " 8   DateOfBirth          436408 non-null  object \n",
      " 9   Age                  436408 non-null  float64\n",
      " 10  StaffPlanConditions  126876 non-null  object \n",
      " 11  CareSysCondition     340607 non-null  object \n",
      " 12  Time                 645019 non-null  object \n",
      " 13  VisitorID_y          645019 non-null  object \n",
      " 14  Role                 644171 non-null  object \n",
      " 15  Location_y           632033 non-null  object \n",
      " 16  Link Title           645019 non-null  object \n",
      " 17  Link  Type           645019 non-null  object \n",
      " 18  ContentInfo          22498 non-null   object \n",
      " 19  URL                  325062 non-null  object \n",
      "dtypes: float64(4), object(16)\n",
      "memory usage: 103.3+ MB\n",
      "None\n"
     ]
    }
   ],
   "source": [
    "print(master.info())\n",
    "\n",
    "## filling/combining information from duplicated columns \n",
    "master['Gender_x'] = master['Gender_x'].fillna(master['Gender_y'])\n",
    "master['Location_x'] = master['Location_x'].fillna(master['Location_y'])\n",
    "\n",
    "\n",
    "## renaming columns for ease of use \n",
    "master = master.rename(columns={\"Birth date\": \"Birth\",\n",
    "                                \"Gender_x\": \"Gender\", \n",
    "                                \"Location_x\":\"Location\", \n",
    "                                \"ExternalID\":\"ID\", \n",
    "                                \"StaffPlanConditions\":\"Staffcons\", \n",
    "                                \"CareSysCondition\":\"Carecons\", \n",
    "                                \"Link Title\":\"Linktitle\",\n",
    "                                \"Link  Type\": \"Linktype\"})\n",
    "\n",
    "## choosing to remove extraneous ID fields\n",
    "master = master.drop(columns = ['VisitorID_x', 'VisitorID_y','CleverCogsUserId','Gender_y','Location_y','User ID'])\n",
    "\n"
   ]
  },
  {
   "cell_type": "markdown",
   "id": "verified-titanium",
   "metadata": {},
   "source": [
    "I check the final number of different users who have recorded usage information. We only have 554 users out of a potential 3641 that actually have user data associated with their ID, and not everyone has a condition associated with their user profile. As not all users have a recorded condition, the chances of determining robust connections between user conditions and their accessed content is low, but we may be able to show relationships based on other deomographics.   "
   ]
  },
  {
   "cell_type": "code",
   "execution_count": 7,
   "id": "bright-billion",
   "metadata": {},
   "outputs": [
    {
     "name": "stdout",
     "output_type": "stream",
     "text": [
      "<class 'pandas.core.frame.DataFrame'>\n",
      "Int64Index: 645019 entries, 0 to 645018\n",
      "Data columns (total 14 columns):\n",
      " #   Column       Non-Null Count   Dtype  \n",
      "---  ------       --------------   -----  \n",
      " 0   ID           542418 non-null  float64\n",
      " 1   Birth        356256 non-null  object \n",
      " 2   Gender       542418 non-null  object \n",
      " 3   Location     632033 non-null  object \n",
      " 4   DateOfBirth  436408 non-null  object \n",
      " 5   Age          436408 non-null  float64\n",
      " 6   Staffcons    126876 non-null  object \n",
      " 7   Carecons     340607 non-null  object \n",
      " 8   Time         645019 non-null  object \n",
      " 9   Role         644171 non-null  object \n",
      " 10  Linktitle    645019 non-null  object \n",
      " 11  Linktype     645019 non-null  object \n",
      " 12  ContentInfo  22498 non-null   object \n",
      " 13  URL          325062 non-null  object \n",
      "dtypes: float64(2), object(12)\n",
      "memory usage: 73.8+ MB\n",
      "None\n",
      "5535.0    56744\n",
      "5325.0    30826\n",
      "9533.0    29760\n",
      "5207.0    29436\n",
      "9137.0    28196\n",
      "          ...  \n",
      "7903.0        1\n",
      "6293.0        1\n",
      "8431.0        1\n",
      "8353.0        1\n",
      "7313.0        1\n",
      "Name: ID, Length: 554, dtype: int64\n"
     ]
    }
   ],
   "source": [
    "## checking changes \n",
    "print(master.info())\n",
    "\n",
    "usercount = master['ID'].value_counts()\n",
    "print(usercount)"
   ]
  },
  {
   "cell_type": "markdown",
   "id": "celtic-abortion",
   "metadata": {},
   "source": []
  },
  {
   "cell_type": "markdown",
   "id": "blessed-malta",
   "metadata": {},
   "source": [
    "## Explore ## \n",
    "\n",
    "Carry out a deeper exploration of the data. This includes looking at individual\n",
    "fields/variables to see the distribution of values they take (e.g. evenly distributed, bell curves, bi-modal) or how they are distributed in time. It also includes relationships between variables in your dataset: are there correlations? In which direction? Complex curves? \n",
    "\n",
    "We would expect to see roughly:\n",
    "\n",
    "○ 4-5 exploratory visualisations, presented in a readable form, with an explanation about what you have found\n",
    "\n",
    "○ 1-2 relationships between variables analysed\n",
    "\n",
    "○ Ideas about trends, outliers, clusters\n",
    "\n",
    "○ Reference to statistics, i.e. a sense of which relationships are significant, and what claims you can back up"
   ]
  },
  {
   "cell_type": "markdown",
   "id": "declared-announcement",
   "metadata": {},
   "source": [
    "I wanted to look at the types and numbers of conditions/reasons for residency that Blackwood caters to, and which were most common in our dataset. I removed users with no specified care condition from my userinfo dataframe, then matched up the ID with the data from the master sheet to filter out any individuals with no usage data. \n",
    "\n",
    "The most commonly listed reason for residency is elderly care support. I was hoping that some of these conditions could be grouped for analysis, for example asthma and COPD could be combined under 'Respiratory Issues', but I am wary of reclassifying our data in that way without expertise. It may be possible that users with specific listed conditions show a group preference for certain types of content. "
   ]
  },
  {
   "cell_type": "code",
   "execution_count": 8,
   "id": "thermal-might",
   "metadata": {},
   "outputs": [
    {
     "data": {
      "text/plain": [
       "Text(0, 0.5, 'Number of Users')"
      ]
     },
     "execution_count": 8,
     "metadata": {},
     "output_type": "execute_result"
    },
    {
     "data": {
      "image/png": "[encoded data removed]",
      "text/plain": [
       "<Figure size 432x288 with 1 Axes>"
      ]
     },
     "metadata": {
      "needs_background": "light"
     },
     "output_type": "display_data"
    }
   ],
   "source": [
    "#strips white space out of text \n",
    "userinfo['CareSysCondition'] = userinfo['CareSysCondition'].str.strip()  \n",
    "\n",
    "#drops null values \n",
    "userinfo = userinfo.dropna(subset=[\"CareSysCondition\"])\n",
    "\n",
    "## creates list of rows from userinfo where the external ID is also present in master \n",
    "infomatch = master[\"ID\"].isin(userinfo[\"ExternalID\"])\n",
    "\n",
    "## creates new frame with only rows from userinfo where external ID is present in master \n",
    "userinfocut = userinfo.loc[infomatch, :]\n",
    "\n",
    "#counts number of occurences \n",
    "cons = userinfo[\"CareSysCondition\"].value_counts()\n",
    "\n",
    "##plots bar chart \n",
    "\n",
    "chart = cons.plot(y='number', kind='bar', title='Link Type Access')   \n",
    "chart.set_xlabel(\"Condition\")\n",
    "chart.set_ylabel(\"Number of Users\")"
   ]
  },
  {
   "cell_type": "markdown",
   "id": "fatty-graham",
   "metadata": {},
   "source": [
    "I first had a look at the distribution of our users ages. Age is often an important factor in uptake of new devices or technology, so I wondered if there was any relationship between resident age and frequency of use. The mean age is 60 (SD = 14). There is a wide range of ages as expected, given the many different conditions that Blackwood accommodates for. \n",
    "\n",
    "I notice some age outliers - there are multiple infants, and Blackwood does not provide services for infants. There are also multiple users with a recorded age of over 120 which given the average life expectancy seems very unlikely. These are likely to be errors in recording and should be excluded for any analysis by age group. For convenience in future analysis I create a new variable containing only the desired ages. "
   ]
  },
  {
   "cell_type": "code",
   "execution_count": 9,
   "id": "rental-fence",
   "metadata": {
    "scrolled": false
   },
   "outputs": [
    {
     "name": "stderr",
     "output_type": "stream",
     "text": [
      "/opt/conda/lib/python3.9/site-packages/seaborn/distributions.py:2557: FutureWarning: `distplot` is a deprecated function and will be removed in a future version. Please adapt your code to use either `displot` (a figure-level function with similar flexibility) or `histplot` (an axes-level function for histograms).\n",
      "  warnings.warn(msg, FutureWarning)\n"
     ]
    },
    {
     "data": {
      "image/png": "[encoded data removed]",
      "text/plain": [
       "<Figure size 432x288 with 1 Axes>"
      ]
     },
     "metadata": {
      "needs_background": "light"
     },
     "output_type": "display_data"
    }
   ],
   "source": [
    "ax = sn.distplot(master['Age']) "
   ]
  },
  {
   "cell_type": "code",
   "execution_count": 10,
   "id": "dress-tunisia",
   "metadata": {},
   "outputs": [
    {
     "name": "stdout",
     "output_type": "stream",
     "text": [
      "                  ID            Age\n",
      "count  433406.000000  433406.000000\n",
      "mean     6688.155711      60.279728\n",
      "std      1665.925899      14.410252\n",
      "min      4703.000000      20.000000\n",
      "25%      5341.000000      54.000000\n",
      "50%      5542.000000      65.000000\n",
      "75%      8643.000000      67.000000\n",
      "max      9594.000000     103.000000\n",
      "<class 'pandas.core.frame.DataFrame'>\n",
      "Int64Index: 433406 entries, 2 to 645018\n",
      "Data columns (total 14 columns):\n",
      " #   Column       Non-Null Count   Dtype  \n",
      "---  ------       --------------   -----  \n",
      " 0   ID           433406 non-null  float64\n",
      " 1   Birth        322308 non-null  object \n",
      " 2   Gender       433406 non-null  object \n",
      " 3   Location     425898 non-null  object \n",
      " 4   DateOfBirth  433406 non-null  object \n",
      " 5   Age          433406 non-null  float64\n",
      " 6   Staffcons    126876 non-null  object \n",
      " 7   Carecons     340547 non-null  object \n",
      " 8   Time         433406 non-null  object \n",
      " 9   Role         433406 non-null  object \n",
      " 10  Linktitle    433406 non-null  object \n",
      " 11  Linktype     433406 non-null  object \n",
      " 12  ContentInfo  16006 non-null   object \n",
      " 13  URL          212512 non-null  object \n",
      "dtypes: float64(2), object(12)\n",
      "memory usage: 49.6+ MB\n",
      "None\n"
     ]
    },
    {
     "name": "stderr",
     "output_type": "stream",
     "text": [
      "/opt/conda/lib/python3.9/site-packages/seaborn/distributions.py:2557: FutureWarning: `distplot` is a deprecated function and will be removed in a future version. Please adapt your code to use either `displot` (a figure-level function with similar flexibility) or `histplot` (an axes-level function for histograms).\n",
      "  warnings.warn(msg, FutureWarning)\n"
     ]
    },
    {
     "data": {
      "image/png": "[encoded data removed]",
      "text/plain": [
       "<Figure size 432x288 with 1 Axes>"
      ]
     },
     "metadata": {
      "needs_background": "light"
     },
     "output_type": "display_data"
    }
   ],
   "source": [
    "## Removing age outliers \n",
    "\n",
    "\n",
    "## Removes ages over 120 \n",
    "agecut = master[master[\"Age\"] <= 120]\n",
    "\n",
    "## Removes ages under 10\n",
    "agecut = agecut[agecut[\"Age\"] >= 18]\n",
    "print(agecut.describe())\n",
    "print(agecut.info())\n",
    "\n",
    "## replots age distribution\n",
    "ax = sn.distplot(agecut['Age']) \n",
    "\n",
    "\n"
   ]
  },
  {
   "cell_type": "markdown",
   "id": "voluntary-denial",
   "metadata": {},
   "source": [
    "To see the relationship between age and use frequency, I plotted the cleaned ages of each user against the number of links they accessed. The users who access the greatest number of links are in their 50s-60s. There does not appear to be a clear-cut relationship between age and useage frequency. \n",
    "\n",
    "This scatter plot does also show again that not many users are generating most of the link data through very frequent usage in comparison to other residents. \n",
    "\n",
    "I also separated the plot of use frequency vs age by gender, but at least in this larger overview there does not seem to be a clear trend of either gender having much greater usage frequency. In this case it's also hard to see the true scale of the usage because a handful of users have very high usage frequencies - they may need to be removed from deeper analysis. \n",
    "\n"
   ]
  },
  {
   "cell_type": "code",
   "execution_count": 11,
   "id": "suffering-precipitation",
   "metadata": {},
   "outputs": [
    {
     "data": {
      "text/plain": [
       "Text(0, 0.5, 'Overall Usage')"
      ]
     },
     "execution_count": 11,
     "metadata": {},
     "output_type": "execute_result"
    },
    {
     "data": {
      "image/png": "[encoded data removed]",
      "text/plain": [
       "<Figure size 432x288 with 1 Axes>"
      ]
     },
     "metadata": {
      "needs_background": "light"
     },
     "output_type": "display_data"
    }
   ],
   "source": [
    "## counts the number of links accessed by each user \n",
    "\n",
    "##creates new dataframe with ID and link counts \n",
    "usercount = agecut['ID'].value_counts().rename_axis('ID').reset_index(name='counts')\n",
    "\n",
    "\n",
    "## adds cleaned age data to the usercount dataframe \n",
    "usercount = usercount.merge(agecut[['ID', 'Age','Gender']], left_on='ID', right_on='ID')\n",
    "usercount = usercount.drop_duplicates()\n",
    "\n",
    "## sets variables for plotting \n",
    "x = usercount['Age']\n",
    "y = usercount['counts']\n",
    "\n",
    "sn.scatterplot(x = \"Age\", y = \"counts\", hue = \"Gender\", data= usercount)\n",
    "\n",
    "plt.xlabel(\"Age\")\n",
    "plt.ylabel(\"Overall Usage\")\n",
    "\n",
    "\n"
   ]
  },
  {
   "cell_type": "code",
   "execution_count": 12,
   "id": "serious-thriller",
   "metadata": {},
   "outputs": [
    {
     "data": {
      "text/plain": [
       "Text(0, 0.5, 'Overall Usage')"
      ]
     },
     "execution_count": 12,
     "metadata": {},
     "output_type": "execute_result"
    },
    {
     "data": {
      "image/png": "[encoded data removed]",
      "text/plain": [
       "<Figure size 432x288 with 1 Axes>"
      ]
     },
     "metadata": {
      "needs_background": "light"
     },
     "output_type": "display_data"
    }
   ],
   "source": [
    "usercount = usercount.merge(agecut[['ID','Gender']], left_on='ID', right_on='ID')\n",
    "\n",
    "## sets variables for plotting \n",
    "x = usercount['Age']\n",
    "y = usercount['counts']\n",
    "\n",
    "\n",
    "## plots chart \n",
    "chart = plt.scatter(x, y, s=3)\n",
    "plt.xlabel(\"Age\")\n",
    "plt.ylabel(\"Overall Usage\")\n"
   ]
  },
  {
   "cell_type": "markdown",
   "id": "valuable-examination",
   "metadata": {},
   "source": [
    "I thought it might also be interesting to see if different links are accessed at different times. To do this, I first looked at normal distribution of usage over time. I created a separate column which contains only the hour portion of the date and time data, then plotted links accessed per hour as a bar chart. This shows that usage drops during the night, which is expected, but is still ongoing. This could potentially be used as an indicator of poor sleep or nighttime disturbances. Usage then increases substantially during the day, with slight decreases which seem to correspond to mealtimes. The highest daily usage appears to happen around 3pm. \n",
    "\n",
    "Ideally I would want to calculate the mean links accessed per hour for every day and use these values instead for a more accurate idea - this is something I will take forward to the second half of the project. "
   ]
  },
  {
   "cell_type": "code",
   "execution_count": 13,
   "id": "juvenile-python",
   "metadata": {
    "scrolled": true
   },
   "outputs": [
    {
     "name": "stdout",
     "output_type": "stream",
     "text": [
      "0         01/11/2021\n",
      "1         01/11/2021\n",
      "2         01/11/2021\n",
      "3         01/11/2021\n",
      "4         01/11/2021\n",
      "             ...    \n",
      "645014    01/01/2018\n",
      "645015    01/01/2018\n",
      "645016    01/01/2018\n",
      "645017    01/01/2018\n",
      "645018    01/01/2018\n",
      "Name: Date, Length: 645019, dtype: object\n",
      "0         17:10:00\n",
      "1         17:10:00\n",
      "2         17:08:00\n",
      "3         17:08:00\n",
      "4         17:07:00\n",
      "            ...   \n",
      "645014    00:46:00\n",
      "645015    00:46:00\n",
      "645016    00:29:00\n",
      "645017    00:20:00\n",
      "645018    00:20:00\n",
      "Name: Time, Length: 645019, dtype: object\n"
     ]
    }
   ],
   "source": [
    "from datetime import datetime\n",
    "## creating new column and converting our date and time info to datetime objects\n",
    "master['DateTime'] = pd.to_datetime(master['Time']) \n",
    "\n",
    "## Separating the date and time information into two different columns \n",
    "master['Date'] = master['DateTime'].dt.strftime('%d/%m/%Y')\n",
    "master['Time'] = master['DateTime'].dt.strftime('%H:%M:%S')\n",
    "\n",
    "## print to check success \n",
    "print(master['Date'])\n",
    "print(master['Time'])"
   ]
  },
  {
   "cell_type": "code",
   "execution_count": 14,
   "id": "diverse-biography",
   "metadata": {
    "scrolled": false
   },
   "outputs": [
    {
     "data": {
      "text/plain": [
       "Text(0, 0.5, 'No. Links Accessed')"
      ]
     },
     "execution_count": 14,
     "metadata": {},
     "output_type": "execute_result"
    },
    {
     "data": {
      "image/png": "[encoded data removed]",
      "text/plain": [
       "<Figure size 432x288 with 1 Axes>"
      ]
     },
     "metadata": {
      "needs_background": "light"
     },
     "output_type": "display_data"
    }
   ],
   "source": [
    "## creating a new column which contains only the hour of the date and time data, acting as a 'bin'. \n",
    "master['hours'] = master['DateTime'].dt.strftime('%H')\n",
    "\n",
    "## counts links accessed during each hour \n",
    "x = master['hours'].value_counts()\n",
    "\n",
    "## sorts hours for plotting \n",
    "x = x.sort_index()\n",
    "\n",
    "## plots chart. \n",
    "chart = x.plot(y='number', kind='bar', title='24-Hour Usage Distribution')   \n",
    "chart.set_xlabel(\"Time\")\n",
    "chart.set_ylabel(\"No. Links Accessed\")\n"
   ]
  },
  {
   "cell_type": "markdown",
   "id": "resistant-theme",
   "metadata": {
    "scrolled": true
   },
   "source": [
    "I also wondered if this distribution over time was different for different types of content or for different links. For example, is radio accessed more often during the night to help people sleep, or is it more likely to be used during the morning? To do this I would need to understand more about the content being accessed. "
   ]
  },
  {
   "cell_type": "markdown",
   "id": "architectural-halloween",
   "metadata": {},
   "source": [
    "The most used links are Entertainment, Google and My Interests. However, this doesn't mean a lot without separating the content by link type first- two of the top three items are category types, meaning they are part of the internal organisation of the device and not 'content' in their own right. \n"
   ]
  },
  {
   "cell_type": "code",
   "execution_count": 15,
   "id": "curious-textbook",
   "metadata": {
    "scrolled": true
   },
   "outputs": [
    {
     "data": {
      "text/plain": [
       "Entertainment                 79410\n",
       "Google                        33985\n",
       "My Interests                  33258\n",
       "YouTube                       28299\n",
       "My Music                      24055\n",
       "                              ...  \n",
       "Free Tarot Readings               1\n",
       "Clubland Classics                 1\n",
       "Totenham Hotspur                  1\n",
       "Google Earth - Italy              1\n",
       "Broom Court Christmas Menu        1\n",
       "Name: Linktitle, Length: 1666, dtype: int64"
      ]
     },
     "execution_count": 15,
     "metadata": {},
     "output_type": "execute_result"
    }
   ],
   "source": [
    "master['Linktitle'].value_counts()\n"
   ]
  },
  {
   "cell_type": "markdown",
   "id": "casual-training",
   "metadata": {},
   "source": [
    "I then used value_counts to see which link types were most used, and then plotted this as a pie chart. By far, Category and Internet were the most commonly accessed link types. A pie chart is not the best way to view this - as the variation in usage is so huge, many of the types are not visible at all, so I replotted as a bar chart. Either way, we can see that internet links makes up the vast majority of content that individuals are accessing. I believe that breaking down this section will be the most useful in terms of understanding what content is popular.  \n"
   ]
  },
  {
   "cell_type": "code",
   "execution_count": 16,
   "id": "faced-involvement",
   "metadata": {
    "scrolled": true
   },
   "outputs": [
    {
     "name": "stdout",
     "output_type": "stream",
     "text": [
      "------------------------------------------------------\n",
      "------------------------------------------------------\n"
     ]
    },
    {
     "data": {
      "image/png": "[encoded data removed]",
      "text/plain": [
       "<Figure size 504x504 with 1 Axes>"
      ]
     },
     "metadata": {},
     "output_type": "display_data"
    }
   ],
   "source": [
    "type = master['Linktype']\n",
    "x = type.value_counts()\n",
    "\n",
    "## Link titles are each tagged with a type. The most common is 'category', which corresponds to internal orgnanisation of services, \n",
    "## eg radio stations, my interests, my care.  There are ten link types: Category, Internet, HTML page, Radio,             \n",
    "## Services, Gallery, Standard page, TV, MP3 player and Phone.\n",
    "print('------------------------------------------------------')\n",
    "\n",
    "\n",
    "# Set aspect ratio to be equal so that pie is drawn as a circle.\n",
    "pie = x.sort_values().plot.pie(y = 'Linktype', figsize=(7,7))\n",
    "\n",
    "plt.legend()\n",
    "##Plot a chart to show the difference in categories used - almost 100% of links are either category or internet. \n",
    "##Might be interesting to analyse each category separately. \n",
    "print('------------------------------------------------------')\n",
    "\n",
    "\n"
   ]
  },
  {
   "cell_type": "code",
   "execution_count": 17,
   "id": "thirty-hungary",
   "metadata": {},
   "outputs": [
    {
     "data": {
      "text/plain": [
       "Text(0, 0.5, 'No. Links Accessed')"
      ]
     },
     "execution_count": 17,
     "metadata": {},
     "output_type": "execute_result"
    },
    {
     "data": {
      "image/png": "[encoded data removed]",
      "text/plain": [
       "<Figure size 432x288 with 1 Axes>"
      ]
     },
     "metadata": {
      "needs_background": "light"
     },
     "output_type": "display_data"
    }
   ],
   "source": [
    "chart = x.plot(y='number', kind='bar', title='Link Type Access')   \n",
    "chart.set_xlabel(\"Link Types\")\n",
    "chart.set_ylabel(\"No. Links Accessed\")"
   ]
  },
  {
   "cell_type": "markdown",
   "id": "angry-mounting",
   "metadata": {},
   "source": [
    "Here, I have created separate variables for each type of link. This will make it easier to break down links in each type during the project. This also allows me to quickly get a better idea of the content being accessed and the range - for example, only 28 different radio stations are accessed vs 1477 different internet pages.\n",
    "\n",
    "I am also able to see the most popular content. One interesting thing that stands out to me is the high access for 'Celtic FC' in the internet category, as this is a highly specific interest. I noticed this earlier when looking at age vs usage and wonder if there are 'superusers' who much more regularly use devices than others, which may be a problem for analysis and skew the results. This lines up with the output I got when checking the External ID value counts earlier - the top user had accessed 56744 links, while the next most prolific user had only accessed 30826. I want to visualise this as it may be an issue when trying to draw conclusions from the data. \n",
    "\n",
    "\n",
    "\n"
   ]
  },
  {
   "cell_type": "code",
   "execution_count": 18,
   "id": "pursuant-senegal",
   "metadata": {
    "scrolled": true
   },
   "outputs": [
    {
     "name": "stdout",
     "output_type": "stream",
     "text": [
      "Entertainment                     79410\n",
      "My Interests                      33258\n",
      "My Music                          24055\n",
      "Play Games                        23215\n",
      "My Care                           23157\n",
      "                                  ...  \n",
      "Trucks and Tankers                    1\n",
      "Toilet                                1\n",
      "Bedrooms                              1\n",
      "Hallway                               1\n",
      "Local Information - Midlothian        1\n",
      "Name: Linktitle, Length: 101, dtype: int64\n",
      "---------------------------------------------------------\n",
      "Google                        33985\n",
      "YouTube                       28299\n",
      "Card Matching Games           23492\n",
      "Care Notes                    17188\n",
      "Celtic FC                     11854\n",
      "                              ...  \n",
      "ALISS                             1\n",
      "80s & 90s | Easy Listening        1\n",
      "Edith Piaf                        1\n",
      "Easy Listening Music 2            1\n",
      "Broom Court Christmas Menu        1\n",
      "Name: Linktitle, Length: 1477, dtype: int64\n",
      "---------------------------------------------------------\n",
      "Patience                 13100\n",
      "Bowling                   2088\n",
      "Beethoven Ode To Joy        19\n",
      "Virgin Radio                14\n",
      "Mr. Robot HTML Test 2       13\n",
      "24 Clock                     6\n",
      "HTML Form Test               4\n",
      "Series 2                     2\n",
      "Navy Comedy Film             1\n",
      "Name: Linktitle, dtype: int64\n",
      "---------------------------------------------------------\n",
      "Smooth Radio                   4529\n",
      "Forth 2                        1339\n",
      "BBC RADIO 2                     575\n",
      "BBC RADIO 1                     545\n",
      "Clyde 1 Direct Listen           519\n",
      "Clyde 1                         351\n",
      "Gold Radio                      348\n",
      "Forth 1- Direct Listen          324\n",
      "Classic FM                      314\n",
      "Clyde 2                         278\n",
      "BBC RADIO 3                     241\n",
      "BBC RADIO 4                     211\n",
      "BBC Scotland- Direct Listen     191\n",
      "BBC 6 Music                     168\n",
      "BBC 5 Live                      114\n",
      "BBC 5 Live Sports Extra         109\n",
      "Magic- Listen Direct             99\n",
      "Clyde 2 Direct Listen            91\n",
      "Northsound  1                    47\n",
      "Northsound 2                     21\n",
      "Kerrang Radio- Direct            10\n",
      "Central FM                        6\n",
      "TalkSport Radio- Direct           4\n",
      "Radio 4 Extra                     3\n",
      "TEST                              3\n",
      "NECR Radio                        3\n",
      "SHMU Radio                        3\n",
      "Virgin Radio                      2\n",
      "Name: Linktitle, dtype: int64\n",
      "---------------------------------------------------------\n",
      "Belses Christmas party        91\n",
      "Broom Court Christmas 2017    76\n",
      "Broom Court Greenhouse        69\n",
      "Vietnam Trip                  24\n",
      "Broom Court Photos            20\n",
      "Broom Barge Trip              14\n",
      "Communication Aides           13\n",
      "Broom Christmas Party 2015    12\n",
      "Test Gallery Florian           9\n",
      "gallery in category            6\n",
      "Repairs                        6\n",
      "Edinburgh Tattoo (Mandy M)     5\n",
      "test album                     4\n",
      "Petting Zoo at Maclehose       3\n",
      "UK Housing                     3\n",
      "Westlife Concert               3\n",
      "Margaret- Vietnam              3\n",
      "Christmas (Mandy M)            2\n",
      "Family                         2\n",
      "Raeden Carehome Photos         1\n",
      "Name: Linktitle, dtype: int64\n",
      "---------------------------------------------------------\n",
      "Comfort Break                               3628\n",
      "Pick Something Up                           1743\n",
      "Contact Staff                                902\n",
      "Help out of bed (2)                          314\n",
      "New Content Request                          174\n",
      "Help into bed   (2)                          107\n",
      "Alarm                                         30\n",
      "Wheelchair assistance                          9\n",
      "Slow to drain                                  5\n",
      "Bath                                           3\n",
      "SMILE - I JUST USED MY MICROWAVE               3\n",
      "Cup of Coffee                                  3\n",
      "SMILE - I JUST USED MY ELECTRIC OVEN           3\n",
      "SMILE -  I JUST USED MY ELECTRIC SHOWER        2\n",
      "Blocked Sink                                   2\n",
      "Shower                                         2\n",
      "Make your own appointment                      1\n",
      "SMILE - I JUST USED MY COFFEE MACHINE          1\n",
      "Breakfast                                      1\n",
      "Cigarette Break                                1\n",
      "Cup of Tea                                     1\n",
      "SMILE - I JUST USED MY KETTLE                  1\n",
      "SMILE - I JUST USED MY WASHING MACHINE         1\n",
      "Test Standard page + TimeLock with email       1\n",
      "Name: Linktitle, dtype: int64\n",
      "---------------------------------------------------------\n",
      "The National Care Standards    270\n",
      "No Power                        17\n",
      "Check my rent account            9\n",
      "Pay my rent                      5\n",
      "I WOULD LIKE TO HAVE A CHAT      4\n",
      "Mr. Robot HTML test              4\n",
      "Slow Draining                    3\n",
      "List of Snacks                   1\n",
      "Name: Linktitle, dtype: int64\n",
      "---------------------------------------------------------\n",
      "Google                        33985\n",
      "YouTube                       28299\n",
      "Card Matching Games           23492\n",
      "Care Notes                    17188\n",
      "Celtic FC                     11854\n",
      "                              ...  \n",
      "ALISS                             1\n",
      "80s & 90s | Easy Listening        1\n",
      "Edith Piaf                        1\n",
      "Easy Listening Music 2            1\n",
      "Broom Court Christmas Menu        1\n",
      "Name: Linktitle, Length: 1477, dtype: int64\n",
      "---------------------------------------------------------\n",
      "Game of Thrones            44\n",
      "Ice Skating                18\n",
      "Amazon Prime Video          4\n",
      "Game of Thrones YouTube     4\n",
      "Name: Linktitle, dtype: int64\n",
      "---------------------------------------------------------\n",
      "Report a Repair    1\n",
      "Name: Linktitle, dtype: int64\n"
     ]
    }
   ],
   "source": [
    "# creates a new df only containing rows where link type = category \n",
    "category = (master[master['Linktype']=='Category'])\n",
    "\n",
    "# counts the different links used within that type \n",
    "catcount = category['Linktitle'].value_counts()\n",
    "print(catcount)\n",
    "\n",
    "print('---------------------------------------------------------')\n",
    "\n",
    "internet = (master[master['Linktype']=='Internet'])\n",
    "intcount = internet['Linktitle'].value_counts()\n",
    "print(intcount)\n",
    "print('---------------------------------------------------------')\n",
    "\n",
    "html = (master[master['Linktype']=='HTML page'])\n",
    "htmlcount = html['Linktitle'].value_counts()\n",
    "print(htmlcount)\n",
    "\n",
    "print('---------------------------------------------------------')\n",
    "\n",
    "radio = (master[master['Linktype']=='Radio'])\n",
    "radcount = radio['Linktitle'].value_counts()\n",
    "print(radcount)\n",
    "print('---------------------------------------------------------')\n",
    "\n",
    "gallery = (master[master['Linktype']=='Gallery'])\n",
    "galcount = gallery['Linktitle'].value_counts()\n",
    "print(galcount)\n",
    "print('---------------------------------------------------------')\n",
    "\n",
    "services = (master[master['Linktype']=='Services'])\n",
    "servcount = services['Linktitle'].value_counts()\n",
    "print(servcount)\n",
    "print('---------------------------------------------------------')\n",
    "\n",
    "standard = (master[master['Linktype']=='Standard page'])\n",
    "stancount = standard['Linktitle'].value_counts()\n",
    "print(stancount)\n",
    "print('---------------------------------------------------------')\n",
    "\n",
    "mp3 = (master[master['Linktype']=='Internet'])\n",
    "mp3count = internet['Linktitle'].value_counts()\n",
    "print(mp3count)\n",
    "print('---------------------------------------------------------')\n",
    "\n",
    "tv = (master[master['Linktype']=='TV'])\n",
    "tvcount = tv['Linktitle'].value_counts()\n",
    "print(tvcount)\n",
    "print('---------------------------------------------------------')\n",
    "\n",
    "phone = (master[master['Linktype']=='Phone'])\n",
    "phcount = phone['Linktitle'].value_counts()\n",
    "print(phcount)"
   ]
  },
  {
   "cell_type": "markdown",
   "id": "green-stage",
   "metadata": {},
   "source": [
    "Here I plot the number of links accessed by each user using value_counts. This presents an issue for analysis - over 10% of ID-linked content has been accessed by the same user, and if we extend this to the top 5 users they account for over 30% of the ID-linked content. Their heavy usage will skew any relationships we find between demographics and content accessed unless we find a way to account for it. It may be possible that we will have to exclude data from some users or find a way to weight the data equally. \n",
    "\n",
    "I also have not accounted for the time range in which users are active - some users may join the survey later in the time frame. This could be accounted for in later analysis by using daily mean link access rather than overall. "
   ]
  },
  {
   "cell_type": "code",
   "execution_count": 22,
   "id": "unsigned-shield",
   "metadata": {},
   "outputs": [
    {
     "data": {
      "image/png": "[encoded data removed]",
      "text/plain": [
       "<Figure size 432x288 with 1 Axes>"
      ]
     },
     "metadata": {
      "needs_background": "light"
     },
     "output_type": "display_data"
    }
   ],
   "source": [
    "\n",
    "## plots usercount chart \n",
    "chart = usercount['counts'].plot(kind='bar', title='Individual Usage Distribution')   \n",
    "chart.set_ylabel(\"No. Links Accessed\")\n",
    "chart.set_xlabel(\"User\")\n",
    "\n",
    "## hides x axis labels due to very high label density. \n",
    "chart.axes.get_xaxis().set_visible(False)"
   ]
  },
  {
   "cell_type": "markdown",
   "id": "formed-uganda",
   "metadata": {},
   "source": [
    "Since I broke down my link data by type I want to explore other relationships within that data. I started by plotting radio usage over time and found that use of radio also continued throughout the night as overall usage did, but did not follow the same distribution during the day. Instead, there was a peak in usage at 6am, and then around 9am, which steadily declined throughout the day. However YouTube usage follows the same standard usage pattern. There is a possibility of other services or specific links being popular at different times of day, so it will be interesting to delve into these and compare them. If Blackwoods wishes to offer customised content, they may benefit from making it time-specific as well. "
   ]
  },
  {
   "cell_type": "code",
   "execution_count": 20,
   "id": "black-fantasy",
   "metadata": {},
   "outputs": [
    {
     "data": {
      "text/plain": [
       "Text(0, 0.5, 'No. Radio Links Accessed')"
      ]
     },
     "execution_count": 20,
     "metadata": {},
     "output_type": "execute_result"
    },
    {
     "data": {
      "image/png": "[encoded data removed]",
      "text/plain": [
       "<Figure size 432x288 with 1 Axes>"
      ]
     },
     "metadata": {
      "needs_background": "light"
     },
     "output_type": "display_data"
    }
   ],
   "source": [
    "## creating a new column which contains only the hour of the date and time data, acting as a 'bin'. \n",
    "x = radio['hours'].value_counts()\n",
    "\n",
    "## sorts hours for plotting \n",
    "x = x.sort_index()\n",
    "\n",
    "## plots chart. \n",
    "chart = x.plot(y='number', kind='bar', title='24-Hour Radio Usage Distribution')   \n",
    "chart.set_xlabel(\"Time\")\n",
    "chart.set_ylabel(\"No. Radio Links Accessed\")"
   ]
  },
  {
   "cell_type": "code",
   "execution_count": 21,
   "id": "imported-delivery",
   "metadata": {},
   "outputs": [
    {
     "data": {
      "text/plain": [
       "Text(0, 0.5, 'No. YouTube Links Accessed')"
      ]
     },
     "execution_count": 21,
     "metadata": {},
     "output_type": "execute_result"
    },
    {
     "data": {
      "image/png": "[encoded data removed]",
      "text/plain": [
       "<Figure size 432x288 with 1 Axes>"
      ]
     },
     "metadata": {
      "needs_background": "light"
     },
     "output_type": "display_data"
    }
   ],
   "source": [
    "## creating a new column which contains only the hour of the date and time data, acting as a 'bin'. \n",
    "youtube = master[master['Linktitle'] == 'YouTube']\n",
    "\n",
    "## sorts hours for plotting \n",
    "x = youtube['hours'].value_counts()\n",
    "x = x.sort_index()\n",
    "\n",
    "## plots chart. \n",
    "chart = x.plot(kind='bar', title='24-Hour YouTube Usage Distribution')   \n",
    "chart.set_xlabel(\"Time\")\n",
    "chart.set_ylabel(\"No. YouTube Links Accessed\")"
   ]
  },
  {
   "cell_type": "markdown",
   "id": "sacred-commission",
   "metadata": {},
   "source": [
    "\n",
    "## Reflect and Hypothesise: ## \n",
    "What do you think might be behind the relationships and\n",
    "distributions that you have found? How does your data relate to the world?In short, what\n",
    "hypotheses came up as you explored the data, and how would you go about testing them? We\n",
    "would expect to see:\n",
    "\n",
    "○ A 200 word reflection on the data\n",
    "\n",
    "This user data reflects the lifestyles of the people living with Blackwood - their daily routines, wake, sleep and meal times, their preferred entertainment, their favourite football teams or the kind of music they like.  Understanding how people use CleverCogs will allow Blackwood to improve the system and offer a better user experience, potentially improving quality of life within Blackwood homes.\n",
    "\n",
    "The dataset appeared very large at first glance - however, after cleaning, the true sample size is much smaller. I am beginning to understand the differences in working with data which has been gathered under experimental conditions for analysis, in comparison to 'real-world' data which is generated by users. We must be careful not to draw false conclusions based on low sample sizes, or samples skewed by individual users. I believe we will be able to analyse and present the data well, and draw out some useful relationships from it.  \n",
    "\n",
    "\n",
    "\n",
    "○ 3-5 hypotheses with an explanation of:\n",
    "\n",
    "    ■ What your hypothesis is\n",
    "    \n",
    "    ■ why you think that (referring to your graphs)\n",
    "    \n",
    "    ■ How you could go about testing it (note that this may include: further studies,\n",
    "    asking the data owner, using some advanced algorithms, checking each data point individually, etc..)\n",
    "\n",
    "NOTE: You don’t have to actually test the hypotheses - you just have to demonstrate that you have plausibly thought about how you would test them.\n",
    "\n",
    "**Hypothesis**: Older residents either feel less confident in using CleverCogs, or have less interest in using it. \n",
    "\n",
    "I believe this because there is a clear trend towards lower usage in older age groups. However, this is not the full picture, as there is also a trend towards lower usage in younger residents, with a clear peak in usage from users in their 50s - 60s.\n",
    "\n",
    "I would like to find out if residents also have their own devices, as perhaps younger users are more likely to use personal phones or laptops to access similar content and therefore use the CleverCogs system less. I should be able to get this information from the data owner.  \n",
    "\n",
    "\n",
    "**Hypothesis**: Residents prefer to use the radio in the morning.\n",
    "\n",
    "There is a peak in usage in the morning. This could just be a preference of having background noise and switching on the radio first thing, as there is no need to then interact with the system further, or they could also enjoy using the radio in the morning to help them wake up for the day. A survey or focus group with a set of users to explore why they use different services and what they get from them could provide more information on this. \n",
    "\n",
    "**Hypothesis**: Residents access CleverCogs during the night due to disturbed sleep, rather than actively choosing to stay awake. \n",
    "\n",
    "CleverCogs usage continues throughout the night. Several conditions listed can frequently cause disturbed sleep for different reasons. One example is arthritis, where increased pain is common during the night. There may be a difference in night usage depending on user condition, and it would also be interesting to offer an automated question/survey through CleverCogs to night-users to determine if they experienced adverse symptoms during the night. This may also yield information that leads to better care for these users.\n"
   ]
  }
 ],
 "metadata": {
  "kernelspec": {
   "display_name": "Python 3",
   "language": "python",
   "name": "python3"
  },
  "language_info": {
   "codemirror_mode": {
    "name": "ipython",
    "version": 3
   },
   "file_extension": ".py",
   "mimetype": "text/x-python",
   "name": "python",
   "nbconvert_exporter": "python",
   "pygments_lexer": "ipython3",
   "version": "3.9.2"
  }
 },
 "nbformat": 4,
 "nbformat_minor": 5
}
