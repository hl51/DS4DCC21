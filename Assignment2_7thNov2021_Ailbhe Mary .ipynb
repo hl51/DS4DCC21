{
 "cells": [
  {
   "cell_type": "markdown",
   "id": "asian-baker",
   "metadata": {},
   "source": [
    "I am looking at the data from CleverCogs. Clevercogs is an iPad app for people in residental care homes (elderly people and people with disabitiles). \n",
    "There are three dataset files. One containing infomation about the users (Users2021.csv), one containing information about their health condition (CustomerMedicalConditions04Nov21.csv) and one containing informtaion about how they used the app, e.g. when and what they used it for (CCDate20218-2021)\n",
    "\n",
    "For the purpose of this assignment, I will focus on the health condition data, and a little later on, the Users data.\n"
   ]
  },
  {
   "cell_type": "markdown",
   "id": "gentle-population",
   "metadata": {},
   "source": [
    "1. Start of Describe Section "
   ]
  },
  {
   "cell_type": "code",
   "execution_count": 7,
   "id": "increasing-quantity",
   "metadata": {},
   "outputs": [
    {
     "name": "stdout",
     "output_type": "stream",
     "text": [
      "  External ID  CleverCogsUserId Gender DateOfBirth   Age StaffPlanConditions  \\\n",
      "0        4703               685      F  04/07/1965  56.0                 NaN   \n",
      "1        4704               772      F  21/06/1940  81.0                 NaN   \n",
      "2        4706              1128      F  25/02/1931  90.0                 NaN   \n",
      "3        4707              1159      F  18/09/1982  39.0                 NaN   \n",
      "4        4708               784      F  20/12/1931  90.0                 NaN   \n",
      "\n",
      "  CareSysCondition  \n",
      "0     Spina Bifida  \n",
      "1             COPD  \n",
      "2         Dementia  \n",
      "3     Brain Injury  \n",
      "4              NaN  \n"
     ]
    }
   ],
   "source": [
    "import pandas as pd   ##### First I read in the data\n",
    "data = pd.read_csv(\"CustomerMedicalConditions04Nov21.csv\")\n",
    "print(data.head())  "
   ]
  },
  {
   "cell_type": "code",
   "execution_count": 8,
   "id": "suitable-infrared",
   "metadata": {},
   "outputs": [
    {
     "data": {
      "text/html": [
       "<div>\n",
       "<style scoped>\n",
       "    .dataframe tbody tr th:only-of-type {\n",
       "        vertical-align: middle;\n",
       "    }\n",
       "\n",
       "    .dataframe tbody tr th {\n",
       "        vertical-align: top;\n",
       "    }\n",
       "\n",
       "    .dataframe thead th {\n",
       "        text-align: right;\n",
       "    }\n",
       "</style>\n",
       "<table border=\"1\" class=\"dataframe\">\n",
       "  <thead>\n",
       "    <tr style=\"text-align: right;\">\n",
       "      <th></th>\n",
       "      <th>CleverCogsUserId</th>\n",
       "      <th>Age</th>\n",
       "    </tr>\n",
       "  </thead>\n",
       "  <tbody>\n",
       "    <tr>\n",
       "      <th>count</th>\n",
       "      <td>1311.000000</td>\n",
       "      <td>1310.000000</td>\n",
       "    </tr>\n",
       "    <tr>\n",
       "      <th>mean</th>\n",
       "      <td>2880.036613</td>\n",
       "      <td>72.752672</td>\n",
       "    </tr>\n",
       "    <tr>\n",
       "      <th>std</th>\n",
       "      <td>1671.725423</td>\n",
       "      <td>21.509496</td>\n",
       "    </tr>\n",
       "    <tr>\n",
       "      <th>min</th>\n",
       "      <td>0.000000</td>\n",
       "      <td>3.000000</td>\n",
       "    </tr>\n",
       "    <tr>\n",
       "      <th>25%</th>\n",
       "      <td>1519.500000</td>\n",
       "      <td>57.000000</td>\n",
       "    </tr>\n",
       "    <tr>\n",
       "      <th>50%</th>\n",
       "      <td>2392.000000</td>\n",
       "      <td>77.000000</td>\n",
       "    </tr>\n",
       "    <tr>\n",
       "      <th>75%</th>\n",
       "      <td>4798.500000</td>\n",
       "      <td>89.000000</td>\n",
       "    </tr>\n",
       "    <tr>\n",
       "      <th>max</th>\n",
       "      <td>5679.000000</td>\n",
       "      <td>121.000000</td>\n",
       "    </tr>\n",
       "  </tbody>\n",
       "</table>\n",
       "</div>"
      ],
      "text/plain": [
       "       CleverCogsUserId          Age\n",
       "count       1311.000000  1310.000000\n",
       "mean        2880.036613    72.752672\n",
       "std         1671.725423    21.509496\n",
       "min            0.000000     3.000000\n",
       "25%         1519.500000    57.000000\n",
       "50%         2392.000000    77.000000\n",
       "75%         4798.500000    89.000000\n",
       "max         5679.000000   121.000000"
      ]
     },
     "execution_count": 8,
     "metadata": {},
     "output_type": "execute_result"
    }
   ],
   "source": [
    "data.describe()  ##Here I have a quick look at the data to get an overview. "
   ]
  },
  {
   "cell_type": "markdown",
   "id": "metallic-guide",
   "metadata": {},
   "source": [
    "The data is in tabular format. "
   ]
  },
  {
   "cell_type": "code",
   "execution_count": 9,
   "id": "bronze-affiliation",
   "metadata": {},
   "outputs": [
    {
     "data": {
      "text/plain": [
       "(1311, 7)"
      ]
     },
     "execution_count": 9,
     "metadata": {},
     "output_type": "execute_result"
    }
   ],
   "source": [
    "data.shape"
   ]
  },
  {
   "cell_type": "raw",
   "id": "closed-finding",
   "metadata": {},
   "source": [
    "There are currently 1311 rows and 7 columns. "
   ]
  },
  {
   "cell_type": "code",
   "execution_count": 10,
   "id": "incredible-massachusetts",
   "metadata": {},
   "outputs": [
    {
     "name": "stdout",
     "output_type": "stream",
     "text": [
      "External ID             object\n",
      "CleverCogsUserId         int64\n",
      "Gender                  object\n",
      "DateOfBirth             object\n",
      "Age                    float64\n",
      "StaffPlanConditions     object\n",
      "CareSysCondition        object\n",
      "dtype: object\n"
     ]
    }
   ],
   "source": [
    "print(data.dtypes)  "
   ]
  },
  {
   "cell_type": "markdown",
   "id": "american-madness",
   "metadata": {},
   "source": [
    "The data is object types and floating numbers."
   ]
  },
  {
   "cell_type": "markdown",
   "id": "emerging-closer",
   "metadata": {},
   "source": [
    "Now I will clean the data and become more familiar with it. "
   ]
  },
  {
   "cell_type": "code",
   "execution_count": 11,
   "id": "inappropriate-undergraduate",
   "metadata": {},
   "outputs": [],
   "source": [
    "del data['CleverCogsUserId'] #### Here I delete this column as the provider of the data said it was useless. "
   ]
  },
  {
   "cell_type": "markdown",
   "id": "rough-providence",
   "metadata": {},
   "source": [
    "The data in this file is highly personal and sensitive given the vulnerabilty of the people in this service. It also contains information about their health conditions. For this reason there are user id column and an external Id column. I will use the external ID column for this assigment."
   ]
  },
  {
   "cell_type": "code",
   "execution_count": 12,
   "id": "compliant-olympus",
   "metadata": {},
   "outputs": [
    {
     "data": {
      "text/plain": [
       "array(['Spina Bifida', 'COPD', 'Dementia', 'Brain Injury', nan,\n",
       "       'Elderly Care/Support', 'Cerebral Palsy', 'Epilepsy',\n",
       "       'Multiple Sclerosis', 'Diabetes', 'Amputee',\n",
       "       'Learning Difficulties', 'Stroke', 'Visual Impairment',\n",
       "       'Arthritis', \"Huntington's\", 'Parkinsons', 'Down Syndrome',\n",
       "       'Progressive Supranuclear Palsy', 'Bi Polar Disorder',\n",
       "       'Lifelong Mobility Issues', 'Spinal Injury', 'Asthma',\n",
       "       'Muscular Dystrophy', 'Cerebellar Ataxia', 'Cancer',\n",
       "       'Mental Health Issues', 'OCD', 'Addiction Issues'], dtype=object)"
      ]
     },
     "execution_count": 12,
     "metadata": {},
     "output_type": "execute_result"
    }
   ],
   "source": [
    "data.CareSysCondition.unique() ##Here I have a look at the types of health conditions people have"
   ]
  },
  {
   "cell_type": "code",
   "execution_count": 13,
   "id": "herbal-stage",
   "metadata": {},
   "outputs": [
    {
     "data": {
      "text/plain": [
       "29"
      ]
     },
     "execution_count": 13,
     "metadata": {},
     "output_type": "execute_result"
    }
   ],
   "source": [
    "len(data.CareSysCondition.unique())#### There are 29 categories of health conditions"
   ]
  },
  {
   "cell_type": "markdown",
   "id": "digital-scientist",
   "metadata": {},
   "source": [
    "When I eyeball the data, I notice a lot of the StaffPlanConditions column is empty. It seems to \n",
    "contain the names of plans disabled person may need. I check how much of this column is empty. \n"
   ]
  },
  {
   "cell_type": "code",
   "execution_count": 14,
   "id": "enormous-drilling",
   "metadata": {},
   "outputs": [
    {
     "data": {
      "text/plain": [
       "1161"
      ]
     },
     "execution_count": 14,
     "metadata": {},
     "output_type": "execute_result"
    }
   ],
   "source": [
    "data[\"StaffPlanConditions\"].isna().sum()   "
   ]
  },
  {
   "cell_type": "markdown",
   "id": "engaging-individual",
   "metadata": {},
   "source": [
    "I notice a lot of this column is missing (1161 out of 1311). Perhaps adding a person's health plan is only a very recent practice within the services. I will delete this column as it does not seem to be able to provide much useful information on its own.\n",
    "\n",
    "However, then I thought, it could be useful if it is the *only* piece of information we have about an individual's health problems i.e. if the CareSysCondition column is empty. For this reason, when there is missing data in the CareSysCondition column, I decide to replace it with the data in the StaffPlanCondition column. This way, there will still be an indicator for what the individual's health problems are. "
   ]
  },
  {
   "cell_type": "code",
   "execution_count": 15,
   "id": "directed-optimum",
   "metadata": {},
   "outputs": [],
   "source": [
    "data.CareSysCondition.fillna(data.StaffPlanConditions, inplace=True)  \n",
    "del data['StaffPlanConditions']\n",
    "\n",
    "\n",
    "#### Here, I fill NA object in the StaffPlanConditions condtions with the information in the\n",
    "#CareSysCondition column. Then I delete the StaffPlanConditions column as it has no other purpose at this time. "
   ]
  },
  {
   "cell_type": "code",
   "execution_count": 16,
   "id": "polish-korea",
   "metadata": {},
   "outputs": [
    {
     "data": {
      "text/plain": [
       "array(['Spina Bifida', 'COPD', 'Dementia', 'Brain Injury', nan,\n",
       "       'Elderly Care/Support', 'Cerebral Palsy', 'Epilepsy',\n",
       "       'Multiple Sclerosis', 'Diabetes', 'Amputee',\n",
       "       'Learning Difficulties', 'Stroke', 'Visual Impairment',\n",
       "       'Arthritis', \"Huntington's\", 'Parkinsons', 'Down Syndrome',\n",
       "       'Progressive Supranuclear Palsy', 'Bi Polar Disorder',\n",
       "       'Lifelong Mobility Issues', 'Spinal Injury', 'Asthma',\n",
       "       'Muscular Dystrophy', 'Cerebellar Ataxia', 'Cancer',\n",
       "       'Motor Neurone                                     ',\n",
       "       'Osteoporosis                                      ',\n",
       "       'Dementia                                          ',\n",
       "       'Mental Health Issues', 'OCD', 'Addiction Issues',\n",
       "       'Prone to Falls                                    ',\n",
       "       'Stroke                                            ',\n",
       "       'Multiple Sclerosis                                '], dtype=object)"
      ]
     },
     "execution_count": 16,
     "metadata": {},
     "output_type": "execute_result"
    }
   ],
   "source": [
    "data.CareSysCondition.unique()  ##Here, I check the new levels of the CareSysCondition column "
   ]
  },
  {
   "cell_type": "markdown",
   "id": "increased-personality",
   "metadata": {},
   "source": [
    "I noticed some of the objects had large white spaces, e.g. \"Stroke       \"  and this was preventing it from being grouped with the other \"Stroke\". These are the items I filled with the StaffPlanConditions cells. \n",
    "\n",
    "In the code below, I removed leading and trailing white spaces "
   ]
  },
  {
   "cell_type": "markdown",
   "id": "textile-mouth",
   "metadata": {},
   "source": []
  },
  {
   "cell_type": "code",
   "execution_count": 17,
   "id": "animal-owner",
   "metadata": {},
   "outputs": [
    {
     "data": {
      "text/plain": [
       "array(['Spina Bifida', 'COPD', 'Dementia', 'Brain Injury', nan,\n",
       "       'Elderly Care/Support', 'Cerebral Palsy', 'Epilepsy',\n",
       "       'Multiple Sclerosis', 'Diabetes', 'Amputee',\n",
       "       'Learning Difficulties', 'Stroke', 'Visual Impairment',\n",
       "       'Arthritis', \"Huntington's\", 'Parkinsons', 'Down Syndrome',\n",
       "       'Progressive Supranuclear Palsy', 'Bi Polar Disorder',\n",
       "       'Lifelong Mobility Issues', 'Spinal Injury', 'Asthma',\n",
       "       'Muscular Dystrophy', 'Cerebellar Ataxia', 'Cancer',\n",
       "       'Motor Neurone', 'Osteoporosis', 'Mental Health Issues', 'OCD',\n",
       "       'Addiction Issues', 'Prone to Falls'], dtype=object)"
      ]
     },
     "execution_count": 17,
     "metadata": {},
     "output_type": "execute_result"
    }
   ],
   "source": [
    "data['CareSysCondition'] = data['CareSysCondition'].str.strip()\n",
    "## I remove leading and trailing white spaces \n",
    "\n",
    "data.CareSysCondition.unique() ##Then I check the levels again. They look good now.   "
   ]
  },
  {
   "cell_type": "code",
   "execution_count": 18,
   "id": "false-valentine",
   "metadata": {},
   "outputs": [
    {
     "data": {
      "text/plain": [
       "32"
      ]
     },
     "execution_count": 18,
     "metadata": {},
     "output_type": "execute_result"
    }
   ],
   "source": [
    "len(data.CareSysCondition.unique())"
   ]
  },
  {
   "cell_type": "markdown",
   "id": "clean-vocabulary",
   "metadata": {},
   "source": [
    "Now, there are 32 categories of health conditions people in the service have. Examples include physical disabilities like Spina bifida, Parkinsons, and also intellectual disabilites like Down's syndrome and Learning difficulties. The service also has a seperate category just called Elderly Care/Support for elderly people. Finally, the service provides services for people with mental health difficulties like addiction issues and bi polar disorder. It is a varied service obviously. "
   ]
  },
  {
   "cell_type": "code",
   "execution_count": 19,
   "id": "changed-algeria",
   "metadata": {},
   "outputs": [
    {
     "name": "stdout",
     "output_type": "stream",
     "text": [
      "  External ID Gender DateOfBirth   Age CareSysCondition\n",
      "0        4703      F  04/07/1965  56.0     Spina Bifida\n",
      "1        4704      F  21/06/1940  81.0             COPD\n",
      "2        4706      F  25/02/1931  90.0         Dementia\n",
      "3        4707      F  18/09/1982  39.0     Brain Injury\n",
      "4        4708      F  20/12/1931  90.0              NaN\n"
     ]
    }
   ],
   "source": [
    "print(data.head())   "
   ]
  },
  {
   "cell_type": "markdown",
   "id": "august-context",
   "metadata": {},
   "source": [
    "Now, I can see the data is cleaner. \n",
    "Next, I check for duplicates."
   ]
  },
  {
   "cell_type": "code",
   "execution_count": 20,
   "id": "rubber-phone",
   "metadata": {},
   "outputs": [
    {
     "name": "stdout",
     "output_type": "stream",
     "text": [
      "     External ID Gender DateOfBirth   Age    CareSysCondition\n",
      "247         5534      F  01/01/1956  65.0        Huntington's\n",
      "253         5539      F  29/12/1972  49.0      Cerebral Palsy\n",
      "256         5541      M  18/02/1954  67.0      Cerebral Palsy\n",
      "503         6152      M  01/03/1946  75.0  Multiple Sclerosis\n",
      "515         6165      M  04/10/1969  52.0              Stroke\n",
      "...          ...    ...         ...   ...                 ...\n",
      "1249        9366      F  07/08/1971  50.0   Bi Polar Disorder\n",
      "1250        9366      F  07/08/1971  50.0   Bi Polar Disorder\n",
      "1253        9374      M  30/09/1970  51.0            Epilepsy\n",
      "1254        9374      M  30/09/1970  51.0            Epilepsy\n",
      "1255        9374      M  30/09/1970  51.0            Epilepsy\n",
      "\n",
      "[96 rows x 5 columns]\n"
     ]
    }
   ],
   "source": [
    "duplicates = data[data.duplicated()] ##I check for duplicates \n",
    "print(duplicates)"
   ]
  },
  {
   "cell_type": "markdown",
   "id": "standard-exposure",
   "metadata": {},
   "source": [
    "There are 96 duplicates in the data. I remove these duplciates."
   ]
  },
  {
   "cell_type": "code",
   "execution_count": 21,
   "id": "living-breakfast",
   "metadata": {},
   "outputs": [
    {
     "name": "stdout",
     "output_type": "stream",
     "text": [
      "     External ID Gender DateOfBirth   Age    CareSysCondition\n",
      "0           4703      F  04/07/1965  56.0        Spina Bifida\n",
      "1           4704      F  21/06/1940  81.0                COPD\n",
      "2           4706      F  25/02/1931  90.0            Dementia\n",
      "3           4707      F  18/09/1982  39.0        Brain Injury\n",
      "4           4708      F  20/12/1931  90.0                 NaN\n",
      "...          ...    ...         ...   ...                 ...\n",
      "1306        9586      F  09/04/1932  89.0            Dementia\n",
      "1307        9594      M  08/10/1948  73.0  Multiple Sclerosis\n",
      "1308        9600      M  02/11/1952  69.0                 NaN\n",
      "1309        9604      M  26/05/1948  73.0                COPD\n",
      "1310        9605      F  19/05/1967  54.0                 NaN\n",
      "\n",
      "[1215 rows x 5 columns]\n"
     ]
    }
   ],
   "source": [
    "data = data.drop_duplicates() #here I remove duplicates. Now there are 1215 rows\n",
    "print(data)"
   ]
  },
  {
   "cell_type": "code",
   "execution_count": 22,
   "id": "suspended-pricing",
   "metadata": {},
   "outputs": [
    {
     "data": {
      "text/html": [
       "<div>\n",
       "<style scoped>\n",
       "    .dataframe tbody tr th:only-of-type {\n",
       "        vertical-align: middle;\n",
       "    }\n",
       "\n",
       "    .dataframe tbody tr th {\n",
       "        vertical-align: top;\n",
       "    }\n",
       "\n",
       "    .dataframe thead th {\n",
       "        text-align: right;\n",
       "    }\n",
       "</style>\n",
       "<table border=\"1\" class=\"dataframe\">\n",
       "  <thead>\n",
       "    <tr style=\"text-align: right;\">\n",
       "      <th></th>\n",
       "      <th>Age</th>\n",
       "    </tr>\n",
       "  </thead>\n",
       "  <tbody>\n",
       "    <tr>\n",
       "      <th>count</th>\n",
       "      <td>1214.000000</td>\n",
       "    </tr>\n",
       "    <tr>\n",
       "      <th>mean</th>\n",
       "      <td>73.758649</td>\n",
       "    </tr>\n",
       "    <tr>\n",
       "      <th>std</th>\n",
       "      <td>21.433966</td>\n",
       "    </tr>\n",
       "    <tr>\n",
       "      <th>min</th>\n",
       "      <td>3.000000</td>\n",
       "    </tr>\n",
       "    <tr>\n",
       "      <th>25%</th>\n",
       "      <td>59.000000</td>\n",
       "    </tr>\n",
       "    <tr>\n",
       "      <th>50%</th>\n",
       "      <td>78.000000</td>\n",
       "    </tr>\n",
       "    <tr>\n",
       "      <th>75%</th>\n",
       "      <td>89.000000</td>\n",
       "    </tr>\n",
       "    <tr>\n",
       "      <th>max</th>\n",
       "      <td>121.000000</td>\n",
       "    </tr>\n",
       "  </tbody>\n",
       "</table>\n",
       "</div>"
      ],
      "text/plain": [
       "               Age\n",
       "count  1214.000000\n",
       "mean     73.758649\n",
       "std      21.433966\n",
       "min       3.000000\n",
       "25%      59.000000\n",
       "50%      78.000000\n",
       "75%      89.000000\n",
       "max     121.000000"
      ]
     },
     "execution_count": 22,
     "metadata": {},
     "output_type": "execute_result"
    }
   ],
   "source": [
    "data.describe() ###here I want to look at age again. "
   ]
  },
  {
   "cell_type": "markdown",
   "id": "hairy-india",
   "metadata": {},
   "source": [
    "The majority of people in the home are over 57 years which makes sense as disabilites are more common in older age. I was surprised to see someone living to 121. The standard deviation is 21.43 years. There is quite a wide range of ages living in these services. \n",
    "\n",
    "When I look at this, it is odd that the youngest age is 3. This is probably a typo, but I should check if it is a typo. "
   ]
  },
  {
   "cell_type": "code",
   "execution_count": 23,
   "id": "breeding-support",
   "metadata": {},
   "outputs": [
    {
     "data": {
      "text/html": [
       "<div>\n",
       "<style scoped>\n",
       "    .dataframe tbody tr th:only-of-type {\n",
       "        vertical-align: middle;\n",
       "    }\n",
       "\n",
       "    .dataframe tbody tr th {\n",
       "        vertical-align: top;\n",
       "    }\n",
       "\n",
       "    .dataframe thead th {\n",
       "        text-align: right;\n",
       "    }\n",
       "</style>\n",
       "<table border=\"1\" class=\"dataframe\">\n",
       "  <thead>\n",
       "    <tr style=\"text-align: right;\">\n",
       "      <th></th>\n",
       "      <th>External ID</th>\n",
       "      <th>Gender</th>\n",
       "      <th>DateOfBirth</th>\n",
       "      <th>Age</th>\n",
       "      <th>CareSysCondition</th>\n",
       "    </tr>\n",
       "  </thead>\n",
       "  <tbody>\n",
       "    <tr>\n",
       "      <th>62</th>\n",
       "      <td>4777</td>\n",
       "      <td>M</td>\n",
       "      <td>01/01/2016</td>\n",
       "      <td>5.0</td>\n",
       "      <td>NaN</td>\n",
       "    </tr>\n",
       "    <tr>\n",
       "      <th>369</th>\n",
       "      <td>5749</td>\n",
       "      <td>F</td>\n",
       "      <td>18/04/2017</td>\n",
       "      <td>4.0</td>\n",
       "      <td>Multiple Sclerosis</td>\n",
       "    </tr>\n",
       "    <tr>\n",
       "      <th>408</th>\n",
       "      <td>5825</td>\n",
       "      <td>F</td>\n",
       "      <td>19/06/2017</td>\n",
       "      <td>4.0</td>\n",
       "      <td>NaN</td>\n",
       "    </tr>\n",
       "    <tr>\n",
       "      <th>556</th>\n",
       "      <td>6249</td>\n",
       "      <td>F</td>\n",
       "      <td>10/10/2014</td>\n",
       "      <td>7.0</td>\n",
       "      <td>NaN</td>\n",
       "    </tr>\n",
       "    <tr>\n",
       "      <th>646</th>\n",
       "      <td>7860</td>\n",
       "      <td>U</td>\n",
       "      <td>19/07/2018</td>\n",
       "      <td>3.0</td>\n",
       "      <td>NaN</td>\n",
       "    </tr>\n",
       "    <tr>\n",
       "      <th>655</th>\n",
       "      <td>7882</td>\n",
       "      <td>U</td>\n",
       "      <td>31/01/2014</td>\n",
       "      <td>7.0</td>\n",
       "      <td>NaN</td>\n",
       "    </tr>\n",
       "    <tr>\n",
       "      <th>661</th>\n",
       "      <td>7889</td>\n",
       "      <td>U</td>\n",
       "      <td>16/07/2018</td>\n",
       "      <td>3.0</td>\n",
       "      <td>NaN</td>\n",
       "    </tr>\n",
       "  </tbody>\n",
       "</table>\n",
       "</div>"
      ],
      "text/plain": [
       "    External ID Gender DateOfBirth  Age    CareSysCondition\n",
       "62         4777      M  01/01/2016  5.0                 NaN\n",
       "369        5749      F  18/04/2017  4.0  Multiple Sclerosis\n",
       "408        5825      F  19/06/2017  4.0                 NaN\n",
       "556        6249      F  10/10/2014  7.0                 NaN\n",
       "646        7860      U  19/07/2018  3.0                 NaN\n",
       "655        7882      U  31/01/2014  7.0                 NaN\n",
       "661        7889      U  16/07/2018  3.0                 NaN"
      ]
     },
     "execution_count": 23,
     "metadata": {},
     "output_type": "execute_result"
    }
   ],
   "source": [
    "data.loc[data['Age'] < 18]"
   ]
  },
  {
   "cell_type": "markdown",
   "id": "suitable-lighting",
   "metadata": {},
   "source": [
    "When I checked if this was a typo, it was not. The date of birth is in line with the age column. \n",
    "An explanation is that often, in services like this one, people who are not meant to be there will go anyway. For example, even though this service is for adults, children have been admitted. \n",
    "Perhaps, there was a family in crisis and this was the only place for them to which was nearby for the family. \n",
    "\n",
    "Next, I look at gender."
   ]
  },
  {
   "cell_type": "code",
   "execution_count": 24,
   "id": "choice-lesson",
   "metadata": {},
   "outputs": [
    {
     "data": {
      "text/html": [
       "<div>\n",
       "<style scoped>\n",
       "    .dataframe tbody tr th:only-of-type {\n",
       "        vertical-align: middle;\n",
       "    }\n",
       "\n",
       "    .dataframe tbody tr th {\n",
       "        vertical-align: top;\n",
       "    }\n",
       "\n",
       "    .dataframe thead th {\n",
       "        text-align: right;\n",
       "    }\n",
       "</style>\n",
       "<table border=\"1\" class=\"dataframe\">\n",
       "  <thead>\n",
       "    <tr style=\"text-align: right;\">\n",
       "      <th></th>\n",
       "      <th>External ID</th>\n",
       "      <th>Gender</th>\n",
       "      <th>DateOfBirth</th>\n",
       "      <th>Age</th>\n",
       "      <th>CareSysCondition</th>\n",
       "    </tr>\n",
       "  </thead>\n",
       "  <tbody>\n",
       "    <tr>\n",
       "      <th>209</th>\n",
       "      <td>5454</td>\n",
       "      <td>U</td>\n",
       "      <td>17/01/1925</td>\n",
       "      <td>96.0</td>\n",
       "      <td>Elderly Care/Support</td>\n",
       "    </tr>\n",
       "    <tr>\n",
       "      <th>545</th>\n",
       "      <td>6228</td>\n",
       "      <td>U</td>\n",
       "      <td>25/05/1900</td>\n",
       "      <td>121.0</td>\n",
       "      <td>NaN</td>\n",
       "    </tr>\n",
       "    <tr>\n",
       "      <th>548</th>\n",
       "      <td>6234</td>\n",
       "      <td>U</td>\n",
       "      <td>25/05/1900</td>\n",
       "      <td>121.0</td>\n",
       "      <td>NaN</td>\n",
       "    </tr>\n",
       "    <tr>\n",
       "      <th>549</th>\n",
       "      <td>6236</td>\n",
       "      <td>U</td>\n",
       "      <td>25/05/1900</td>\n",
       "      <td>121.0</td>\n",
       "      <td>NaN</td>\n",
       "    </tr>\n",
       "    <tr>\n",
       "      <th>551</th>\n",
       "      <td>6239</td>\n",
       "      <td>U</td>\n",
       "      <td>25/05/1900</td>\n",
       "      <td>121.0</td>\n",
       "      <td>NaN</td>\n",
       "    </tr>\n",
       "    <tr>\n",
       "      <th>...</th>\n",
       "      <td>...</td>\n",
       "      <td>...</td>\n",
       "      <td>...</td>\n",
       "      <td>...</td>\n",
       "      <td>...</td>\n",
       "    </tr>\n",
       "    <tr>\n",
       "      <th>1260</th>\n",
       "      <td>9390</td>\n",
       "      <td>U</td>\n",
       "      <td>06/10/1994</td>\n",
       "      <td>27.0</td>\n",
       "      <td>Learning Difficulties</td>\n",
       "    </tr>\n",
       "    <tr>\n",
       "      <th>1283</th>\n",
       "      <td>9424</td>\n",
       "      <td>U</td>\n",
       "      <td>15/11/1935</td>\n",
       "      <td>86.0</td>\n",
       "      <td>NaN</td>\n",
       "    </tr>\n",
       "    <tr>\n",
       "      <th>1285</th>\n",
       "      <td>9426</td>\n",
       "      <td>U</td>\n",
       "      <td>07/05/1955</td>\n",
       "      <td>66.0</td>\n",
       "      <td>NaN</td>\n",
       "    </tr>\n",
       "    <tr>\n",
       "      <th>1286</th>\n",
       "      <td>9427</td>\n",
       "      <td>U</td>\n",
       "      <td>19/11/1936</td>\n",
       "      <td>85.0</td>\n",
       "      <td>Elderly Care/Support</td>\n",
       "    </tr>\n",
       "    <tr>\n",
       "      <th>1294</th>\n",
       "      <td>9474</td>\n",
       "      <td>U</td>\n",
       "      <td>26/09/1974</td>\n",
       "      <td>47.0</td>\n",
       "      <td>NaN</td>\n",
       "    </tr>\n",
       "  </tbody>\n",
       "</table>\n",
       "<p>75 rows × 5 columns</p>\n",
       "</div>"
      ],
      "text/plain": [
       "     External ID Gender DateOfBirth    Age       CareSysCondition\n",
       "209         5454      U  17/01/1925   96.0   Elderly Care/Support\n",
       "545         6228      U  25/05/1900  121.0                    NaN\n",
       "548         6234      U  25/05/1900  121.0                    NaN\n",
       "549         6236      U  25/05/1900  121.0                    NaN\n",
       "551         6239      U  25/05/1900  121.0                    NaN\n",
       "...          ...    ...         ...    ...                    ...\n",
       "1260        9390      U  06/10/1994   27.0  Learning Difficulties\n",
       "1283        9424      U  15/11/1935   86.0                    NaN\n",
       "1285        9426      U  07/05/1955   66.0                    NaN\n",
       "1286        9427      U  19/11/1936   85.0   Elderly Care/Support\n",
       "1294        9474      U  26/09/1974   47.0                    NaN\n",
       "\n",
       "[75 rows x 5 columns]"
      ]
     },
     "execution_count": 24,
     "metadata": {},
     "output_type": "execute_result"
    }
   ],
   "source": [
    "data.Gender.unique()    #Next I look at Gender. I noticed there are a lot of 'U', meaning unspecified. \n",
    "\n",
    "data.loc[data['Gender'] == 'U']   #There are 75 column with unspecified gender information."
   ]
  },
  {
   "cell_type": "markdown",
   "id": "tight-chester",
   "metadata": {},
   "source": [
    "However, I remember that the other dataframe called Users2021.csv may contain inforamtion on gender. I decide to read it in, and see if it can help me define some of the rows which say U in the health information data set. "
   ]
  },
  {
   "cell_type": "code",
   "execution_count": 25,
   "id": "expected-funds",
   "metadata": {},
   "outputs": [
    {
     "data": {
      "text/html": [
       "<div>\n",
       "<style scoped>\n",
       "    .dataframe tbody tr th:only-of-type {\n",
       "        vertical-align: middle;\n",
       "    }\n",
       "\n",
       "    .dataframe tbody tr th {\n",
       "        vertical-align: top;\n",
       "    }\n",
       "\n",
       "    .dataframe thead th {\n",
       "        text-align: right;\n",
       "    }\n",
       "</style>\n",
       "<table border=\"1\" class=\"dataframe\">\n",
       "  <thead>\n",
       "    <tr style=\"text-align: right;\">\n",
       "      <th></th>\n",
       "      <th>User ID</th>\n",
       "      <th>VisitorID</th>\n",
       "      <th>ExternalID</th>\n",
       "      <th>Birth date</th>\n",
       "      <th>Gender</th>\n",
       "      <th>Location</th>\n",
       "    </tr>\n",
       "  </thead>\n",
       "  <tbody>\n",
       "    <tr>\n",
       "      <th>0</th>\n",
       "      <td>213</td>\n",
       "      <td>7447300C-B772-4779-9AC8-0A28B5BBBFF4</td>\n",
       "      <td>NaN</td>\n",
       "      <td>NaN</td>\n",
       "      <td>Male</td>\n",
       "      <td>NaN</td>\n",
       "    </tr>\n",
       "    <tr>\n",
       "      <th>1</th>\n",
       "      <td>298</td>\n",
       "      <td>F298F6B9-77E2-459D-96EE-F588FA2BC5B1</td>\n",
       "      <td>NaN</td>\n",
       "      <td>NaN</td>\n",
       "      <td>Male</td>\n",
       "      <td>NaN</td>\n",
       "    </tr>\n",
       "    <tr>\n",
       "      <th>2</th>\n",
       "      <td>314</td>\n",
       "      <td>5E896124-3F0E-4D01-915D-BAE9B3F1A39A</td>\n",
       "      <td>NaN</td>\n",
       "      <td>NaN</td>\n",
       "      <td>Male</td>\n",
       "      <td>NaN</td>\n",
       "    </tr>\n",
       "    <tr>\n",
       "      <th>3</th>\n",
       "      <td>370</td>\n",
       "      <td>E71C1EB8-6E61-4DB5-BE19-8E3AB8FBE95C</td>\n",
       "      <td>999.0</td>\n",
       "      <td>NaN</td>\n",
       "      <td>Male</td>\n",
       "      <td>Aberdeen Council</td>\n",
       "    </tr>\n",
       "    <tr>\n",
       "      <th>4</th>\n",
       "      <td>387</td>\n",
       "      <td>D7686862-D926-49CB-93CA-B8676CA2A91A</td>\n",
       "      <td>NaN</td>\n",
       "      <td>NaN</td>\n",
       "      <td>Male</td>\n",
       "      <td>NaN</td>\n",
       "    </tr>\n",
       "    <tr>\n",
       "      <th>...</th>\n",
       "      <td>...</td>\n",
       "      <td>...</td>\n",
       "      <td>...</td>\n",
       "      <td>...</td>\n",
       "      <td>...</td>\n",
       "      <td>...</td>\n",
       "    </tr>\n",
       "    <tr>\n",
       "      <th>3636</th>\n",
       "      <td>5671</td>\n",
       "      <td>5CEA1684-0922-49E7-859D-40A8DF20B4B6</td>\n",
       "      <td>9601.0</td>\n",
       "      <td>9/24/02 12:00 AM</td>\n",
       "      <td>Female</td>\n",
       "      <td>National/North/Stirling Council/Forth Valley C@H</td>\n",
       "    </tr>\n",
       "    <tr>\n",
       "      <th>3637</th>\n",
       "      <td>5672</td>\n",
       "      <td>7AA63722-737A-4313-966A-320842DD26C9</td>\n",
       "      <td>NaN</td>\n",
       "      <td>NaN</td>\n",
       "      <td>Female</td>\n",
       "      <td>National</td>\n",
       "    </tr>\n",
       "    <tr>\n",
       "      <th>3638</th>\n",
       "      <td>5673</td>\n",
       "      <td>1A7A9E9B-F89A-444C-9817-C5E2C2D06BFA</td>\n",
       "      <td>NaN</td>\n",
       "      <td>NaN</td>\n",
       "      <td>Female</td>\n",
       "      <td>National</td>\n",
       "    </tr>\n",
       "    <tr>\n",
       "      <th>3639</th>\n",
       "      <td>5674</td>\n",
       "      <td>F60407F3-CEE0-485C-AECB-B0CFE4ECBCC8</td>\n",
       "      <td>9602.0</td>\n",
       "      <td>12/22/01 12:00 AM</td>\n",
       "      <td>Female</td>\n",
       "      <td>National/EAST /Edinburgh City Council/Edinburg...</td>\n",
       "    </tr>\n",
       "    <tr>\n",
       "      <th>3640</th>\n",
       "      <td>5676</td>\n",
       "      <td>BE652161-DEAF-4A3F-9A76-F8D1E4E99B49</td>\n",
       "      <td>9603.0</td>\n",
       "      <td>NaN</td>\n",
       "      <td>Male</td>\n",
       "      <td>National/North/Dundee City Council/Menzieshill...</td>\n",
       "    </tr>\n",
       "  </tbody>\n",
       "</table>\n",
       "<p>3641 rows × 6 columns</p>\n",
       "</div>"
      ],
      "text/plain": [
       "      User ID                             VisitorID  ExternalID  \\\n",
       "0         213  7447300C-B772-4779-9AC8-0A28B5BBBFF4         NaN   \n",
       "1         298  F298F6B9-77E2-459D-96EE-F588FA2BC5B1         NaN   \n",
       "2         314  5E896124-3F0E-4D01-915D-BAE9B3F1A39A         NaN   \n",
       "3         370  E71C1EB8-6E61-4DB5-BE19-8E3AB8FBE95C       999.0   \n",
       "4         387  D7686862-D926-49CB-93CA-B8676CA2A91A         NaN   \n",
       "...       ...                                   ...         ...   \n",
       "3636     5671  5CEA1684-0922-49E7-859D-40A8DF20B4B6      9601.0   \n",
       "3637     5672  7AA63722-737A-4313-966A-320842DD26C9         NaN   \n",
       "3638     5673  1A7A9E9B-F89A-444C-9817-C5E2C2D06BFA         NaN   \n",
       "3639     5674  F60407F3-CEE0-485C-AECB-B0CFE4ECBCC8      9602.0   \n",
       "3640     5676  BE652161-DEAF-4A3F-9A76-F8D1E4E99B49      9603.0   \n",
       "\n",
       "             Birth date  Gender  \\\n",
       "0                   NaN    Male   \n",
       "1                   NaN    Male   \n",
       "2                   NaN    Male   \n",
       "3                   NaN    Male   \n",
       "4                   NaN    Male   \n",
       "...                 ...     ...   \n",
       "3636   9/24/02 12:00 AM  Female   \n",
       "3637                NaN  Female   \n",
       "3638                NaN  Female   \n",
       "3639  12/22/01 12:00 AM  Female   \n",
       "3640                NaN    Male   \n",
       "\n",
       "                                               Location  \n",
       "0                                                   NaN  \n",
       "1                                                   NaN  \n",
       "2                                                   NaN  \n",
       "3                                      Aberdeen Council  \n",
       "4                                                   NaN  \n",
       "...                                                 ...  \n",
       "3636   National/North/Stirling Council/Forth Valley C@H  \n",
       "3637                                           National  \n",
       "3638                                           National  \n",
       "3639  National/EAST /Edinburgh City Council/Edinburg...  \n",
       "3640  National/North/Dundee City Council/Menzieshill...  \n",
       "\n",
       "[3641 rows x 6 columns]"
      ]
     },
     "execution_count": 25,
     "metadata": {},
     "output_type": "execute_result"
    }
   ],
   "source": [
    "import pandas as pd   #####  I read in the data\n",
    "users = pd.read_csv(\"Users2021.csv\")\n",
    "\n",
    "users"
   ]
  },
  {
   "cell_type": "markdown",
   "id": "coordinate-uzbekistan",
   "metadata": {},
   "source": [
    "The Users  dataset has more informaiton about gender. I decide to fill where it says U with the category in the Users2021 dataset. i.e. if it says U in the health condition dataset, I will fill it with F or M (for female and male) if this information is in the Users dataset. \n",
    "\n",
    "To do this, I will merge these two data sets. I will need a key. \n",
    "The External ID column will serve as the key. \n",
    "Lynda (provider of the data) said this is a suitable key across datasets. \n",
    "\n",
    "First, I must ensure that External ID in both datasets is in the same data type. \n",
    "Below I check and realise it is a float in one dataset and a obejct in the other. \n",
    "\n",
    "I change this using the to numeric function. "
   ]
  },
  {
   "cell_type": "code",
   "execution_count": 26,
   "id": "persistent-tension",
   "metadata": {},
   "outputs": [
    {
     "name": "stdout",
     "output_type": "stream",
     "text": [
      "External ID          object\n",
      "Gender               object\n",
      "DateOfBirth          object\n",
      "Age                 float64\n",
      "CareSysCondition     object\n",
      "dtype: object\n",
      "User ID         int64\n",
      "VisitorID      object\n",
      "ExternalID    float64\n",
      "Birth date     object\n",
      "Gender         object\n",
      "Location       object\n",
      "dtype: object\n"
     ]
    }
   ],
   "source": [
    "print(data.dtypes)   \n",
    "    \n",
    "print(users.dtypes)\n",
    "\n",
    "###Checking to see what the data type is in both data sets. "
   ]
  },
  {
   "cell_type": "code",
   "execution_count": null,
   "id": "fallen-object",
   "metadata": {},
   "outputs": [],
   "source": []
  },
  {
   "cell_type": "code",
   "execution_count": 27,
   "id": "retired-invalid",
   "metadata": {},
   "outputs": [],
   "source": [
    "data['External ID'] = pd.to_numeric(data['External ID'],errors = 'coerce')\n",
    "#I change External ID to float data type."
   ]
  },
  {
   "cell_type": "code",
   "execution_count": 28,
   "id": "clear-tourist",
   "metadata": {},
   "outputs": [
    {
     "name": "stdout",
     "output_type": "stream",
     "text": [
      "External ID         float64\n",
      "Gender               object\n",
      "DateOfBirth          object\n",
      "Age                 float64\n",
      "CareSysCondition     object\n",
      "dtype: object\n",
      "User ID         int64\n",
      "VisitorID      object\n",
      "ExternalID    float64\n",
      "Birth date     object\n",
      "Gender         object\n",
      "Location       object\n",
      "dtype: object\n"
     ]
    }
   ],
   "source": [
    "print(data.dtypes) \n",
    "    \n",
    "print(users.dtypes)  \n",
    "\n",
    "###Now they External ID in both datasets is a float data type. "
   ]
  },
  {
   "cell_type": "code",
   "execution_count": null,
   "id": "decreased-cylinder",
   "metadata": {},
   "outputs": [],
   "source": []
  },
  {
   "cell_type": "markdown",
   "id": "sharing-investor",
   "metadata": {},
   "source": [
    "The last thing I have to do is remove rows where External ID is missing. \n",
    "I do this for both datasets. "
   ]
  },
  {
   "cell_type": "code",
   "execution_count": 29,
   "id": "identified-exception",
   "metadata": {},
   "outputs": [
    {
     "data": {
      "text/plain": [
       "977"
      ]
     },
     "execution_count": 29,
     "metadata": {},
     "output_type": "execute_result"
    }
   ],
   "source": [
    "users[\"ExternalID\"].isna().sum() #### here I check how many rows have the column External ID missing \n",
    "##Answer was 977"
   ]
  },
  {
   "cell_type": "code",
   "execution_count": 30,
   "id": "divided-penny",
   "metadata": {},
   "outputs": [],
   "source": [
    "users = users[users['ExternalID'].notna()]#### here I remove rows where External ID was nan "
   ]
  },
  {
   "cell_type": "code",
   "execution_count": 31,
   "id": "contained-saturday",
   "metadata": {},
   "outputs": [
    {
     "data": {
      "text/plain": [
       "1"
      ]
     },
     "execution_count": 31,
     "metadata": {},
     "output_type": "execute_result"
    }
   ],
   "source": [
    "data[\"External ID\"].isna().sum() ##here I check how many rows have the column External I"
   ]
  },
  {
   "cell_type": "code",
   "execution_count": 32,
   "id": "stainless-entity",
   "metadata": {},
   "outputs": [],
   "source": [
    "data = data[data['External ID'].notna()]#### here I remove rows where External ID was nan"
   ]
  },
  {
   "cell_type": "markdown",
   "id": "renewable-coalition",
   "metadata": {},
   "source": [
    "Finally, I am ready to merge the two data sets using the key External ID. \n",
    "In the users data set the key is called ExternalID with no space and in the other dataset its called External ID. "
   ]
  },
  {
   "cell_type": "code",
   "execution_count": 33,
   "id": "raising-supervisor",
   "metadata": {},
   "outputs": [
    {
     "name": "stdout",
     "output_type": "stream",
     "text": [
      "   User ID                             VisitorID  ExternalID  \\\n",
      "0    685.0  77F5CE34-CB30-422B-A9D6-09DED9937A81      4703.0   \n",
      "1    772.0  3138098D-9B74-4283-AF3C-C96CBD35E445      4704.0   \n",
      "2   1128.0  08A188D2-1EA2-4FEC-9B50-3EF86948FD4C      4706.0   \n",
      "3   1159.0  FDD3EE52-DCF3-43AC-A661-3A12F3898BB4      4707.0   \n",
      "4    784.0  54AAEFF9-E4E8-46FC-B6FA-26BBF6C7098D      4708.0   \n",
      "\n",
      "          Birth date Gender_x                                      Location  \\\n",
      "0    7/4/65 12:00 AM   Female               Dundee City Council/Menzieshill   \n",
      "1                NaN   Female  Dundee City Council/Douglas & Broughty Ferry   \n",
      "2                NaN   Female  Dundee City Council/Douglas & Broughty Ferry   \n",
      "3   9/18/82 12:00 AM   Female               Dundee City Council/Menzieshill   \n",
      "4  12/20/31 12:00 AM   Female               Dundee City Council/Menzieshill   \n",
      "\n",
      "   External ID Gender_y DateOfBirth   Age CareSysCondition  \n",
      "0       4703.0        F  04/07/1965  56.0     Spina Bifida  \n",
      "1       4704.0        F  21/06/1940  81.0             COPD  \n",
      "2       4706.0        F  25/02/1931  90.0         Dementia  \n",
      "3       4707.0        F  18/09/1982  39.0     Brain Injury  \n",
      "4       4708.0        F  20/12/1931  90.0              NaN  \n"
     ]
    }
   ],
   "source": [
    "new = pd.merge(users, data, left_on=\"ExternalID\", right_on=\"External ID\", how = 'right')\n",
    "\n",
    "print(new.head())   \n"
   ]
  },
  {
   "cell_type": "code",
   "execution_count": null,
   "id": "eleven-permission",
   "metadata": {},
   "outputs": [],
   "source": []
  },
  {
   "cell_type": "code",
   "execution_count": 34,
   "id": "plastic-spell",
   "metadata": {},
   "outputs": [],
   "source": [
    "del new['VisitorID']  ###Here I am removing the rows I dont neeed, to make it cleaner. "
   ]
  },
  {
   "cell_type": "code",
   "execution_count": 35,
   "id": "painful-accessory",
   "metadata": {},
   "outputs": [],
   "source": [
    "del new['User ID']"
   ]
  },
  {
   "cell_type": "code",
   "execution_count": 36,
   "id": "tamil-report",
   "metadata": {},
   "outputs": [],
   "source": [
    "del new['Birth date']"
   ]
  },
  {
   "cell_type": "code",
   "execution_count": 37,
   "id": "colonial-waters",
   "metadata": {},
   "outputs": [],
   "source": [
    "del new['Location']"
   ]
  },
  {
   "cell_type": "code",
   "execution_count": 38,
   "id": "electric-kidney",
   "metadata": {},
   "outputs": [],
   "source": [
    "del new['DateOfBirth']"
   ]
  },
  {
   "cell_type": "code",
   "execution_count": 39,
   "id": "loved-performance",
   "metadata": {},
   "outputs": [
    {
     "name": "stdout",
     "output_type": "stream",
     "text": [
      "   ExternalID Gender_x  External ID Gender_y   Age CareSysCondition\n",
      "0      4703.0   Female       4703.0        F  56.0     Spina Bifida\n",
      "1      4704.0   Female       4704.0        F  81.0             COPD\n",
      "2      4706.0   Female       4706.0        F  90.0         Dementia\n",
      "3      4707.0   Female       4707.0        F  39.0     Brain Injury\n",
      "4      4708.0   Female       4708.0        F  90.0              NaN\n"
     ]
    }
   ],
   "source": [
    "print(new.head())   ####Now, I can see the new merged data set easier."
   ]
  },
  {
   "cell_type": "code",
   "execution_count": 40,
   "id": "respective-adelaide",
   "metadata": {},
   "outputs": [
    {
     "data": {
      "text/html": [
       "<div>\n",
       "<style scoped>\n",
       "    .dataframe tbody tr th:only-of-type {\n",
       "        vertical-align: middle;\n",
       "    }\n",
       "\n",
       "    .dataframe tbody tr th {\n",
       "        vertical-align: top;\n",
       "    }\n",
       "\n",
       "    .dataframe thead th {\n",
       "        text-align: right;\n",
       "    }\n",
       "</style>\n",
       "<table border=\"1\" class=\"dataframe\">\n",
       "  <thead>\n",
       "    <tr style=\"text-align: right;\">\n",
       "      <th></th>\n",
       "      <th>ExternalID</th>\n",
       "      <th>Gender_x</th>\n",
       "      <th>External ID</th>\n",
       "      <th>Gender_y</th>\n",
       "      <th>Age</th>\n",
       "      <th>CareSysCondition</th>\n",
       "    </tr>\n",
       "  </thead>\n",
       "  <tbody>\n",
       "    <tr>\n",
       "      <th>208</th>\n",
       "      <td>5454.0</td>\n",
       "      <td>Female</td>\n",
       "      <td>5454.0</td>\n",
       "      <td>U</td>\n",
       "      <td>96.0</td>\n",
       "      <td>Elderly Care/Support</td>\n",
       "    </tr>\n",
       "    <tr>\n",
       "      <th>537</th>\n",
       "      <td>6228.0</td>\n",
       "      <td>Female</td>\n",
       "      <td>6228.0</td>\n",
       "      <td>U</td>\n",
       "      <td>121.0</td>\n",
       "      <td>NaN</td>\n",
       "    </tr>\n",
       "    <tr>\n",
       "      <th>540</th>\n",
       "      <td>6234.0</td>\n",
       "      <td>Female</td>\n",
       "      <td>6234.0</td>\n",
       "      <td>U</td>\n",
       "      <td>121.0</td>\n",
       "      <td>NaN</td>\n",
       "    </tr>\n",
       "    <tr>\n",
       "      <th>541</th>\n",
       "      <td>6236.0</td>\n",
       "      <td>Female</td>\n",
       "      <td>6236.0</td>\n",
       "      <td>U</td>\n",
       "      <td>121.0</td>\n",
       "      <td>NaN</td>\n",
       "    </tr>\n",
       "    <tr>\n",
       "      <th>543</th>\n",
       "      <td>6239.0</td>\n",
       "      <td>Female</td>\n",
       "      <td>6239.0</td>\n",
       "      <td>U</td>\n",
       "      <td>121.0</td>\n",
       "      <td>NaN</td>\n",
       "    </tr>\n",
       "    <tr>\n",
       "      <th>...</th>\n",
       "      <td>...</td>\n",
       "      <td>...</td>\n",
       "      <td>...</td>\n",
       "      <td>...</td>\n",
       "      <td>...</td>\n",
       "      <td>...</td>\n",
       "    </tr>\n",
       "    <tr>\n",
       "      <th>1163</th>\n",
       "      <td>9390.0</td>\n",
       "      <td>Female</td>\n",
       "      <td>9390.0</td>\n",
       "      <td>U</td>\n",
       "      <td>27.0</td>\n",
       "      <td>Learning Difficulties</td>\n",
       "    </tr>\n",
       "    <tr>\n",
       "      <th>1186</th>\n",
       "      <td>9424.0</td>\n",
       "      <td>Female</td>\n",
       "      <td>9424.0</td>\n",
       "      <td>U</td>\n",
       "      <td>86.0</td>\n",
       "      <td>NaN</td>\n",
       "    </tr>\n",
       "    <tr>\n",
       "      <th>1188</th>\n",
       "      <td>9426.0</td>\n",
       "      <td>Female</td>\n",
       "      <td>9426.0</td>\n",
       "      <td>U</td>\n",
       "      <td>66.0</td>\n",
       "      <td>NaN</td>\n",
       "    </tr>\n",
       "    <tr>\n",
       "      <th>1189</th>\n",
       "      <td>9427.0</td>\n",
       "      <td>Female</td>\n",
       "      <td>9427.0</td>\n",
       "      <td>U</td>\n",
       "      <td>85.0</td>\n",
       "      <td>Elderly Care/Support</td>\n",
       "    </tr>\n",
       "    <tr>\n",
       "      <th>1197</th>\n",
       "      <td>9474.0</td>\n",
       "      <td>Female</td>\n",
       "      <td>9474.0</td>\n",
       "      <td>U</td>\n",
       "      <td>47.0</td>\n",
       "      <td>NaN</td>\n",
       "    </tr>\n",
       "  </tbody>\n",
       "</table>\n",
       "<p>75 rows × 6 columns</p>\n",
       "</div>"
      ],
      "text/plain": [
       "      ExternalID Gender_x  External ID Gender_y    Age       CareSysCondition\n",
       "208       5454.0   Female       5454.0        U   96.0   Elderly Care/Support\n",
       "537       6228.0   Female       6228.0        U  121.0                    NaN\n",
       "540       6234.0   Female       6234.0        U  121.0                    NaN\n",
       "541       6236.0   Female       6236.0        U  121.0                    NaN\n",
       "543       6239.0   Female       6239.0        U  121.0                    NaN\n",
       "...          ...      ...          ...      ...    ...                    ...\n",
       "1163      9390.0   Female       9390.0        U   27.0  Learning Difficulties\n",
       "1186      9424.0   Female       9424.0        U   86.0                    NaN\n",
       "1188      9426.0   Female       9426.0        U   66.0                    NaN\n",
       "1189      9427.0   Female       9427.0        U   85.0   Elderly Care/Support\n",
       "1197      9474.0   Female       9474.0        U   47.0                    NaN\n",
       "\n",
       "[75 rows x 6 columns]"
      ]
     },
     "execution_count": 40,
     "metadata": {},
     "output_type": "execute_result"
    }
   ],
   "source": [
    "new.loc[new['Gender_y'] == 'U']\n",
    "\n",
    "####There are 75 rows with have missing values for gender_y i.e. where Gender_y = \"U\"\n",
    "\n",
    "#I want to fill all the ocassions where there is a 'U' with the value in the other gender column (gender_x) \n",
    "\n",
    "#In order to do this, I have to convert Male to M and Female to F"
   ]
  },
  {
   "cell_type": "code",
   "execution_count": 41,
   "id": "brutal-cheese",
   "metadata": {},
   "outputs": [],
   "source": [
    "new[\"Gender_x\"].replace({\"Female\": \"F\"}, inplace=True)"
   ]
  },
  {
   "cell_type": "code",
   "execution_count": 42,
   "id": "driving-sampling",
   "metadata": {},
   "outputs": [
    {
     "data": {
      "text/plain": [
       "array(['F', 'Male', nan], dtype=object)"
      ]
     },
     "execution_count": 42,
     "metadata": {},
     "output_type": "execute_result"
    }
   ],
   "source": [
    "new.Gender_x.unique()"
   ]
  },
  {
   "cell_type": "code",
   "execution_count": 43,
   "id": "drawn-resolution",
   "metadata": {},
   "outputs": [],
   "source": [
    "new[\"Gender_x\"].replace({\"Male\": \"M\"}, inplace=True)"
   ]
  },
  {
   "cell_type": "code",
   "execution_count": 44,
   "id": "amino-african",
   "metadata": {},
   "outputs": [
    {
     "data": {
      "text/plain": [
       "array(['F', 'M', nan], dtype=object)"
      ]
     },
     "execution_count": 44,
     "metadata": {},
     "output_type": "execute_result"
    }
   ],
   "source": [
    "new.Gender_x.unique()"
   ]
  },
  {
   "cell_type": "code",
   "execution_count": 45,
   "id": "municipal-render",
   "metadata": {},
   "outputs": [
    {
     "data": {
      "text/html": [
       "<div>\n",
       "<style scoped>\n",
       "    .dataframe tbody tr th:only-of-type {\n",
       "        vertical-align: middle;\n",
       "    }\n",
       "\n",
       "    .dataframe tbody tr th {\n",
       "        vertical-align: top;\n",
       "    }\n",
       "\n",
       "    .dataframe thead th {\n",
       "        text-align: right;\n",
       "    }\n",
       "</style>\n",
       "<table border=\"1\" class=\"dataframe\">\n",
       "  <thead>\n",
       "    <tr style=\"text-align: right;\">\n",
       "      <th></th>\n",
       "      <th>ExternalID</th>\n",
       "      <th>Gender_x</th>\n",
       "      <th>External ID</th>\n",
       "      <th>Gender_y</th>\n",
       "      <th>Age</th>\n",
       "      <th>CareSysCondition</th>\n",
       "    </tr>\n",
       "  </thead>\n",
       "  <tbody>\n",
       "    <tr>\n",
       "      <th>208</th>\n",
       "      <td>5454.0</td>\n",
       "      <td>F</td>\n",
       "      <td>5454.0</td>\n",
       "      <td>U</td>\n",
       "      <td>96.0</td>\n",
       "      <td>Elderly Care/Support</td>\n",
       "    </tr>\n",
       "    <tr>\n",
       "      <th>537</th>\n",
       "      <td>6228.0</td>\n",
       "      <td>F</td>\n",
       "      <td>6228.0</td>\n",
       "      <td>U</td>\n",
       "      <td>121.0</td>\n",
       "      <td>NaN</td>\n",
       "    </tr>\n",
       "    <tr>\n",
       "      <th>540</th>\n",
       "      <td>6234.0</td>\n",
       "      <td>F</td>\n",
       "      <td>6234.0</td>\n",
       "      <td>U</td>\n",
       "      <td>121.0</td>\n",
       "      <td>NaN</td>\n",
       "    </tr>\n",
       "    <tr>\n",
       "      <th>541</th>\n",
       "      <td>6236.0</td>\n",
       "      <td>F</td>\n",
       "      <td>6236.0</td>\n",
       "      <td>U</td>\n",
       "      <td>121.0</td>\n",
       "      <td>NaN</td>\n",
       "    </tr>\n",
       "    <tr>\n",
       "      <th>543</th>\n",
       "      <td>6239.0</td>\n",
       "      <td>F</td>\n",
       "      <td>6239.0</td>\n",
       "      <td>U</td>\n",
       "      <td>121.0</td>\n",
       "      <td>NaN</td>\n",
       "    </tr>\n",
       "    <tr>\n",
       "      <th>...</th>\n",
       "      <td>...</td>\n",
       "      <td>...</td>\n",
       "      <td>...</td>\n",
       "      <td>...</td>\n",
       "      <td>...</td>\n",
       "      <td>...</td>\n",
       "    </tr>\n",
       "    <tr>\n",
       "      <th>1163</th>\n",
       "      <td>9390.0</td>\n",
       "      <td>F</td>\n",
       "      <td>9390.0</td>\n",
       "      <td>U</td>\n",
       "      <td>27.0</td>\n",
       "      <td>Learning Difficulties</td>\n",
       "    </tr>\n",
       "    <tr>\n",
       "      <th>1186</th>\n",
       "      <td>9424.0</td>\n",
       "      <td>F</td>\n",
       "      <td>9424.0</td>\n",
       "      <td>U</td>\n",
       "      <td>86.0</td>\n",
       "      <td>NaN</td>\n",
       "    </tr>\n",
       "    <tr>\n",
       "      <th>1188</th>\n",
       "      <td>9426.0</td>\n",
       "      <td>F</td>\n",
       "      <td>9426.0</td>\n",
       "      <td>U</td>\n",
       "      <td>66.0</td>\n",
       "      <td>NaN</td>\n",
       "    </tr>\n",
       "    <tr>\n",
       "      <th>1189</th>\n",
       "      <td>9427.0</td>\n",
       "      <td>F</td>\n",
       "      <td>9427.0</td>\n",
       "      <td>U</td>\n",
       "      <td>85.0</td>\n",
       "      <td>Elderly Care/Support</td>\n",
       "    </tr>\n",
       "    <tr>\n",
       "      <th>1197</th>\n",
       "      <td>9474.0</td>\n",
       "      <td>F</td>\n",
       "      <td>9474.0</td>\n",
       "      <td>U</td>\n",
       "      <td>47.0</td>\n",
       "      <td>NaN</td>\n",
       "    </tr>\n",
       "  </tbody>\n",
       "</table>\n",
       "<p>75 rows × 6 columns</p>\n",
       "</div>"
      ],
      "text/plain": [
       "      ExternalID Gender_x  External ID Gender_y    Age       CareSysCondition\n",
       "208       5454.0        F       5454.0        U   96.0   Elderly Care/Support\n",
       "537       6228.0        F       6228.0        U  121.0                    NaN\n",
       "540       6234.0        F       6234.0        U  121.0                    NaN\n",
       "541       6236.0        F       6236.0        U  121.0                    NaN\n",
       "543       6239.0        F       6239.0        U  121.0                    NaN\n",
       "...          ...      ...          ...      ...    ...                    ...\n",
       "1163      9390.0        F       9390.0        U   27.0  Learning Difficulties\n",
       "1186      9424.0        F       9424.0        U   86.0                    NaN\n",
       "1188      9426.0        F       9426.0        U   66.0                    NaN\n",
       "1189      9427.0        F       9427.0        U   85.0   Elderly Care/Support\n",
       "1197      9474.0        F       9474.0        U   47.0                    NaN\n",
       "\n",
       "[75 rows x 6 columns]"
      ]
     },
     "execution_count": 45,
     "metadata": {},
     "output_type": "execute_result"
    }
   ],
   "source": [
    "new.loc[new['Gender_y'] == 'U']"
   ]
  },
  {
   "cell_type": "code",
   "execution_count": 46,
   "id": "minor-instrumentation",
   "metadata": {},
   "outputs": [],
   "source": [
    "import numpy as np"
   ]
  },
  {
   "cell_type": "code",
   "execution_count": 47,
   "id": "african-portugal",
   "metadata": {},
   "outputs": [],
   "source": [
    "new = new.replace('U', np.NaN)   ## U means unspecifised. I am changing to Nas"
   ]
  },
  {
   "cell_type": "code",
   "execution_count": 48,
   "id": "prescribed-monroe",
   "metadata": {},
   "outputs": [
    {
     "data": {
      "text/plain": [
       "75"
      ]
     },
     "execution_count": 48,
     "metadata": {},
     "output_type": "execute_result"
    }
   ],
   "source": [
    "new[\"Gender_y\"].isna().sum()     ####answer is 75. The 75 Us got changed to 75 Nas"
   ]
  },
  {
   "cell_type": "code",
   "execution_count": 49,
   "id": "advised-london",
   "metadata": {},
   "outputs": [
    {
     "data": {
      "text/html": [
       "<div>\n",
       "<style scoped>\n",
       "    .dataframe tbody tr th:only-of-type {\n",
       "        vertical-align: middle;\n",
       "    }\n",
       "\n",
       "    .dataframe tbody tr th {\n",
       "        vertical-align: top;\n",
       "    }\n",
       "\n",
       "    .dataframe thead th {\n",
       "        text-align: right;\n",
       "    }\n",
       "</style>\n",
       "<table border=\"1\" class=\"dataframe\">\n",
       "  <thead>\n",
       "    <tr style=\"text-align: right;\">\n",
       "      <th></th>\n",
       "      <th>ExternalID</th>\n",
       "      <th>Gender_x</th>\n",
       "      <th>External ID</th>\n",
       "      <th>Gender_y</th>\n",
       "      <th>Age</th>\n",
       "      <th>CareSysCondition</th>\n",
       "    </tr>\n",
       "  </thead>\n",
       "  <tbody>\n",
       "    <tr>\n",
       "      <th>208</th>\n",
       "      <td>5454.0</td>\n",
       "      <td>F</td>\n",
       "      <td>5454.0</td>\n",
       "      <td>NaN</td>\n",
       "      <td>96.0</td>\n",
       "      <td>Elderly Care/Support</td>\n",
       "    </tr>\n",
       "    <tr>\n",
       "      <th>537</th>\n",
       "      <td>6228.0</td>\n",
       "      <td>F</td>\n",
       "      <td>6228.0</td>\n",
       "      <td>NaN</td>\n",
       "      <td>121.0</td>\n",
       "      <td>NaN</td>\n",
       "    </tr>\n",
       "    <tr>\n",
       "      <th>540</th>\n",
       "      <td>6234.0</td>\n",
       "      <td>F</td>\n",
       "      <td>6234.0</td>\n",
       "      <td>NaN</td>\n",
       "      <td>121.0</td>\n",
       "      <td>NaN</td>\n",
       "    </tr>\n",
       "    <tr>\n",
       "      <th>541</th>\n",
       "      <td>6236.0</td>\n",
       "      <td>F</td>\n",
       "      <td>6236.0</td>\n",
       "      <td>NaN</td>\n",
       "      <td>121.0</td>\n",
       "      <td>NaN</td>\n",
       "    </tr>\n",
       "    <tr>\n",
       "      <th>543</th>\n",
       "      <td>6239.0</td>\n",
       "      <td>F</td>\n",
       "      <td>6239.0</td>\n",
       "      <td>NaN</td>\n",
       "      <td>121.0</td>\n",
       "      <td>NaN</td>\n",
       "    </tr>\n",
       "    <tr>\n",
       "      <th>...</th>\n",
       "      <td>...</td>\n",
       "      <td>...</td>\n",
       "      <td>...</td>\n",
       "      <td>...</td>\n",
       "      <td>...</td>\n",
       "      <td>...</td>\n",
       "    </tr>\n",
       "    <tr>\n",
       "      <th>1163</th>\n",
       "      <td>9390.0</td>\n",
       "      <td>F</td>\n",
       "      <td>9390.0</td>\n",
       "      <td>NaN</td>\n",
       "      <td>27.0</td>\n",
       "      <td>Learning Difficulties</td>\n",
       "    </tr>\n",
       "    <tr>\n",
       "      <th>1186</th>\n",
       "      <td>9424.0</td>\n",
       "      <td>F</td>\n",
       "      <td>9424.0</td>\n",
       "      <td>NaN</td>\n",
       "      <td>86.0</td>\n",
       "      <td>NaN</td>\n",
       "    </tr>\n",
       "    <tr>\n",
       "      <th>1188</th>\n",
       "      <td>9426.0</td>\n",
       "      <td>F</td>\n",
       "      <td>9426.0</td>\n",
       "      <td>NaN</td>\n",
       "      <td>66.0</td>\n",
       "      <td>NaN</td>\n",
       "    </tr>\n",
       "    <tr>\n",
       "      <th>1189</th>\n",
       "      <td>9427.0</td>\n",
       "      <td>F</td>\n",
       "      <td>9427.0</td>\n",
       "      <td>NaN</td>\n",
       "      <td>85.0</td>\n",
       "      <td>Elderly Care/Support</td>\n",
       "    </tr>\n",
       "    <tr>\n",
       "      <th>1197</th>\n",
       "      <td>9474.0</td>\n",
       "      <td>F</td>\n",
       "      <td>9474.0</td>\n",
       "      <td>NaN</td>\n",
       "      <td>47.0</td>\n",
       "      <td>NaN</td>\n",
       "    </tr>\n",
       "  </tbody>\n",
       "</table>\n",
       "<p>75 rows × 6 columns</p>\n",
       "</div>"
      ],
      "text/plain": [
       "      ExternalID Gender_x  External ID Gender_y    Age       CareSysCondition\n",
       "208       5454.0        F       5454.0      NaN   96.0   Elderly Care/Support\n",
       "537       6228.0        F       6228.0      NaN  121.0                    NaN\n",
       "540       6234.0        F       6234.0      NaN  121.0                    NaN\n",
       "541       6236.0        F       6236.0      NaN  121.0                    NaN\n",
       "543       6239.0        F       6239.0      NaN  121.0                    NaN\n",
       "...          ...      ...          ...      ...    ...                    ...\n",
       "1163      9390.0        F       9390.0      NaN   27.0  Learning Difficulties\n",
       "1186      9424.0        F       9424.0      NaN   86.0                    NaN\n",
       "1188      9426.0        F       9426.0      NaN   66.0                    NaN\n",
       "1189      9427.0        F       9427.0      NaN   85.0   Elderly Care/Support\n",
       "1197      9474.0        F       9474.0      NaN   47.0                    NaN\n",
       "\n",
       "[75 rows x 6 columns]"
      ]
     },
     "execution_count": 49,
     "metadata": {},
     "output_type": "execute_result"
    }
   ],
   "source": [
    "new[new['Gender_y'].isnull()]\n",
    "\n",
    "####I have a look at where gender is now equal to NaN. Still 75, so I know my code worked. \n",
    "#The below table is Table A."
   ]
  },
  {
   "cell_type": "code",
   "execution_count": 50,
   "id": "wired-artist",
   "metadata": {},
   "outputs": [],
   "source": [
    "#in 75 rows, where it says NAs, I replace with the value of the gender_x column\n",
    "\n",
    "new.Gender_y.fillna(new.Gender_x, inplace=True)  \n"
   ]
  },
  {
   "cell_type": "code",
   "execution_count": 51,
   "id": "incorporated-surgeon",
   "metadata": {},
   "outputs": [
    {
     "data": {
      "text/html": [
       "<div>\n",
       "<style scoped>\n",
       "    .dataframe tbody tr th:only-of-type {\n",
       "        vertical-align: middle;\n",
       "    }\n",
       "\n",
       "    .dataframe tbody tr th {\n",
       "        vertical-align: top;\n",
       "    }\n",
       "\n",
       "    .dataframe thead th {\n",
       "        text-align: right;\n",
       "    }\n",
       "</style>\n",
       "<table border=\"1\" class=\"dataframe\">\n",
       "  <thead>\n",
       "    <tr style=\"text-align: right;\">\n",
       "      <th></th>\n",
       "      <th>ExternalID</th>\n",
       "      <th>Gender_x</th>\n",
       "      <th>External ID</th>\n",
       "      <th>Gender_y</th>\n",
       "      <th>Age</th>\n",
       "      <th>CareSysCondition</th>\n",
       "    </tr>\n",
       "  </thead>\n",
       "  <tbody>\n",
       "    <tr>\n",
       "      <th>1163</th>\n",
       "      <td>9390.0</td>\n",
       "      <td>F</td>\n",
       "      <td>9390.0</td>\n",
       "      <td>F</td>\n",
       "      <td>27.0</td>\n",
       "      <td>Learning Difficulties</td>\n",
       "    </tr>\n",
       "  </tbody>\n",
       "</table>\n",
       "</div>"
      ],
      "text/plain": [
       "      ExternalID Gender_x  External ID Gender_y   Age       CareSysCondition\n",
       "1163      9390.0        F       9390.0        F  27.0  Learning Difficulties"
      ]
     },
     "execution_count": 51,
     "metadata": {},
     "output_type": "execute_result"
    }
   ],
   "source": [
    "###I check a few rows from the Table A which did contain a NaN in the gender_y column. \n",
    "new.loc[new['External ID'] == 9390]  ##Check 1\n"
   ]
  },
  {
   "cell_type": "code",
   "execution_count": 52,
   "id": "third-exception",
   "metadata": {},
   "outputs": [
    {
     "data": {
      "text/html": [
       "<div>\n",
       "<style scoped>\n",
       "    .dataframe tbody tr th:only-of-type {\n",
       "        vertical-align: middle;\n",
       "    }\n",
       "\n",
       "    .dataframe tbody tr th {\n",
       "        vertical-align: top;\n",
       "    }\n",
       "\n",
       "    .dataframe thead th {\n",
       "        text-align: right;\n",
       "    }\n",
       "</style>\n",
       "<table border=\"1\" class=\"dataframe\">\n",
       "  <thead>\n",
       "    <tr style=\"text-align: right;\">\n",
       "      <th></th>\n",
       "      <th>ExternalID</th>\n",
       "      <th>Gender_x</th>\n",
       "      <th>External ID</th>\n",
       "      <th>Gender_y</th>\n",
       "      <th>Age</th>\n",
       "      <th>CareSysCondition</th>\n",
       "    </tr>\n",
       "  </thead>\n",
       "  <tbody>\n",
       "    <tr>\n",
       "      <th>1197</th>\n",
       "      <td>9474.0</td>\n",
       "      <td>F</td>\n",
       "      <td>9474.0</td>\n",
       "      <td>F</td>\n",
       "      <td>47.0</td>\n",
       "      <td>NaN</td>\n",
       "    </tr>\n",
       "  </tbody>\n",
       "</table>\n",
       "</div>"
      ],
      "text/plain": [
       "      ExternalID Gender_x  External ID Gender_y   Age CareSysCondition\n",
       "1197      9474.0        F       9474.0        F  47.0              NaN"
      ]
     },
     "execution_count": 52,
     "metadata": {},
     "output_type": "execute_result"
    }
   ],
   "source": [
    "new.loc[new['External ID'] == 9474] #Check 2"
   ]
  },
  {
   "cell_type": "code",
   "execution_count": 53,
   "id": "plain-groove",
   "metadata": {},
   "outputs": [
    {
     "data": {
      "text/html": [
       "<div>\n",
       "<style scoped>\n",
       "    .dataframe tbody tr th:only-of-type {\n",
       "        vertical-align: middle;\n",
       "    }\n",
       "\n",
       "    .dataframe tbody tr th {\n",
       "        vertical-align: top;\n",
       "    }\n",
       "\n",
       "    .dataframe thead th {\n",
       "        text-align: right;\n",
       "    }\n",
       "</style>\n",
       "<table border=\"1\" class=\"dataframe\">\n",
       "  <thead>\n",
       "    <tr style=\"text-align: right;\">\n",
       "      <th></th>\n",
       "      <th>ExternalID</th>\n",
       "      <th>Gender_x</th>\n",
       "      <th>External ID</th>\n",
       "      <th>Gender_y</th>\n",
       "      <th>Age</th>\n",
       "      <th>CareSysCondition</th>\n",
       "    </tr>\n",
       "  </thead>\n",
       "  <tbody>\n",
       "    <tr>\n",
       "      <th>208</th>\n",
       "      <td>5454.0</td>\n",
       "      <td>F</td>\n",
       "      <td>5454.0</td>\n",
       "      <td>F</td>\n",
       "      <td>96.0</td>\n",
       "      <td>Elderly Care/Support</td>\n",
       "    </tr>\n",
       "  </tbody>\n",
       "</table>\n",
       "</div>"
      ],
      "text/plain": [
       "     ExternalID Gender_x  External ID Gender_y   Age      CareSysCondition\n",
       "208      5454.0        F       5454.0        F  96.0  Elderly Care/Support"
      ]
     },
     "execution_count": 53,
     "metadata": {},
     "output_type": "execute_result"
    }
   ],
   "source": [
    "new.loc[new['External ID'] == 5454] #Check 3      \n",
    "\n",
    "\n",
    "##In check 1, 2, and 3, I can see the Gender_y column has been filled correctly. "
   ]
  },
  {
   "cell_type": "code",
   "execution_count": 54,
   "id": "remarkable-carnival",
   "metadata": {},
   "outputs": [],
   "source": [
    " del new['Gender_x']  ###I no longer need Gender_x, the gender column from the users data. "
   ]
  },
  {
   "cell_type": "markdown",
   "id": "union-delaware",
   "metadata": {},
   "source": [
    "In these checks, I can see the gender_y column has been filled with the gender_x column. \n",
    "\n",
    "Now, I can go on to analyse data about gender better as I have more data. "
   ]
  },
  {
   "cell_type": "code",
   "execution_count": 55,
   "id": "divided-roman",
   "metadata": {},
   "outputs": [
    {
     "data": {
      "text/plain": [
       "(1214, 5)"
      ]
     },
     "execution_count": 55,
     "metadata": {},
     "output_type": "execute_result"
    }
   ],
   "source": [
    "new.shape  #### The data has 1214 rows and 11 columns "
   ]
  },
  {
   "cell_type": "code",
   "execution_count": 56,
   "id": "natural-korea",
   "metadata": {},
   "outputs": [
    {
     "data": {
      "text/plain": [
       "CareSysCondition\n",
       "Addiction Issues                    5\n",
       "Amputee                            13\n",
       "Arthritis                          23\n",
       "Asthma                              4\n",
       "Bi Polar Disorder                   7\n",
       "Brain Injury                       34\n",
       "COPD                               34\n",
       "Cancer                             30\n",
       "Cerebellar Ataxia                   1\n",
       "Cerebral Palsy                     42\n",
       "Dementia                          113\n",
       "Diabetes                           19\n",
       "Down Syndrome                       2\n",
       "Elderly Care/Support              261\n",
       "Epilepsy                           14\n",
       "Huntington's                        7\n",
       "Learning Difficulties              37\n",
       "Lifelong Mobility Issues           27\n",
       "Mental Health Issues               79\n",
       "Motor Neurone                       1\n",
       "Multiple Sclerosis                 35\n",
       "Muscular Dystrophy                  4\n",
       "OCD                                 2\n",
       "Osteoporosis                        1\n",
       "Parkinsons                         20\n",
       "Progressive Supranuclear Palsy      1\n",
       "Prone to Falls                      1\n",
       "Spina Bifida                       18\n",
       "Spinal Injury                       8\n",
       "Stroke                             35\n",
       "Visual Impairment                  10\n",
       "dtype: int64"
      ]
     },
     "execution_count": 56,
     "metadata": {},
     "output_type": "execute_result"
    }
   ],
   "source": [
    "c = new.groupby(['CareSysCondition']).size()  ##I group by condition to see how many people have which condition \n",
    "c\n"
   ]
  },
  {
   "cell_type": "markdown",
   "id": "flush-tongue",
   "metadata": {},
   "source": [
    "Above, you can see the counts for each health conditions. Elderly care and dementia is the most commmon disability across the services. "
   ]
  },
  {
   "cell_type": "code",
   "execution_count": 57,
   "id": "dominant-february",
   "metadata": {},
   "outputs": [
    {
     "data": {
      "text/plain": [
       "Gender_y\n",
       "F    735\n",
       "M    479\n",
       "dtype: int64"
      ]
     },
     "execution_count": 57,
     "metadata": {},
     "output_type": "execute_result"
    }
   ],
   "source": [
    "v = new.groupby(['Gender_y']).size()\n",
    "v"
   ]
  },
  {
   "cell_type": "markdown",
   "id": "equal-meter",
   "metadata": {},
   "source": [
    "There are far more females in the services than men. "
   ]
  },
  {
   "cell_type": "markdown",
   "id": "spread-charger",
   "metadata": {},
   "source": [
    "I have cleaned the data. I have a understanding of the ages, the genders and the types of conditions people are in the service for. \n"
   ]
  },
  {
   "cell_type": "markdown",
   "id": "incorporate-archive",
   "metadata": {},
   "source": [
    "\n",
    "\n",
    "Describe section End. \n",
    "\n"
   ]
  },
  {
   "cell_type": "markdown",
   "id": "thrown-bottom",
   "metadata": {},
   "source": [
    "             \n",
    "Explore Section Start.\n",
    "           "
   ]
  },
  {
   "cell_type": "code",
   "execution_count": 61,
   "id": "governmental-liver",
   "metadata": {},
   "outputs": [
    {
     "data": {
      "text/plain": [
       "<matplotlib.lines.Line2D at 0x7fb8c9129370>"
      ]
     },
     "execution_count": 61,
     "metadata": {},
     "output_type": "execute_result"
    },
    {
     "data": {
      "image/png": "[encoded data removed]",
      "text/plain": [
       "<Figure size 432x288 with 1 Axes>"
      ]
     },
     "metadata": {},
     "output_type": "display_data"
    }
   ],
   "source": [
    "%matplotlib inline \n",
    "#Here I make it so the graphs will be shown in phython. \n",
    "import seaborn as sns  #here I import the package seaborn for grpahs \n",
    "import matplotlib.pyplot as plt #here I import another packsge mathplotlib needed to use seaborn\n",
    "sns.set()\n",
    "\n",
    "fvsm= v.plot(kind = 'bar', color = ['green', 'blue'])   \n",
    "fvsm.set_title('Figure 1. Number of men and women')\n",
    "\n",
    "plt.xlabel(\"Gender\")\n",
    "plt.ylabel(\"No. of people using the service\")\n",
    "fvsm.set_facecolor('white')\n",
    "plt.axhline(0, color='black')\n",
    "\n",
    "\n"
   ]
  },
  {
   "cell_type": "markdown",
   "id": "comfortable-logistics",
   "metadata": {},
   "source": [
    "There are nearly double the amount of women than men in the services. This is very interesting to me. \n",
    "I am curious to understand why this may be the case. \n",
    "\n",
    "First I wonder if perhaps age is the reason for this? There is a general trend around the world that women live longer. Therefore, maybe the extra women are all the older women. \n",
    "\n"
   ]
  },
  {
   "cell_type": "code",
   "execution_count": 62,
   "id": "gentle-cycle",
   "metadata": {},
   "outputs": [
    {
     "data": {
      "text/plain": [
       "Gender_y\n",
       "F    76.400545\n",
       "M    69.688935\n",
       "Name: Age, dtype: float64"
      ]
     },
     "execution_count": 62,
     "metadata": {},
     "output_type": "execute_result"
    }
   ],
   "source": [
    "agemvsf = new.groupby('Gender_y', as_index=True).Age.mean()\n",
    "agemvsf\n"
   ]
  },
  {
   "cell_type": "code",
   "execution_count": 63,
   "id": "moderate-orientation",
   "metadata": {},
   "outputs": [
    {
     "data": {
      "text/plain": [
       "<matplotlib.lines.Line2D at 0x7fb8c91178e0>"
      ]
     },
     "execution_count": 63,
     "metadata": {},
     "output_type": "execute_result"
    },
    {
     "data": {
      "image/png": "[encoded data removed]",
      "text/plain": [
       "<Figure size 432x288 with 1 Axes>"
      ]
     },
     "metadata": {},
     "output_type": "display_data"
    }
   ],
   "source": [
    "\n",
    "\n",
    "Agemvsf = agemvsf.plot(kind = 'bar', color = ['lightgreen', 'lightsteelblue'])\n",
    "Agemvsf.set_title('Figure 2. Average age of men and women')\n",
    "\n",
    "plt.xlabel(\"Gender\")\n",
    "plt.ylabel(\"count of people using the service\")\n",
    "Agemvsf.set_facecolor('white')\n",
    "plt.axhline(0, color='black')\n",
    "\n"
   ]
  },
  {
   "cell_type": "markdown",
   "id": "bulgarian-integer",
   "metadata": {},
   "source": [
    "As can be seen in Table above, and figure 2, women are older than men on average. However, the mean difference is not that much, approximately 6 years. \n",
    "\n",
    "I will check if the difference is significant. "
   ]
  },
  {
   "cell_type": "code",
   "execution_count": 64,
   "id": "olympic-walnut",
   "metadata": {},
   "outputs": [],
   "source": [
    "import pandas as pd\n",
    "\n",
    "import scipy.stats as stats"
   ]
  },
  {
   "cell_type": "markdown",
   "id": "moving-bridal",
   "metadata": {},
   "source": []
  },
  {
   "cell_type": "code",
   "execution_count": 68,
   "id": "documentary-stadium",
   "metadata": {},
   "outputs": [],
   "source": [
    "females = new.loc[new['Gender_y'] == 'F']  ###i make two new datasets seperated by gender for t test analysis"
   ]
  },
  {
   "cell_type": "code",
   "execution_count": 69,
   "id": "received-citation",
   "metadata": {},
   "outputs": [],
   "source": [
    "males = new.loc[new['Gender_y'] == 'M']"
   ]
  },
  {
   "cell_type": "code",
   "execution_count": 70,
   "id": "downtown-omaha",
   "metadata": {},
   "outputs": [
    {
     "data": {
      "text/plain": [
       "45      85.0\n",
       "46      42.0\n",
       "47      96.0\n",
       "48      65.0\n",
       "49      88.0\n",
       "        ... \n",
       "1206    74.0\n",
       "1207    31.0\n",
       "1210    73.0\n",
       "1211    69.0\n",
       "1212    73.0\n",
       "Name: Age, Length: 479, dtype: float64"
      ]
     },
     "execution_count": 70,
     "metadata": {},
     "output_type": "execute_result"
    }
   ],
   "source": [
    "females['Age']\n",
    "males['Age']"
   ]
  },
  {
   "cell_type": "code",
   "execution_count": 71,
   "id": "valid-snowboard",
   "metadata": {},
   "outputs": [
    {
     "data": {
      "text/plain": [
       "Ttest_indResult(statistic=5.3906512765697725, pvalue=8.432419448272456e-08)"
      ]
     },
     "execution_count": 71,
     "metadata": {},
     "output_type": "execute_result"
    }
   ],
   "source": [
    "stats.ttest_ind(females['Age'], males['Age'], equal_var=True, nan_policy = 'omit') ####Here I run an independent t tets\n"
   ]
  },
  {
   "cell_type": "markdown",
   "id": "fiscal-failure",
   "metadata": {},
   "source": [
    "There is a significant difference in age between the men and women. Women are statistically significantly older. \n",
    "This could be why there are more women in the service.\n",
    "\n",
    "However, for this to be true, there would be more women in the older categories. \n",
    "\n",
    "I will look at the distrbution of ages. \n",
    "\n",
    "See figure 4 and 5 below\n"
   ]
  },
  {
   "cell_type": "code",
   "execution_count": 72,
   "id": "presidential-government",
   "metadata": {},
   "outputs": [
    {
     "name": "stderr",
     "output_type": "stream",
     "text": [
      "/opt/conda/lib/python3.9/site-packages/seaborn/distributions.py:2557: FutureWarning: `distplot` is a deprecated function and will be removed in a future version. Please adapt your code to use either `displot` (a figure-level function with similar flexibility) or `histplot` (an axes-level function for histograms).\n",
      "  warnings.warn(msg, FutureWarning)\n"
     ]
    },
    {
     "data": {
      "image/png": "[encoded data removed]",
      "text/plain": [
       "<Figure size 432x288 with 1 Axes>"
      ]
     },
     "metadata": {},
     "output_type": "display_data"
    }
   ],
   "source": [
    "%matplotlib inline \n",
    "#Here I make it so the graphs will be shown in phython. It would be annoying if every graph was downloaded\n",
    "import seaborn as sns  #here I import the package seaborn for grpahs \n",
    "import matplotlib.pyplot as plt #here I import another packsge mathplotlib needed to use seaborn\n",
    "sns.set()\n",
    "\n",
    "agef = sns.distplot([females['Age']])   \n",
    "agef.set_title(' Figure 3. Age distribution of Females')  # Here I add the title\n",
    "\n",
    "    \n",
    "plt.show() "
   ]
  },
  {
   "cell_type": "code",
   "execution_count": 73,
   "id": "demographic-saskatchewan",
   "metadata": {},
   "outputs": [
    {
     "name": "stderr",
     "output_type": "stream",
     "text": [
      "/opt/conda/lib/python3.9/site-packages/seaborn/distributions.py:2557: FutureWarning: `distplot` is a deprecated function and will be removed in a future version. Please adapt your code to use either `displot` (a figure-level function with similar flexibility) or `histplot` (an axes-level function for histograms).\n",
      "  warnings.warn(msg, FutureWarning)\n"
     ]
    },
    {
     "data": {
      "text/plain": [
       "Text(0.5, 1.0, ' Figure 4. Age distribution of Males')"
      ]
     },
     "execution_count": 73,
     "metadata": {},
     "output_type": "execute_result"
    },
    {
     "data": {
      "image/png": "[encoded data removed]",
      "text/plain": [
       "<Figure size 432x288 with 1 Axes>"
      ]
     },
     "metadata": {},
     "output_type": "display_data"
    }
   ],
   "source": [
    "agem = sns.distplot([males['Age']])    #Here I make the first plot  of tips\n",
    "agem.set_title(' Figure 4. Age distribution of Males')"
   ]
  },
  {
   "cell_type": "markdown",
   "id": "printable-network",
   "metadata": {},
   "source": [
    "When I look at these figures, it seems actually that there are more men in the younger age categories and the peak is a little later in the women. \n",
    "\n",
    "I decide to look at the men and women in different age categories so that it will be easier to see and understand. "
   ]
  },
  {
   "cell_type": "code",
   "execution_count": 72,
   "id": "central-roulette",
   "metadata": {},
   "outputs": [
    {
     "name": "stdout",
     "output_type": "stream",
     "text": [
      "      ExternalID  External ID Gender_y   Age    CareSysCondition AgeGroup\n",
      "0         4703.0       4703.0        F  56.0        Spina Bifida      50s\n",
      "1         4704.0       4704.0        F  81.0                COPD      80s\n",
      "2         4706.0       4706.0        F  90.0            Dementia      90s\n",
      "3         4707.0       4707.0        F  39.0        Brain Injury      30s\n",
      "4         4708.0       4708.0        F  90.0                 NaN      90s\n",
      "...          ...          ...      ...   ...                 ...      ...\n",
      "1209      9586.0       9586.0        F  89.0            Dementia      80s\n",
      "1210      9594.0       9594.0        M  73.0  Multiple Sclerosis      70s\n",
      "1211      9600.0       9600.0        M  69.0                 NaN      60s\n",
      "1212         NaN       9604.0        M  73.0                COPD      70s\n",
      "1213         NaN       9605.0        F  54.0                 NaN      50s\n",
      "\n",
      "[1214 rows x 6 columns]\n"
     ]
    }
   ],
   "source": [
    "bins= [0,18,30,40,50,60,70,80,90,100,110,121]\n",
    "labels = ['child','18-30','30s','40s', '50s', '60s', '70s', '80s', '90s', '100s', '110+']\n",
    "new['AgeGroup']  = pd.cut(new['Age'], bins=bins, labels=labels, right=False)\n",
    "print (new)\n",
    "####first, I add age bins column and added it to my new dataframe\n"
   ]
  },
  {
   "cell_type": "code",
   "execution_count": 73,
   "id": "mineral-terrain",
   "metadata": {},
   "outputs": [
    {
     "data": {
      "image/png": "[encoded data removed]",
      "text/plain": [
       "<Figure size 432x288 with 1 Axes>"
      ]
     },
     "metadata": {},
     "output_type": "display_data"
    }
   ],
   "source": [
    "agegender= new.groupby([\"AgeGroup\", 'Gender_y']).size().unstack(level=1).plot(kind='bar')\n",
    "agegender.set_title(' Figure 5. number of people in age category by gender')\n",
    "plt.show()"
   ]
  },
  {
   "cell_type": "markdown",
   "id": "essential-picture",
   "metadata": {},
   "source": [
    "The graph above is interesting because it shows at the younger ages, there are similar numbers of men and women. Then in the 50s category there are more men. From the 60s, there are more women, and the gap between the number of men and women tends to increase with age. \n",
    "This suggests that the larger number of women in the service is because women live longer. "
   ]
  },
  {
   "cell_type": "markdown",
   "id": "specialized-fifty",
   "metadata": {},
   "source": [
    "Another reason why there may be more women in the service, is because certain conditions/health problems are more common in women. \n",
    "\n",
    "Below I explore the health conditions by gender. "
   ]
  },
  {
   "cell_type": "code",
   "execution_count": 75,
   "id": "chronic-opinion",
   "metadata": {},
   "outputs": [
    {
     "data": {
      "image/png": "[encoded data removed]",
      "text/plain": [
       "<Figure size 1800x1500 with 1 Axes>"
      ]
     },
     "metadata": {},
     "output_type": "display_data"
    }
   ],
   "source": [
    "plt.rcParams['figure.figsize'] = [12, 10]    #Here I make it bigger to see the graph \n",
    "plt.rcParams['figure.dpi'] = 150\n",
    "\n",
    "conditiongender = new.groupby(['CareSysCondition', \"Gender_y\"]).size().unstack(level=1).plot(kind='bar', color = ['pink', 'yellow'])\n",
    "conditiongender.set_title(' Figure 6. Number of people with each health condition by gender')\n",
    "\n",
    "\n",
    "\n",
    "plt.xlabel(\"Health Condition\")\n",
    "plt.ylabel(\"No. of people\")\n",
    "conditiongender.set_facecolor('white')\n",
    "plt.axhline(0, color='black')\n",
    "\n",
    "plt.show()"
   ]
  },
  {
   "cell_type": "markdown",
   "id": "subjective-flexibility",
   "metadata": {
    "scrolled": true
   },
   "source": [
    "The above graph shows the number of people with certain conditions by gender. \n",
    "\n",
    "Again, it confirms that the larger number of women can be accounted for in the elderly category and the dementia (associated with older age) category. \n",
    "\n",
    "Interesting, it seems there may be another reason why there are more women in the service,  possibly because more women have mental health issues. \n",
    "\n",
    "Overall, it seems that there are more women in the service as women live longer and are more liklely to have mental health issues. "
   ]
  },
  {
   "cell_type": "code",
   "execution_count": null,
   "id": "animated-gateway",
   "metadata": {},
   "outputs": [],
   "source": [
    "End of Explore"
   ]
  },
  {
   "cell_type": "markdown",
   "id": "pending-association",
   "metadata": {},
   "source": [
    "Start of Reflection and hypotheses: \n",
    "\n",
    "The data was very interesting in terms of understanding the types of people who use the service. People of all ages use the services although the distribution of ages shows a leftward skew meaning older people use the services more than younger people. The number of people in each age category increases as age increase. I was initally surprised there were some children however, I understand how sometimes there may be an emergency and no where else for them to go. There are more women in the service than men, almost double. This seems to be mostly because women live longer. There are a range of disabilites the company provides service for, the most common is elderly though. \n",
    "\n",
    "Certain conditions were over-represented by a certain genders (see Figure 6).  It would be interesting to perform an Odds Ratio analysis and evaluate the liklihood of each condition depending on gender. For example, more men than women had brain injuries. I would be curious to see if men are more likely to be involved in brain injury accidents and if so, how much more likely. This would be useful for targeting men more in road safety adverts. \n",
    "\n",
    "More women in the sample had dementia (Figure 6). However, this could because they live longer. i.e. perhaps dementia is equally common in men and women but men die earlier and therefore the numbers are skewed. To test this, I would do a compare (using a t test) the number of men and women who have dementia at each age group. If there was no difference in the number of women and men who have dementia at younger ages, that would suggest women's over representation is a result of living longer. \n",
    "\n",
    "\n",
    "Finally, I did not look at location of the homes. The range of disablities is wide. I would be surprised if all these disabilites were in the same homes. I suspect certain homes provide services for people with groups of similar disabilities. I would do a network analysis to see if certain disabilites group together into certain homes or areas. It would be useful for the company to understand what people's disbilties and needs were in certain homes, so that they could allocate resources appropriately. \n",
    "\n",
    "\n",
    "\n",
    "End of Reflection and hypotheses. "
   ]
  }
 ],
 "metadata": {
  "kernelspec": {
   "display_name": "Python 3",
   "language": "python",
   "name": "python3"
  },
  "language_info": {
   "codemirror_mode": {
    "name": "ipython",
    "version": 3
   },
   "file_extension": ".py",
   "mimetype": "text/x-python",
   "name": "python",
   "nbconvert_exporter": "python",
   "pygments_lexer": "ipython3",
   "version": "3.9.2"
  }
 },
 "nbformat": 4,
 "nbformat_minor": 5
}
