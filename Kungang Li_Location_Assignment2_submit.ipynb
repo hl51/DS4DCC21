{
 "cells": [
  {
   "cell_type": "markdown",
   "id": "97a8014b",
   "metadata": {},
   "source": [
    "# Project: Entertainment through Clever Cogs\n",
    "\n",
    "This system is provided by a company called Blackwood Homes and Care to their customers. What they want to know is how their customers use the entertainment, are their differences, between age, gender, disability, time of use, independent living or care home residents and location across Scotland. \n",
    "\n",
    "In this project I got three sets of CSV data, the files are \"01_CCDate2018-2021.csv\"（It has the entertainment data in, there are a few things in the categories which are services not data, such as \"ask For\" and \"blocked sink\"）, \"02_Users2021.csv\"（this is the data on where people live and their ages） and \"03_CustomerMedicalConditions04Nov21.csv\"（Including medical info/user health status）.\n",
    "\n",
    "Since the project data processing is done by teamwork, we have assigned different perspectives to analyze individual variables and the relationship between different variables. In this data analysis, I will mainly conduct data cleaning, visualization and hypothesis from the perspective of \"location\" variables.\n",
    "\n",
    "# Ⅰ. Data Describe "
   ]
  },
  {
   "cell_type": "markdown",
   "id": "55897708",
   "metadata": {},
   "source": [
    "#### Q1: What is the general type of the data (tabular, network, geographical, textual, etc.)"
   ]
  },
  {
   "cell_type": "markdown",
   "id": "d6124063",
   "metadata": {},
   "source": [
    "Answers to Q1：Tabular"
   ]
  },
  {
   "cell_type": "markdown",
   "id": "89b3d8ae",
   "metadata": {},
   "source": [
    "#### Q2: How large and complex is it(rows/colunms, size, variation, structure)"
   ]
  },
  {
   "cell_type": "code",
   "execution_count": 1,
   "id": "d6b09549",
   "metadata": {
    "scrolled": true
   },
   "outputs": [],
   "source": [
    "import pandas as pd\n",
    "import numpy as np\n",
    "import os\n",
    "data_ccdate = pd.read_csv('01_CCDate2018-2021.csv')\n",
    "data_users = pd.read_csv('02_Users2021.csv')\n",
    "data_medical = pd.read_csv('03_CustomerMedicalConditions04Nov21.csv')"
   ]
  },
  {
   "cell_type": "code",
   "execution_count": 2,
   "id": "0e4bf8d9",
   "metadata": {},
   "outputs": [
    {
     "data": {
      "text/plain": [
       "(654915, 9)"
      ]
     },
     "execution_count": 2,
     "metadata": {},
     "output_type": "execute_result"
    }
   ],
   "source": [
    "data_ccdate.shape"
   ]
  },
  {
   "cell_type": "code",
   "execution_count": 3,
   "id": "f2d421cb",
   "metadata": {},
   "outputs": [
    {
     "data": {
      "text/plain": [
       "(3641, 6)"
      ]
     },
     "execution_count": 3,
     "metadata": {},
     "output_type": "execute_result"
    }
   ],
   "source": [
    "data_users.shape"
   ]
  },
  {
   "cell_type": "code",
   "execution_count": 4,
   "id": "ccbfc883",
   "metadata": {},
   "outputs": [
    {
     "data": {
      "text/plain": [
       "(1311, 7)"
      ]
     },
     "execution_count": 4,
     "metadata": {},
     "output_type": "execute_result"
    }
   ],
   "source": [
    "data_medical.shape"
   ]
  },
  {
   "cell_type": "code",
   "execution_count": 5,
   "id": "91e1a6f9",
   "metadata": {},
   "outputs": [
    {
     "data": {
      "text/plain": [
       "84461236"
      ]
     },
     "execution_count": 5,
     "metadata": {},
     "output_type": "execute_result"
    }
   ],
   "source": [
    "os.path.getsize('01_CCDate2018-2021.csv')"
   ]
  },
  {
   "cell_type": "code",
   "execution_count": 6,
   "id": "02680688",
   "metadata": {},
   "outputs": [
    {
     "data": {
      "text/plain": [
       "381271"
      ]
     },
     "execution_count": 6,
     "metadata": {},
     "output_type": "execute_result"
    }
   ],
   "source": [
    "os.path.getsize('02_Users2021.csv')"
   ]
  },
  {
   "cell_type": "code",
   "execution_count": 7,
   "id": "4db0f74b",
   "metadata": {},
   "outputs": [
    {
     "data": {
      "text/plain": [
       "58328"
      ]
     },
     "execution_count": 7,
     "metadata": {},
     "output_type": "execute_result"
    }
   ],
   "source": [
    "os.path.getsize('03_CustomerMedicalConditions04Nov21.csv')"
   ]
  },
  {
   "cell_type": "markdown",
   "id": "dc9f96a6",
   "metadata": {},
   "source": [
    "Answers to Q2：'01_CCDate2018-2021.csv' includes 654915 rows, 9 columns. It is 84461236 bytes;\n",
    "'02_Users2021.csv' includes 3641 rows, 6 columns. It is 381271 bytes;\n",
    "'03_CustomerMedicalConditions04Nov21.csv' includes 1311 rows, 7 columns. It is 58328 bytes."
   ]
  },
  {
   "cell_type": "markdown",
   "id": "afdfdbad",
   "metadata": {},
   "source": [
    "#### Q3: What fields and data types are present (max/min, levels for categorical values). "
   ]
  },
  {
   "cell_type": "markdown",
   "id": "0607f9fd",
   "metadata": {},
   "source": [
    "At this stage, I just unified some incorrect formats and contents of data, but I didn't process the missing data. Because I haven't known what will be analyzed in the next phase. I will process the missing data during the data analysis phase."
   ]
  },
  {
   "cell_type": "markdown",
   "id": "7eb98c8d",
   "metadata": {},
   "source": [
    "##### For '01_CCDate2018-2021.csv' "
   ]
  },
  {
   "cell_type": "code",
   "execution_count": 8,
   "id": "4d3fb63d",
   "metadata": {},
   "outputs": [
    {
     "data": {
      "text/html": [
       "<div>\n",
       "<style scoped>\n",
       "    .dataframe tbody tr th:only-of-type {\n",
       "        vertical-align: middle;\n",
       "    }\n",
       "\n",
       "    .dataframe tbody tr th {\n",
       "        vertical-align: top;\n",
       "    }\n",
       "\n",
       "    .dataframe thead th {\n",
       "        text-align: right;\n",
       "    }\n",
       "</style>\n",
       "<table border=\"1\" class=\"dataframe\">\n",
       "  <thead>\n",
       "    <tr style=\"text-align: right;\">\n",
       "      <th></th>\n",
       "      <th>Time</th>\n",
       "      <th>VisitorID</th>\n",
       "      <th>ExternalID</th>\n",
       "      <th>Role</th>\n",
       "      <th>Location</th>\n",
       "      <th>Link Title</th>\n",
       "      <th>Link  Type</th>\n",
       "      <th>ContentInfo</th>\n",
       "      <th>URL</th>\n",
       "    </tr>\n",
       "  </thead>\n",
       "  <tbody>\n",
       "    <tr>\n",
       "      <th>0</th>\n",
       "      <td>11/1/21 5:10 PM</td>\n",
       "      <td>F7331B56-15F0-4793-9E09-5D9E2510A053</td>\n",
       "      <td>5325.0</td>\n",
       "      <td>User</td>\n",
       "      <td>Broom Court</td>\n",
       "      <td>Comfort Break</td>\n",
       "      <td>Services</td>\n",
       "      <td>-1|329|10|Comfort Break|1|</td>\n",
       "      <td>LIST</td>\n",
       "    </tr>\n",
       "    <tr>\n",
       "      <th>1</th>\n",
       "      <td>11/1/21 5:10 PM</td>\n",
       "      <td>F7331B56-15F0-4793-9E09-5D9E2510A053</td>\n",
       "      <td>5325.0</td>\n",
       "      <td>User</td>\n",
       "      <td>Broom Court</td>\n",
       "      <td>Ask For</td>\n",
       "      <td>Category</td>\n",
       "      <td>NaN</td>\n",
       "      <td>NaN</td>\n",
       "    </tr>\n",
       "    <tr>\n",
       "      <th>2</th>\n",
       "      <td>11/1/21 5:08 PM</td>\n",
       "      <td>618B75EE-0A49-454C-82B7-6827A9BBA6A5</td>\n",
       "      <td>8899.0</td>\n",
       "      <td>User</td>\n",
       "      <td>67 Glamis Road</td>\n",
       "      <td>My Care Team</td>\n",
       "      <td>Category</td>\n",
       "      <td>NaN</td>\n",
       "      <td>NaN</td>\n",
       "    </tr>\n",
       "    <tr>\n",
       "      <th>3</th>\n",
       "      <td>11/1/21 5:08 PM</td>\n",
       "      <td>618B75EE-0A49-454C-82B7-6827A9BBA6A5</td>\n",
       "      <td>8899.0</td>\n",
       "      <td>User</td>\n",
       "      <td>67 Glamis Road</td>\n",
       "      <td>My Care</td>\n",
       "      <td>Category</td>\n",
       "      <td>NaN</td>\n",
       "      <td>NaN</td>\n",
       "    </tr>\n",
       "    <tr>\n",
       "      <th>4</th>\n",
       "      <td>11/1/21 5:07 PM</td>\n",
       "      <td>F7331B56-15F0-4793-9E09-5D9E2510A053</td>\n",
       "      <td>5325.0</td>\n",
       "      <td>User</td>\n",
       "      <td>Broom Court</td>\n",
       "      <td>Family &amp; Friends</td>\n",
       "      <td>Internet</td>\n",
       "      <td>NaN</td>\n",
       "      <td>contacts.asp</td>\n",
       "    </tr>\n",
       "  </tbody>\n",
       "</table>\n",
       "</div>"
      ],
      "text/plain": [
       "              Time                             VisitorID  ExternalID  Role  \\\n",
       "0  11/1/21 5:10 PM  F7331B56-15F0-4793-9E09-5D9E2510A053      5325.0  User   \n",
       "1  11/1/21 5:10 PM  F7331B56-15F0-4793-9E09-5D9E2510A053      5325.0  User   \n",
       "2  11/1/21 5:08 PM  618B75EE-0A49-454C-82B7-6827A9BBA6A5      8899.0  User   \n",
       "3  11/1/21 5:08 PM  618B75EE-0A49-454C-82B7-6827A9BBA6A5      8899.0  User   \n",
       "4  11/1/21 5:07 PM  F7331B56-15F0-4793-9E09-5D9E2510A053      5325.0  User   \n",
       "\n",
       "         Location        Link Title Link  Type                 ContentInfo  \\\n",
       "0     Broom Court     Comfort Break   Services  -1|329|10|Comfort Break|1|   \n",
       "1     Broom Court           Ask For   Category                         NaN   \n",
       "2  67 Glamis Road      My Care Team   Category                         NaN   \n",
       "3  67 Glamis Road           My Care   Category                         NaN   \n",
       "4     Broom Court  Family & Friends   Internet                         NaN   \n",
       "\n",
       "            URL  \n",
       "0          LIST  \n",
       "1           NaN  \n",
       "2           NaN  \n",
       "3           NaN  \n",
       "4  contacts.asp  "
      ]
     },
     "execution_count": 8,
     "metadata": {},
     "output_type": "execute_result"
    }
   ],
   "source": [
    "data_ccdate.head()"
   ]
  },
  {
   "cell_type": "code",
   "execution_count": 9,
   "id": "f5d306c6",
   "metadata": {},
   "outputs": [
    {
     "data": {
      "text/plain": [
       "Time            object\n",
       "VisitorID       object\n",
       "ExternalID     float64\n",
       "Role            object\n",
       "Location        object\n",
       "Link Title      object\n",
       "Link  Type      object\n",
       "ContentInfo     object\n",
       "URL             object\n",
       "dtype: object"
      ]
     },
     "execution_count": 9,
     "metadata": {},
     "output_type": "execute_result"
    }
   ],
   "source": [
    "data_ccdate.dtypes"
   ]
  },
  {
   "cell_type": "code",
   "execution_count": 10,
   "id": "24a562d3",
   "metadata": {},
   "outputs": [
    {
     "data": {
      "text/plain": [
       "Time           1.000000\n",
       "VisitorID      1.000000\n",
       "ExternalID     0.825813\n",
       "Role           0.998401\n",
       "Location       0.977611\n",
       "Link Title     1.000000\n",
       "Link  Type     1.000000\n",
       "ContentInfo    0.036803\n",
       "URL            0.494857\n",
       "dtype: float64"
      ]
     },
     "execution_count": 10,
     "metadata": {},
     "output_type": "execute_result"
    }
   ],
   "source": [
    "data_ccdate.count() / data_ccdate.shape[0]"
   ]
  },
  {
   "cell_type": "code",
   "execution_count": 11,
   "id": "c48033c2",
   "metadata": {},
   "outputs": [],
   "source": [
    "data_ccdate['Time'] = pd.to_datetime(data_ccdate['Time'])"
   ]
  },
  {
   "cell_type": "code",
   "execution_count": 12,
   "id": "2fa391ab",
   "metadata": {},
   "outputs": [
    {
     "data": {
      "text/plain": [
       "0   2021-11-01 17:10:00\n",
       "1   2021-11-01 17:10:00\n",
       "2   2021-11-01 17:08:00\n",
       "3   2021-11-01 17:08:00\n",
       "4   2021-11-01 17:07:00\n",
       "Name: Time, dtype: datetime64[ns]"
      ]
     },
     "execution_count": 12,
     "metadata": {},
     "output_type": "execute_result"
    }
   ],
   "source": [
    "data_ccdate.Time.head()"
   ]
  },
  {
   "cell_type": "code",
   "execution_count": 13,
   "id": "31f90ac8",
   "metadata": {},
   "outputs": [
    {
     "data": {
      "text/plain": [
       "Timestamp('2021-11-01 17:10:00')"
      ]
     },
     "execution_count": 13,
     "metadata": {},
     "output_type": "execute_result"
    }
   ],
   "source": [
    "max(data_ccdate['Time'])"
   ]
  },
  {
   "cell_type": "code",
   "execution_count": 14,
   "id": "7ba352fe",
   "metadata": {},
   "outputs": [
    {
     "data": {
      "text/plain": [
       "Timestamp('2018-01-01 00:20:00')"
      ]
     },
     "execution_count": 14,
     "metadata": {},
     "output_type": "execute_result"
    }
   ],
   "source": [
    "min(data_ccdate['Time'])"
   ]
  },
  {
   "cell_type": "markdown",
   "id": "ee26a38c",
   "metadata": {},
   "source": [
    "(1) In '01_CCDate2018-2021.csv', data types include Datetime('Time'(from 2018-01-01 00:20:00 to 2021-11-01 17:10:00)), Float('ExternalID'), String('VisitorID', 'Role', 'Location', 'Link Title', 'Link Type', 'URL')."
   ]
  },
  {
   "cell_type": "markdown",
   "id": "e61edee4",
   "metadata": {},
   "source": [
    "##### For '02_Users2021.csv' "
   ]
  },
  {
   "cell_type": "code",
   "execution_count": 15,
   "id": "a3a71772",
   "metadata": {},
   "outputs": [
    {
     "data": {
      "text/html": [
       "<div>\n",
       "<style scoped>\n",
       "    .dataframe tbody tr th:only-of-type {\n",
       "        vertical-align: middle;\n",
       "    }\n",
       "\n",
       "    .dataframe tbody tr th {\n",
       "        vertical-align: top;\n",
       "    }\n",
       "\n",
       "    .dataframe thead th {\n",
       "        text-align: right;\n",
       "    }\n",
       "</style>\n",
       "<table border=\"1\" class=\"dataframe\">\n",
       "  <thead>\n",
       "    <tr style=\"text-align: right;\">\n",
       "      <th></th>\n",
       "      <th>User ID</th>\n",
       "      <th>VisitorID</th>\n",
       "      <th>ExternalID</th>\n",
       "      <th>Birth date</th>\n",
       "      <th>Gender</th>\n",
       "      <th>Location</th>\n",
       "    </tr>\n",
       "  </thead>\n",
       "  <tbody>\n",
       "    <tr>\n",
       "      <th>0</th>\n",
       "      <td>213</td>\n",
       "      <td>7447300C-B772-4779-9AC8-0A28B5BBBFF4</td>\n",
       "      <td>NaN</td>\n",
       "      <td>NaN</td>\n",
       "      <td>Male</td>\n",
       "      <td>NaN</td>\n",
       "    </tr>\n",
       "    <tr>\n",
       "      <th>1</th>\n",
       "      <td>298</td>\n",
       "      <td>F298F6B9-77E2-459D-96EE-F588FA2BC5B1</td>\n",
       "      <td>NaN</td>\n",
       "      <td>NaN</td>\n",
       "      <td>Male</td>\n",
       "      <td>NaN</td>\n",
       "    </tr>\n",
       "    <tr>\n",
       "      <th>2</th>\n",
       "      <td>314</td>\n",
       "      <td>5E896124-3F0E-4D01-915D-BAE9B3F1A39A</td>\n",
       "      <td>NaN</td>\n",
       "      <td>NaN</td>\n",
       "      <td>Male</td>\n",
       "      <td>NaN</td>\n",
       "    </tr>\n",
       "    <tr>\n",
       "      <th>3</th>\n",
       "      <td>370</td>\n",
       "      <td>E71C1EB8-6E61-4DB5-BE19-8E3AB8FBE95C</td>\n",
       "      <td>999.0</td>\n",
       "      <td>NaN</td>\n",
       "      <td>Male</td>\n",
       "      <td>Aberdeen Council</td>\n",
       "    </tr>\n",
       "    <tr>\n",
       "      <th>4</th>\n",
       "      <td>387</td>\n",
       "      <td>D7686862-D926-49CB-93CA-B8676CA2A91A</td>\n",
       "      <td>NaN</td>\n",
       "      <td>NaN</td>\n",
       "      <td>Male</td>\n",
       "      <td>NaN</td>\n",
       "    </tr>\n",
       "  </tbody>\n",
       "</table>\n",
       "</div>"
      ],
      "text/plain": [
       "   User ID                             VisitorID  ExternalID Birth date  \\\n",
       "0      213  7447300C-B772-4779-9AC8-0A28B5BBBFF4         NaN        NaN   \n",
       "1      298  F298F6B9-77E2-459D-96EE-F588FA2BC5B1         NaN        NaN   \n",
       "2      314  5E896124-3F0E-4D01-915D-BAE9B3F1A39A         NaN        NaN   \n",
       "3      370  E71C1EB8-6E61-4DB5-BE19-8E3AB8FBE95C       999.0        NaN   \n",
       "4      387  D7686862-D926-49CB-93CA-B8676CA2A91A         NaN        NaN   \n",
       "\n",
       "  Gender          Location  \n",
       "0   Male               NaN  \n",
       "1   Male               NaN  \n",
       "2   Male               NaN  \n",
       "3   Male  Aberdeen Council  \n",
       "4   Male               NaN  "
      ]
     },
     "execution_count": 15,
     "metadata": {},
     "output_type": "execute_result"
    }
   ],
   "source": [
    "data_users.head()"
   ]
  },
  {
   "cell_type": "code",
   "execution_count": 16,
   "id": "990b396b",
   "metadata": {},
   "outputs": [
    {
     "data": {
      "text/plain": [
       "User ID         int64\n",
       "VisitorID      object\n",
       "ExternalID    float64\n",
       "Birth date     object\n",
       "Gender         object\n",
       "Location       object\n",
       "dtype: object"
      ]
     },
     "execution_count": 16,
     "metadata": {},
     "output_type": "execute_result"
    }
   ],
   "source": [
    "data_users.dtypes"
   ]
  },
  {
   "cell_type": "code",
   "execution_count": 17,
   "id": "45d33f6d",
   "metadata": {},
   "outputs": [
    {
     "data": {
      "text/plain": [
       "User ID       1.000000\n",
       "VisitorID     1.000000\n",
       "ExternalID    0.731667\n",
       "Birth date    0.461137\n",
       "Gender        1.000000\n",
       "Location      0.830541\n",
       "dtype: float64"
      ]
     },
     "execution_count": 17,
     "metadata": {},
     "output_type": "execute_result"
    }
   ],
   "source": [
    "data_users.count() / data_users.shape[0]"
   ]
  },
  {
   "cell_type": "markdown",
   "id": "677e001f",
   "metadata": {},
   "source": [
    "(2) In '02_Users2021.csv', data types include Int('User ID'), Float('ExternalID'), String('VisitorID', 'Birth date', 'Gender', 'Location')."
   ]
  },
  {
   "cell_type": "markdown",
   "id": "987619a7",
   "metadata": {},
   "source": [
    "##### For '03_CustomerMedicalConditions04Nov21.csv' "
   ]
  },
  {
   "cell_type": "code",
   "execution_count": 18,
   "id": "82fd9066",
   "metadata": {},
   "outputs": [
    {
     "data": {
      "text/html": [
       "<div>\n",
       "<style scoped>\n",
       "    .dataframe tbody tr th:only-of-type {\n",
       "        vertical-align: middle;\n",
       "    }\n",
       "\n",
       "    .dataframe tbody tr th {\n",
       "        vertical-align: top;\n",
       "    }\n",
       "\n",
       "    .dataframe thead th {\n",
       "        text-align: right;\n",
       "    }\n",
       "</style>\n",
       "<table border=\"1\" class=\"dataframe\">\n",
       "  <thead>\n",
       "    <tr style=\"text-align: right;\">\n",
       "      <th></th>\n",
       "      <th>External ID</th>\n",
       "      <th>CleverCogsUserId</th>\n",
       "      <th>Gender</th>\n",
       "      <th>DateOfBirth</th>\n",
       "      <th>Age</th>\n",
       "      <th>StaffPlanConditions</th>\n",
       "      <th>CareSysCondition</th>\n",
       "    </tr>\n",
       "  </thead>\n",
       "  <tbody>\n",
       "    <tr>\n",
       "      <th>0</th>\n",
       "      <td>4703</td>\n",
       "      <td>685</td>\n",
       "      <td>F</td>\n",
       "      <td>7月4日</td>\n",
       "      <td>56.0</td>\n",
       "      <td>NaN</td>\n",
       "      <td>Spina Bifida</td>\n",
       "    </tr>\n",
       "    <tr>\n",
       "      <th>1</th>\n",
       "      <td>4704</td>\n",
       "      <td>772</td>\n",
       "      <td>F</td>\n",
       "      <td>6月21日</td>\n",
       "      <td>81.0</td>\n",
       "      <td>NaN</td>\n",
       "      <td>COPD</td>\n",
       "    </tr>\n",
       "    <tr>\n",
       "      <th>2</th>\n",
       "      <td>4706</td>\n",
       "      <td>1128</td>\n",
       "      <td>F</td>\n",
       "      <td>2月25日</td>\n",
       "      <td>90.0</td>\n",
       "      <td>NaN</td>\n",
       "      <td>Dementia</td>\n",
       "    </tr>\n",
       "    <tr>\n",
       "      <th>3</th>\n",
       "      <td>4707</td>\n",
       "      <td>1159</td>\n",
       "      <td>F</td>\n",
       "      <td>9月18日</td>\n",
       "      <td>39.0</td>\n",
       "      <td>NaN</td>\n",
       "      <td>Brain Injury</td>\n",
       "    </tr>\n",
       "    <tr>\n",
       "      <th>4</th>\n",
       "      <td>4708</td>\n",
       "      <td>784</td>\n",
       "      <td>F</td>\n",
       "      <td>12月20日</td>\n",
       "      <td>90.0</td>\n",
       "      <td>NaN</td>\n",
       "      <td>NaN</td>\n",
       "    </tr>\n",
       "  </tbody>\n",
       "</table>\n",
       "</div>"
      ],
      "text/plain": [
       "  External ID  CleverCogsUserId Gender DateOfBirth   Age StaffPlanConditions  \\\n",
       "0        4703               685      F        7月4日  56.0                 NaN   \n",
       "1        4704               772      F       6月21日  81.0                 NaN   \n",
       "2        4706              1128      F       2月25日  90.0                 NaN   \n",
       "3        4707              1159      F       9月18日  39.0                 NaN   \n",
       "4        4708               784      F      12月20日  90.0                 NaN   \n",
       "\n",
       "  CareSysCondition  \n",
       "0     Spina Bifida  \n",
       "1             COPD  \n",
       "2         Dementia  \n",
       "3     Brain Injury  \n",
       "4              NaN  "
      ]
     },
     "execution_count": 18,
     "metadata": {},
     "output_type": "execute_result"
    }
   ],
   "source": [
    "data_medical.head()"
   ]
  },
  {
   "cell_type": "code",
   "execution_count": 19,
   "id": "bffda67c",
   "metadata": {},
   "outputs": [
    {
     "data": {
      "text/plain": [
       "External ID             object\n",
       "CleverCogsUserId         int64\n",
       "Gender                  object\n",
       "DateOfBirth             object\n",
       "Age                    float64\n",
       "StaffPlanConditions     object\n",
       "CareSysCondition        object\n",
       "dtype: object"
      ]
     },
     "execution_count": 19,
     "metadata": {},
     "output_type": "execute_result"
    }
   ],
   "source": [
    "data_medical.dtypes"
   ]
  },
  {
   "cell_type": "code",
   "execution_count": 20,
   "id": "e84461af",
   "metadata": {},
   "outputs": [
    {
     "data": {
      "text/plain": [
       "External ID            1.000000\n",
       "CleverCogsUserId       1.000000\n",
       "Gender                 1.000000\n",
       "DateOfBirth            0.999237\n",
       "Age                    0.999237\n",
       "StaffPlanConditions    0.114416\n",
       "CareSysCondition       0.745995\n",
       "dtype: float64"
      ]
     },
     "execution_count": 20,
     "metadata": {},
     "output_type": "execute_result"
    }
   ],
   "source": [
    "data_medical.count() / data_medical.shape[0]"
   ]
  },
  {
   "cell_type": "code",
   "execution_count": 21,
   "id": "aa4b011a",
   "metadata": {},
   "outputs": [
    {
     "data": {
      "text/plain": [
       "F    705\n",
       "M    531\n",
       "U     75\n",
       "Name: Gender, dtype: int64"
      ]
     },
     "execution_count": 21,
     "metadata": {},
     "output_type": "execute_result"
    }
   ],
   "source": [
    "data_medical['Gender'].value_counts()"
   ]
  },
  {
   "cell_type": "code",
   "execution_count": 22,
   "id": "945e939f",
   "metadata": {},
   "outputs": [],
   "source": [
    "data_medical['Gender'] = data_medical['Gender'].map({'F': 'Female', 'M': 'Male', 'U': 'Unknown'})"
   ]
  },
  {
   "cell_type": "code",
   "execution_count": 23,
   "id": "743d4cc3",
   "metadata": {},
   "outputs": [
    {
     "data": {
      "text/plain": [
       "Female     705\n",
       "Male       531\n",
       "Unknown     75\n",
       "Name: Gender, dtype: int64"
      ]
     },
     "execution_count": 23,
     "metadata": {},
     "output_type": "execute_result"
    }
   ],
   "source": [
    "data_medical['Gender'].value_counts()"
   ]
  },
  {
   "cell_type": "markdown",
   "id": "adfb9067",
   "metadata": {},
   "source": [
    "(3) In '03_CustomerMedicalConditions04Nov21.csv', data types include String('External ID', 'Gender'\n",
    ", 'DateOfBirth', 'StaffPlanConditions', 'CareSysCondition'), Int('CleverCogsUserId'), Float('Age')."
   ]
  },
  {
   "cell_type": "markdown",
   "id": "987a28e3",
   "metadata": {},
   "source": [
    "#### Q4: Links between this data and other data (e.g. foreign keys, unique ids) "
   ]
  },
  {
   "cell_type": "code",
   "execution_count": 24,
   "id": "07d1b8c3",
   "metadata": {},
   "outputs": [
    {
     "data": {
      "text/plain": [
       "0.8258125100203844"
      ]
     },
     "execution_count": 24,
     "metadata": {},
     "output_type": "execute_result"
    }
   ],
   "source": [
    "data_ccdate['ExternalID'].count() / data_ccdate.shape[0]"
   ]
  },
  {
   "cell_type": "code",
   "execution_count": 25,
   "id": "5691636f",
   "metadata": {},
   "outputs": [
    {
     "data": {
      "text/plain": [
       "0.7316671244163692"
      ]
     },
     "execution_count": 25,
     "metadata": {},
     "output_type": "execute_result"
    }
   ],
   "source": [
    "data_users['ExternalID'].count() / data_users.shape[0]"
   ]
  },
  {
   "cell_type": "code",
   "execution_count": 26,
   "id": "bd56a1ea",
   "metadata": {},
   "outputs": [],
   "source": [
    "data_ccdate.dropna(subset=['ExternalID'], inplace=True)"
   ]
  },
  {
   "cell_type": "code",
   "execution_count": 27,
   "id": "6b6715b1",
   "metadata": {},
   "outputs": [],
   "source": [
    "data_users.dropna(subset=['ExternalID'], inplace=True)"
   ]
  },
  {
   "cell_type": "markdown",
   "id": "83b9585a",
   "metadata": {},
   "source": [
    "First, I linked '01_CCDate2018-2021.csv' and '02_Users2021.csv' by using 'ExternalID'."
   ]
  },
  {
   "cell_type": "code",
   "execution_count": 28,
   "id": "1e8d5fba",
   "metadata": {},
   "outputs": [],
   "source": [
    "data_of_ccdate_and_users = pd.merge(data_ccdate, data_users, on='ExternalID')"
   ]
  },
  {
   "cell_type": "code",
   "execution_count": 29,
   "id": "db5bd455",
   "metadata": {},
   "outputs": [],
   "source": [
    "data_medical.rename(columns = {'External ID': 'ExternalID'}, inplace=True)"
   ]
  },
  {
   "cell_type": "code",
   "execution_count": 30,
   "id": "e66f96f2",
   "metadata": {},
   "outputs": [
    {
     "data": {
      "text/html": [
       "<div>\n",
       "<style scoped>\n",
       "    .dataframe tbody tr th:only-of-type {\n",
       "        vertical-align: middle;\n",
       "    }\n",
       "\n",
       "    .dataframe tbody tr th {\n",
       "        vertical-align: top;\n",
       "    }\n",
       "\n",
       "    .dataframe thead th {\n",
       "        text-align: right;\n",
       "    }\n",
       "</style>\n",
       "<table border=\"1\" class=\"dataframe\">\n",
       "  <thead>\n",
       "    <tr style=\"text-align: right;\">\n",
       "      <th></th>\n",
       "      <th>ExternalID</th>\n",
       "      <th>CleverCogsUserId</th>\n",
       "      <th>Gender</th>\n",
       "      <th>DateOfBirth</th>\n",
       "      <th>Age</th>\n",
       "      <th>StaffPlanConditions</th>\n",
       "      <th>CareSysCondition</th>\n",
       "    </tr>\n",
       "  </thead>\n",
       "  <tbody>\n",
       "    <tr>\n",
       "      <th>6</th>\n",
       "      <td></td>\n",
       "      <td>807</td>\n",
       "      <td>Female</td>\n",
       "      <td>1月21日</td>\n",
       "      <td>84.0</td>\n",
       "      <td>NaN</td>\n",
       "      <td>Dementia</td>\n",
       "    </tr>\n",
       "    <tr>\n",
       "      <th>0</th>\n",
       "      <td>4703</td>\n",
       "      <td>685</td>\n",
       "      <td>Female</td>\n",
       "      <td>7月4日</td>\n",
       "      <td>56.0</td>\n",
       "      <td>NaN</td>\n",
       "      <td>Spina Bifida</td>\n",
       "    </tr>\n",
       "    <tr>\n",
       "      <th>1</th>\n",
       "      <td>4704</td>\n",
       "      <td>772</td>\n",
       "      <td>Female</td>\n",
       "      <td>6月21日</td>\n",
       "      <td>81.0</td>\n",
       "      <td>NaN</td>\n",
       "      <td>COPD</td>\n",
       "    </tr>\n",
       "    <tr>\n",
       "      <th>2</th>\n",
       "      <td>4706</td>\n",
       "      <td>1128</td>\n",
       "      <td>Female</td>\n",
       "      <td>2月25日</td>\n",
       "      <td>90.0</td>\n",
       "      <td>NaN</td>\n",
       "      <td>Dementia</td>\n",
       "    </tr>\n",
       "    <tr>\n",
       "      <th>3</th>\n",
       "      <td>4707</td>\n",
       "      <td>1159</td>\n",
       "      <td>Female</td>\n",
       "      <td>9月18日</td>\n",
       "      <td>39.0</td>\n",
       "      <td>NaN</td>\n",
       "      <td>Brain Injury</td>\n",
       "    </tr>\n",
       "    <tr>\n",
       "      <th>...</th>\n",
       "      <td>...</td>\n",
       "      <td>...</td>\n",
       "      <td>...</td>\n",
       "      <td>...</td>\n",
       "      <td>...</td>\n",
       "      <td>...</td>\n",
       "      <td>...</td>\n",
       "    </tr>\n",
       "    <tr>\n",
       "      <th>1306</th>\n",
       "      <td>9586</td>\n",
       "      <td>5656</td>\n",
       "      <td>Female</td>\n",
       "      <td>4月9日</td>\n",
       "      <td>89.0</td>\n",
       "      <td>Dementia                                      ...</td>\n",
       "      <td>NaN</td>\n",
       "    </tr>\n",
       "    <tr>\n",
       "      <th>1307</th>\n",
       "      <td>9594</td>\n",
       "      <td>4060</td>\n",
       "      <td>Male</td>\n",
       "      <td>10月8日</td>\n",
       "      <td>73.0</td>\n",
       "      <td>Multiple Sclerosis                            ...</td>\n",
       "      <td>NaN</td>\n",
       "    </tr>\n",
       "    <tr>\n",
       "      <th>1308</th>\n",
       "      <td>9600</td>\n",
       "      <td>5670</td>\n",
       "      <td>Male</td>\n",
       "      <td>11月2日</td>\n",
       "      <td>69.0</td>\n",
       "      <td>NaN</td>\n",
       "      <td>NaN</td>\n",
       "    </tr>\n",
       "    <tr>\n",
       "      <th>1309</th>\n",
       "      <td>9604</td>\n",
       "      <td>5678</td>\n",
       "      <td>Male</td>\n",
       "      <td>5月26日</td>\n",
       "      <td>73.0</td>\n",
       "      <td>NaN</td>\n",
       "      <td>COPD</td>\n",
       "    </tr>\n",
       "    <tr>\n",
       "      <th>1310</th>\n",
       "      <td>9605</td>\n",
       "      <td>5679</td>\n",
       "      <td>Female</td>\n",
       "      <td>5月19日</td>\n",
       "      <td>54.0</td>\n",
       "      <td>NaN</td>\n",
       "      <td>NaN</td>\n",
       "    </tr>\n",
       "  </tbody>\n",
       "</table>\n",
       "<p>1311 rows × 7 columns</p>\n",
       "</div>"
      ],
      "text/plain": [
       "     ExternalID  CleverCogsUserId  Gender DateOfBirth   Age  \\\n",
       "6                             807  Female       1月21日  84.0   \n",
       "0          4703               685  Female        7月4日  56.0   \n",
       "1          4704               772  Female       6月21日  81.0   \n",
       "2          4706              1128  Female       2月25日  90.0   \n",
       "3          4707              1159  Female       9月18日  39.0   \n",
       "...         ...               ...     ...         ...   ...   \n",
       "1306       9586              5656  Female        4月9日  89.0   \n",
       "1307       9594              4060    Male       10月8日  73.0   \n",
       "1308       9600              5670    Male       11月2日  69.0   \n",
       "1309       9604              5678    Male       5月26日  73.0   \n",
       "1310       9605              5679  Female       5月19日  54.0   \n",
       "\n",
       "                                    StaffPlanConditions CareSysCondition  \n",
       "6                                                   NaN         Dementia  \n",
       "0                                                   NaN     Spina Bifida  \n",
       "1                                                   NaN             COPD  \n",
       "2                                                   NaN         Dementia  \n",
       "3                                                   NaN     Brain Injury  \n",
       "...                                                 ...              ...  \n",
       "1306  Dementia                                      ...              NaN  \n",
       "1307  Multiple Sclerosis                            ...              NaN  \n",
       "1308                                                NaN              NaN  \n",
       "1309                                                NaN             COPD  \n",
       "1310                                                NaN              NaN  \n",
       "\n",
       "[1311 rows x 7 columns]"
      ]
     },
     "execution_count": 30,
     "metadata": {},
     "output_type": "execute_result"
    }
   ],
   "source": [
    "data_medical.sort_values('ExternalID', ascending=True)"
   ]
  },
  {
   "cell_type": "markdown",
   "id": "dc8692c0",
   "metadata": {},
   "source": [
    "There is a null in 'ExternalID' of '03_CustomerMedicalConditions04Nov21.csv'. Thus, I tried to look for the missing value in '02_Users2021.csv' through 'UserId'."
   ]
  },
  {
   "cell_type": "code",
   "execution_count": 31,
   "id": "b8c0f1f7",
   "metadata": {},
   "outputs": [
    {
     "data": {
      "text/html": [
       "<div>\n",
       "<style scoped>\n",
       "    .dataframe tbody tr th:only-of-type {\n",
       "        vertical-align: middle;\n",
       "    }\n",
       "\n",
       "    .dataframe tbody tr th {\n",
       "        vertical-align: top;\n",
       "    }\n",
       "\n",
       "    .dataframe thead th {\n",
       "        text-align: right;\n",
       "    }\n",
       "</style>\n",
       "<table border=\"1\" class=\"dataframe\">\n",
       "  <thead>\n",
       "    <tr style=\"text-align: right;\">\n",
       "      <th></th>\n",
       "      <th>User ID</th>\n",
       "      <th>VisitorID</th>\n",
       "      <th>ExternalID</th>\n",
       "      <th>Birth date</th>\n",
       "      <th>Gender</th>\n",
       "      <th>Location</th>\n",
       "    </tr>\n",
       "  </thead>\n",
       "  <tbody>\n",
       "    <tr>\n",
       "      <th>208</th>\n",
       "      <td>807</td>\n",
       "      <td>BE5FCB83-7CA4-48CD-979D-4019F8ADBCBB</td>\n",
       "      <td>4710.0</td>\n",
       "      <td>NaN</td>\n",
       "      <td>Female</td>\n",
       "      <td>Dundee City Council/Menzieshill</td>\n",
       "    </tr>\n",
       "  </tbody>\n",
       "</table>\n",
       "</div>"
      ],
      "text/plain": [
       "     User ID                             VisitorID  ExternalID Birth date  \\\n",
       "208      807  BE5FCB83-7CA4-48CD-979D-4019F8ADBCBB      4710.0        NaN   \n",
       "\n",
       "     Gender                         Location  \n",
       "208  Female  Dundee City Council/Menzieshill  "
      ]
     },
     "execution_count": 31,
     "metadata": {},
     "output_type": "execute_result"
    }
   ],
   "source": [
    "data_users[data_users['User ID'] == 807]"
   ]
  },
  {
   "cell_type": "code",
   "execution_count": 32,
   "id": "2fc214b0",
   "metadata": {
    "scrolled": true
   },
   "outputs": [],
   "source": [
    "data_medical.loc[6:6, ('ExternalID')] = ['4710']"
   ]
  },
  {
   "cell_type": "code",
   "execution_count": 33,
   "id": "2dd8c215",
   "metadata": {},
   "outputs": [],
   "source": [
    "data_medical['ExternalID'] = pd.to_numeric(data_medical['ExternalID'])"
   ]
  },
  {
   "cell_type": "markdown",
   "id": "ea53acd1",
   "metadata": {},
   "source": [
    "Then, I linked the data (ccdate & users) and '03_CustomerMedicalConditions04Nov21.csv' by using 'ExternalID'."
   ]
  },
  {
   "cell_type": "code",
   "execution_count": 34,
   "id": "52ec6715",
   "metadata": {},
   "outputs": [],
   "source": [
    "data_of_all = pd.merge(data_of_ccdate_and_users, data_medical, on='ExternalID')"
   ]
  },
  {
   "cell_type": "code",
   "execution_count": 35,
   "id": "301d8d9c",
   "metadata": {},
   "outputs": [
    {
     "data": {
      "text/html": [
       "<div>\n",
       "<style scoped>\n",
       "    .dataframe tbody tr th:only-of-type {\n",
       "        vertical-align: middle;\n",
       "    }\n",
       "\n",
       "    .dataframe tbody tr th {\n",
       "        vertical-align: top;\n",
       "    }\n",
       "\n",
       "    .dataframe thead th {\n",
       "        text-align: right;\n",
       "    }\n",
       "</style>\n",
       "<table border=\"1\" class=\"dataframe\">\n",
       "  <thead>\n",
       "    <tr style=\"text-align: right;\">\n",
       "      <th></th>\n",
       "      <th>Time</th>\n",
       "      <th>VisitorID_x</th>\n",
       "      <th>ExternalID</th>\n",
       "      <th>Role</th>\n",
       "      <th>Location_x</th>\n",
       "      <th>Link Title</th>\n",
       "      <th>Link  Type</th>\n",
       "      <th>ContentInfo</th>\n",
       "      <th>URL</th>\n",
       "      <th>User ID</th>\n",
       "      <th>VisitorID_y</th>\n",
       "      <th>Birth date</th>\n",
       "      <th>Gender_x</th>\n",
       "      <th>Location_y</th>\n",
       "      <th>CleverCogsUserId</th>\n",
       "      <th>Gender_y</th>\n",
       "      <th>DateOfBirth</th>\n",
       "      <th>Age</th>\n",
       "      <th>StaffPlanConditions</th>\n",
       "      <th>CareSysCondition</th>\n",
       "    </tr>\n",
       "  </thead>\n",
       "  <tbody>\n",
       "    <tr>\n",
       "      <th>0</th>\n",
       "      <td>2021-11-01 17:08:00</td>\n",
       "      <td>618B75EE-0A49-454C-82B7-6827A9BBA6A5</td>\n",
       "      <td>8899.0</td>\n",
       "      <td>User</td>\n",
       "      <td>67 Glamis Road</td>\n",
       "      <td>My Care Team</td>\n",
       "      <td>Category</td>\n",
       "      <td>NaN</td>\n",
       "      <td>NaN</td>\n",
       "      <td>4859</td>\n",
       "      <td>0F135CC1-E809-4C1F-8E6F-BD861288920D</td>\n",
       "      <td>5/26/63 12:00 AM</td>\n",
       "      <td>Male</td>\n",
       "      <td>National/WEST /Glasgow City Council/Glasgow Ea...</td>\n",
       "      <td>4859</td>\n",
       "      <td>Male</td>\n",
       "      <td>5月26日</td>\n",
       "      <td>58.0</td>\n",
       "      <td>NaN</td>\n",
       "      <td>Cancer</td>\n",
       "    </tr>\n",
       "    <tr>\n",
       "      <th>1</th>\n",
       "      <td>2021-11-01 17:08:00</td>\n",
       "      <td>618B75EE-0A49-454C-82B7-6827A9BBA6A5</td>\n",
       "      <td>8899.0</td>\n",
       "      <td>User</td>\n",
       "      <td>67 Glamis Road</td>\n",
       "      <td>My Care</td>\n",
       "      <td>Category</td>\n",
       "      <td>NaN</td>\n",
       "      <td>NaN</td>\n",
       "      <td>4859</td>\n",
       "      <td>0F135CC1-E809-4C1F-8E6F-BD861288920D</td>\n",
       "      <td>5/26/63 12:00 AM</td>\n",
       "      <td>Male</td>\n",
       "      <td>National/WEST /Glasgow City Council/Glasgow Ea...</td>\n",
       "      <td>4859</td>\n",
       "      <td>Male</td>\n",
       "      <td>5月26日</td>\n",
       "      <td>58.0</td>\n",
       "      <td>NaN</td>\n",
       "      <td>Cancer</td>\n",
       "    </tr>\n",
       "    <tr>\n",
       "      <th>2</th>\n",
       "      <td>2021-10-29 15:57:00</td>\n",
       "      <td>618B75EE-0A49-454C-82B7-6827A9BBA6A5</td>\n",
       "      <td>8899.0</td>\n",
       "      <td>User</td>\n",
       "      <td>67 Glamis Road</td>\n",
       "      <td>Care Notes</td>\n",
       "      <td>Internet</td>\n",
       "      <td>NaN</td>\n",
       "      <td>notes.asp</td>\n",
       "      <td>4859</td>\n",
       "      <td>0F135CC1-E809-4C1F-8E6F-BD861288920D</td>\n",
       "      <td>5/26/63 12:00 AM</td>\n",
       "      <td>Male</td>\n",
       "      <td>National/WEST /Glasgow City Council/Glasgow Ea...</td>\n",
       "      <td>4859</td>\n",
       "      <td>Male</td>\n",
       "      <td>5月26日</td>\n",
       "      <td>58.0</td>\n",
       "      <td>NaN</td>\n",
       "      <td>Cancer</td>\n",
       "    </tr>\n",
       "    <tr>\n",
       "      <th>3</th>\n",
       "      <td>2021-10-29 15:57:00</td>\n",
       "      <td>618B75EE-0A49-454C-82B7-6827A9BBA6A5</td>\n",
       "      <td>8899.0</td>\n",
       "      <td>User</td>\n",
       "      <td>67 Glamis Road</td>\n",
       "      <td>My Care</td>\n",
       "      <td>Category</td>\n",
       "      <td>NaN</td>\n",
       "      <td>NaN</td>\n",
       "      <td>4859</td>\n",
       "      <td>0F135CC1-E809-4C1F-8E6F-BD861288920D</td>\n",
       "      <td>5/26/63 12:00 AM</td>\n",
       "      <td>Male</td>\n",
       "      <td>National/WEST /Glasgow City Council/Glasgow Ea...</td>\n",
       "      <td>4859</td>\n",
       "      <td>Male</td>\n",
       "      <td>5月26日</td>\n",
       "      <td>58.0</td>\n",
       "      <td>NaN</td>\n",
       "      <td>Cancer</td>\n",
       "    </tr>\n",
       "    <tr>\n",
       "      <th>4</th>\n",
       "      <td>2021-10-22 16:01:00</td>\n",
       "      <td>618B75EE-0A49-454C-82B7-6827A9BBA6A5</td>\n",
       "      <td>8899.0</td>\n",
       "      <td>User</td>\n",
       "      <td>67 Glamis Road</td>\n",
       "      <td>Care Notes</td>\n",
       "      <td>Internet</td>\n",
       "      <td>NaN</td>\n",
       "      <td>notes.asp</td>\n",
       "      <td>4859</td>\n",
       "      <td>0F135CC1-E809-4C1F-8E6F-BD861288920D</td>\n",
       "      <td>5/26/63 12:00 AM</td>\n",
       "      <td>Male</td>\n",
       "      <td>National/WEST /Glasgow City Council/Glasgow Ea...</td>\n",
       "      <td>4859</td>\n",
       "      <td>Male</td>\n",
       "      <td>5月26日</td>\n",
       "      <td>58.0</td>\n",
       "      <td>NaN</td>\n",
       "      <td>Cancer</td>\n",
       "    </tr>\n",
       "  </tbody>\n",
       "</table>\n",
       "</div>"
      ],
      "text/plain": [
       "                 Time                           VisitorID_x  ExternalID  Role  \\\n",
       "0 2021-11-01 17:08:00  618B75EE-0A49-454C-82B7-6827A9BBA6A5      8899.0  User   \n",
       "1 2021-11-01 17:08:00  618B75EE-0A49-454C-82B7-6827A9BBA6A5      8899.0  User   \n",
       "2 2021-10-29 15:57:00  618B75EE-0A49-454C-82B7-6827A9BBA6A5      8899.0  User   \n",
       "3 2021-10-29 15:57:00  618B75EE-0A49-454C-82B7-6827A9BBA6A5      8899.0  User   \n",
       "4 2021-10-22 16:01:00  618B75EE-0A49-454C-82B7-6827A9BBA6A5      8899.0  User   \n",
       "\n",
       "       Location_x    Link Title Link  Type ContentInfo        URL  User ID  \\\n",
       "0  67 Glamis Road  My Care Team   Category         NaN        NaN     4859   \n",
       "1  67 Glamis Road       My Care   Category         NaN        NaN     4859   \n",
       "2  67 Glamis Road    Care Notes   Internet         NaN  notes.asp     4859   \n",
       "3  67 Glamis Road       My Care   Category         NaN        NaN     4859   \n",
       "4  67 Glamis Road    Care Notes   Internet         NaN  notes.asp     4859   \n",
       "\n",
       "                            VisitorID_y        Birth date Gender_x  \\\n",
       "0  0F135CC1-E809-4C1F-8E6F-BD861288920D  5/26/63 12:00 AM     Male   \n",
       "1  0F135CC1-E809-4C1F-8E6F-BD861288920D  5/26/63 12:00 AM     Male   \n",
       "2  0F135CC1-E809-4C1F-8E6F-BD861288920D  5/26/63 12:00 AM     Male   \n",
       "3  0F135CC1-E809-4C1F-8E6F-BD861288920D  5/26/63 12:00 AM     Male   \n",
       "4  0F135CC1-E809-4C1F-8E6F-BD861288920D  5/26/63 12:00 AM     Male   \n",
       "\n",
       "                                          Location_y  CleverCogsUserId  \\\n",
       "0  National/WEST /Glasgow City Council/Glasgow Ea...              4859   \n",
       "1  National/WEST /Glasgow City Council/Glasgow Ea...              4859   \n",
       "2  National/WEST /Glasgow City Council/Glasgow Ea...              4859   \n",
       "3  National/WEST /Glasgow City Council/Glasgow Ea...              4859   \n",
       "4  National/WEST /Glasgow City Council/Glasgow Ea...              4859   \n",
       "\n",
       "  Gender_y DateOfBirth   Age StaffPlanConditions CareSysCondition  \n",
       "0     Male       5月26日  58.0                 NaN           Cancer  \n",
       "1     Male       5月26日  58.0                 NaN           Cancer  \n",
       "2     Male       5月26日  58.0                 NaN           Cancer  \n",
       "3     Male       5月26日  58.0                 NaN           Cancer  \n",
       "4     Male       5月26日  58.0                 NaN           Cancer  "
      ]
     },
     "execution_count": 35,
     "metadata": {},
     "output_type": "execute_result"
    }
   ],
   "source": [
    "data_of_all.head()"
   ]
  },
  {
   "cell_type": "markdown",
   "id": "fcc4a083",
   "metadata": {},
   "source": [
    "Through 'ExternalID', three data tables are linked."
   ]
  },
  {
   "cell_type": "markdown",
   "id": "472d31aa",
   "metadata": {},
   "source": [
    "##### Q5: Summary statistics about the data - how many people, what time frame. field averages etc. "
   ]
  },
  {
   "cell_type": "markdown",
   "id": "c475e653",
   "metadata": {},
   "source": [
    "First, I wonder to see the condition of data lack in data_of_all."
   ]
  },
  {
   "cell_type": "code",
   "execution_count": 36,
   "id": "ba4ee16b",
   "metadata": {},
   "outputs": [
    {
     "data": {
      "text/plain": [
       "Time                   1.000000\n",
       "VisitorID_x            1.000000\n",
       "ExternalID             1.000000\n",
       "Role                   1.000000\n",
       "Location_x             0.980515\n",
       "Link Title             1.000000\n",
       "Link  Type             1.000000\n",
       "ContentInfo            0.035795\n",
       "URL                    0.482124\n",
       "User ID                1.000000\n",
       "VisitorID_y            1.000000\n",
       "Birth date             0.738891\n",
       "Gender_x               1.000000\n",
       "Location_y             0.980515\n",
       "CleverCogsUserId       1.000000\n",
       "Gender_y               1.000000\n",
       "DateOfBirth            1.000000\n",
       "Age                    1.000000\n",
       "StaffPlanConditions    0.290027\n",
       "CareSysCondition       0.775624\n",
       "dtype: float64"
      ]
     },
     "execution_count": 36,
     "metadata": {},
     "output_type": "execute_result"
    }
   ],
   "source": [
    "data_of_all.count() / data_of_all.shape[0]"
   ]
  },
  {
   "cell_type": "markdown",
   "id": "484da000",
   "metadata": {},
   "source": [
    "It is clear that there is missing data on certain dimensions, especially 'ContentInfo' and 'StaffPlanConditions'."
   ]
  },
  {
   "cell_type": "markdown",
   "id": "b1361017",
   "metadata": {},
   "source": [
    "Then, I wonder to see the number of people by 'ExternalID'."
   ]
  },
  {
   "cell_type": "code",
   "execution_count": 37,
   "id": "a4029746",
   "metadata": {},
   "outputs": [
    {
     "data": {
      "text/plain": [
       "5535.0    60350\n",
       "5207.0    30780\n",
       "9137.0    30446\n",
       "5541.0    29658\n",
       "4763.0    26160\n",
       "          ...  \n",
       "7903.0        1\n",
       "7313.0        1\n",
       "7959.0        1\n",
       "8920.0        1\n",
       "8353.0        1\n",
       "Name: ExternalID, Length: 484, dtype: int64"
      ]
     },
     "execution_count": 37,
     "metadata": {},
     "output_type": "execute_result"
    }
   ],
   "source": [
    "data_of_all['ExternalID'].value_counts()"
   ]
  },
  {
   "cell_type": "markdown",
   "id": "758c3481",
   "metadata": {},
   "source": [
    "(1) There are 484 people."
   ]
  },
  {
   "cell_type": "code",
   "execution_count": 38,
   "id": "f037871f",
   "metadata": {},
   "outputs": [
    {
     "data": {
      "text/plain": [
       "Timestamp('2021-11-01 17:08:00')"
      ]
     },
     "execution_count": 38,
     "metadata": {},
     "output_type": "execute_result"
    }
   ],
   "source": [
    "data_of_all['Time'].max()"
   ]
  },
  {
   "cell_type": "code",
   "execution_count": 39,
   "id": "02789651",
   "metadata": {},
   "outputs": [
    {
     "data": {
      "text/plain": [
       "Timestamp('2018-01-01 00:20:00')"
      ]
     },
     "execution_count": 39,
     "metadata": {},
     "output_type": "execute_result"
    }
   ],
   "source": [
    "data_of_all['Time'].min()"
   ]
  },
  {
   "cell_type": "markdown",
   "id": "1212686c",
   "metadata": {},
   "source": [
    "(2) The time field is from 2018-01-01 to 2021-11-01. "
   ]
  },
  {
   "cell_type": "code",
   "execution_count": 40,
   "id": "dadfb2e9",
   "metadata": {},
   "outputs": [
    {
     "data": {
      "text/plain": [
       "121.0"
      ]
     },
     "execution_count": 40,
     "metadata": {},
     "output_type": "execute_result"
    }
   ],
   "source": [
    "data_of_all['Age'].max()"
   ]
  },
  {
   "cell_type": "code",
   "execution_count": 41,
   "id": "cc22a1c0",
   "metadata": {},
   "outputs": [
    {
     "data": {
      "text/plain": [
       "(21,)"
      ]
     },
     "execution_count": 41,
     "metadata": {},
     "output_type": "execute_result"
    }
   ],
   "source": [
    "data_of_all[data_of_all['Age'] >= 100]['ExternalID'].value_counts().shape"
   ]
  },
  {
   "cell_type": "code",
   "execution_count": 42,
   "id": "b430bed7",
   "metadata": {},
   "outputs": [
    {
     "data": {
      "text/plain": [
       "(18,)"
      ]
     },
     "execution_count": 42,
     "metadata": {},
     "output_type": "execute_result"
    }
   ],
   "source": [
    "data_of_all[data_of_all['Age'] == 121]['ExternalID'].value_counts().shape"
   ]
  },
  {
   "cell_type": "markdown",
   "id": "700dee75",
   "metadata": {},
   "source": [
    "There are 21 people whose age is beyond 100, but 18 people whose age is 121. It may be problematic. Thus, when I conducted an analysis, I dealt with this extreme number."
   ]
  },
  {
   "cell_type": "code",
   "execution_count": 43,
   "id": "dfdef910",
   "metadata": {},
   "outputs": [
    {
     "data": {
      "text/plain": [
       "103.0"
      ]
     },
     "execution_count": 43,
     "metadata": {},
     "output_type": "execute_result"
    }
   ],
   "source": [
    "data_of_all[data_of_all['Age'] < 121]['Age'].max()"
   ]
  },
  {
   "cell_type": "code",
   "execution_count": 44,
   "id": "c98d2f39",
   "metadata": {},
   "outputs": [
    {
     "data": {
      "text/plain": [
       "4.0"
      ]
     },
     "execution_count": 44,
     "metadata": {},
     "output_type": "execute_result"
    }
   ],
   "source": [
    "data_of_all['Age'].min()"
   ]
  },
  {
   "cell_type": "code",
   "execution_count": 45,
   "id": "861eca4c",
   "metadata": {},
   "outputs": [
    {
     "data": {
      "text/plain": [
       "7.0    161\n",
       "4.0     70\n",
       "Name: Age, dtype: int64"
      ]
     },
     "execution_count": 45,
     "metadata": {},
     "output_type": "execute_result"
    }
   ],
   "source": [
    "data_of_all[data_of_all['Age'] < 20]['Age'].value_counts()"
   ]
  },
  {
   "cell_type": "code",
   "execution_count": 46,
   "id": "8ec83814",
   "metadata": {},
   "outputs": [
    {
     "data": {
      "text/plain": [
       "60.26405858661071"
      ]
     },
     "execution_count": 46,
     "metadata": {},
     "output_type": "execute_result"
    }
   ],
   "source": [
    "np.mean(data_of_all[data_of_all['Age'] < 121]['Age'])"
   ]
  },
  {
   "cell_type": "markdown",
   "id": "b0accf60",
   "metadata": {},
   "source": [
    "The range of age is from 4 to 103, and the average of age is about 60.65."
   ]
  },
  {
   "cell_type": "markdown",
   "id": "fa3e0069",
   "metadata": {},
   "source": [
    "Then, I wonder to see the condition of 'Gender', 'Location', 'Age', etc. Thus, I extracted these data and deposited them in a new DataFrame. "
   ]
  },
  {
   "cell_type": "code",
   "execution_count": 47,
   "id": "1a2756fa",
   "metadata": {},
   "outputs": [],
   "source": [
    "data_extracted = data_of_all.iloc[:,[2, 12, 13, 17, 19]].drop_duplicates()"
   ]
  },
  {
   "cell_type": "code",
   "execution_count": 48,
   "id": "60b1776a",
   "metadata": {
    "scrolled": true
   },
   "outputs": [
    {
     "data": {
      "text/html": [
       "<div>\n",
       "<style scoped>\n",
       "    .dataframe tbody tr th:only-of-type {\n",
       "        vertical-align: middle;\n",
       "    }\n",
       "\n",
       "    .dataframe tbody tr th {\n",
       "        vertical-align: top;\n",
       "    }\n",
       "\n",
       "    .dataframe thead th {\n",
       "        text-align: right;\n",
       "    }\n",
       "</style>\n",
       "<table border=\"1\" class=\"dataframe\">\n",
       "  <thead>\n",
       "    <tr style=\"text-align: right;\">\n",
       "      <th></th>\n",
       "      <th>ExternalID</th>\n",
       "      <th>Gender_x</th>\n",
       "      <th>Location_y</th>\n",
       "      <th>Age</th>\n",
       "      <th>CareSysCondition</th>\n",
       "    </tr>\n",
       "  </thead>\n",
       "  <tbody>\n",
       "    <tr>\n",
       "      <th>0</th>\n",
       "      <td>8899.0</td>\n",
       "      <td>Male</td>\n",
       "      <td>National/WEST /Glasgow City Council/Glasgow Ea...</td>\n",
       "      <td>58.0</td>\n",
       "      <td>Cancer</td>\n",
       "    </tr>\n",
       "    <tr>\n",
       "      <th>337</th>\n",
       "      <td>9181.0</td>\n",
       "      <td>Female</td>\n",
       "      <td>National/North/Aberdeen City Council/Raeden Ca...</td>\n",
       "      <td>93.0</td>\n",
       "      <td>Elderly Care/Support</td>\n",
       "    </tr>\n",
       "    <tr>\n",
       "      <th>4911</th>\n",
       "      <td>7901.0</td>\n",
       "      <td>Male</td>\n",
       "      <td>National/North/Aberdeen City Council/Raeden Ca...</td>\n",
       "      <td>70.0</td>\n",
       "      <td>NaN</td>\n",
       "    </tr>\n",
       "    <tr>\n",
       "      <th>28461</th>\n",
       "      <td>5535.0</td>\n",
       "      <td>Female</td>\n",
       "      <td>National/WEST /South Ayrshire Council/South Ay...</td>\n",
       "      <td>66.0</td>\n",
       "      <td>NaN</td>\n",
       "    </tr>\n",
       "    <tr>\n",
       "      <th>88811</th>\n",
       "      <td>9402.0</td>\n",
       "      <td>Male</td>\n",
       "      <td>National/EAST /Edinburgh City Council/Edinburg...</td>\n",
       "      <td>32.0</td>\n",
       "      <td>Brain Injury</td>\n",
       "    </tr>\n",
       "    <tr>\n",
       "      <th>...</th>\n",
       "      <td>...</td>\n",
       "      <td>...</td>\n",
       "      <td>...</td>\n",
       "      <td>...</td>\n",
       "      <td>...</td>\n",
       "    </tr>\n",
       "    <tr>\n",
       "      <th>475462</th>\n",
       "      <td>5694.0</td>\n",
       "      <td>Female</td>\n",
       "      <td>NaN</td>\n",
       "      <td>29.0</td>\n",
       "      <td>Spinal Injury</td>\n",
       "    </tr>\n",
       "    <tr>\n",
       "      <th>475521</th>\n",
       "      <td>5657.0</td>\n",
       "      <td>Male</td>\n",
       "      <td>National/EAST /Edinburgh City Council/Edinburg...</td>\n",
       "      <td>88.0</td>\n",
       "      <td>Dementia</td>\n",
       "    </tr>\n",
       "    <tr>\n",
       "      <th>475525</th>\n",
       "      <td>5071.0</td>\n",
       "      <td>Male</td>\n",
       "      <td>National/North/North Housing</td>\n",
       "      <td>56.0</td>\n",
       "      <td>Learning Difficulties</td>\n",
       "    </tr>\n",
       "    <tr>\n",
       "      <th>475568</th>\n",
       "      <td>4703.0</td>\n",
       "      <td>Female</td>\n",
       "      <td>Dundee City Council/Menzieshill</td>\n",
       "      <td>56.0</td>\n",
       "      <td>Spina Bifida</td>\n",
       "    </tr>\n",
       "    <tr>\n",
       "      <th>475684</th>\n",
       "      <td>5129.0</td>\n",
       "      <td>Female</td>\n",
       "      <td>Arbroath</td>\n",
       "      <td>73.0</td>\n",
       "      <td>Epilepsy</td>\n",
       "    </tr>\n",
       "  </tbody>\n",
       "</table>\n",
       "<p>484 rows × 5 columns</p>\n",
       "</div>"
      ],
      "text/plain": [
       "        ExternalID Gender_x  \\\n",
       "0           8899.0     Male   \n",
       "337         9181.0   Female   \n",
       "4911        7901.0     Male   \n",
       "28461       5535.0   Female   \n",
       "88811       9402.0     Male   \n",
       "...            ...      ...   \n",
       "475462      5694.0   Female   \n",
       "475521      5657.0     Male   \n",
       "475525      5071.0     Male   \n",
       "475568      4703.0   Female   \n",
       "475684      5129.0   Female   \n",
       "\n",
       "                                               Location_y   Age  \\\n",
       "0       National/WEST /Glasgow City Council/Glasgow Ea...  58.0   \n",
       "337     National/North/Aberdeen City Council/Raeden Ca...  93.0   \n",
       "4911    National/North/Aberdeen City Council/Raeden Ca...  70.0   \n",
       "28461   National/WEST /South Ayrshire Council/South Ay...  66.0   \n",
       "88811   National/EAST /Edinburgh City Council/Edinburg...  32.0   \n",
       "...                                                   ...   ...   \n",
       "475462                                                NaN  29.0   \n",
       "475521  National/EAST /Edinburgh City Council/Edinburg...  88.0   \n",
       "475525                       National/North/North Housing  56.0   \n",
       "475568                    Dundee City Council/Menzieshill  56.0   \n",
       "475684                                           Arbroath  73.0   \n",
       "\n",
       "             CareSysCondition  \n",
       "0                      Cancer  \n",
       "337      Elderly Care/Support  \n",
       "4911                      NaN  \n",
       "28461                     NaN  \n",
       "88811            Brain Injury  \n",
       "...                       ...  \n",
       "475462          Spinal Injury  \n",
       "475521               Dementia  \n",
       "475525  Learning Difficulties  \n",
       "475568           Spina Bifida  \n",
       "475684               Epilepsy  \n",
       "\n",
       "[484 rows x 5 columns]"
      ]
     },
     "execution_count": 48,
     "metadata": {},
     "output_type": "execute_result"
    }
   ],
   "source": [
    "data_extracted"
   ]
  },
  {
   "cell_type": "code",
   "execution_count": 49,
   "id": "2d67529d",
   "metadata": {},
   "outputs": [],
   "source": [
    "data_extracted.rename(columns={'Gender_x':'Gender', 'Location_y':'Location'}, inplace=True)"
   ]
  },
  {
   "cell_type": "code",
   "execution_count": 50,
   "id": "01cd0f6e",
   "metadata": {
    "scrolled": false
   },
   "outputs": [
    {
     "data": {
      "text/html": [
       "<div>\n",
       "<style scoped>\n",
       "    .dataframe tbody tr th:only-of-type {\n",
       "        vertical-align: middle;\n",
       "    }\n",
       "\n",
       "    .dataframe tbody tr th {\n",
       "        vertical-align: top;\n",
       "    }\n",
       "\n",
       "    .dataframe thead th {\n",
       "        text-align: right;\n",
       "    }\n",
       "</style>\n",
       "<table border=\"1\" class=\"dataframe\">\n",
       "  <thead>\n",
       "    <tr style=\"text-align: right;\">\n",
       "      <th></th>\n",
       "      <th>ExternalID</th>\n",
       "      <th>Gender</th>\n",
       "      <th>Location</th>\n",
       "      <th>Age</th>\n",
       "      <th>CareSysCondition</th>\n",
       "    </tr>\n",
       "  </thead>\n",
       "  <tbody>\n",
       "    <tr>\n",
       "      <th>0</th>\n",
       "      <td>8899.0</td>\n",
       "      <td>Male</td>\n",
       "      <td>National/WEST /Glasgow City Council/Glasgow Ea...</td>\n",
       "      <td>58.0</td>\n",
       "      <td>Cancer</td>\n",
       "    </tr>\n",
       "    <tr>\n",
       "      <th>337</th>\n",
       "      <td>9181.0</td>\n",
       "      <td>Female</td>\n",
       "      <td>National/North/Aberdeen City Council/Raeden Ca...</td>\n",
       "      <td>93.0</td>\n",
       "      <td>Elderly Care/Support</td>\n",
       "    </tr>\n",
       "    <tr>\n",
       "      <th>4911</th>\n",
       "      <td>7901.0</td>\n",
       "      <td>Male</td>\n",
       "      <td>National/North/Aberdeen City Council/Raeden Ca...</td>\n",
       "      <td>70.0</td>\n",
       "      <td>NaN</td>\n",
       "    </tr>\n",
       "    <tr>\n",
       "      <th>28461</th>\n",
       "      <td>5535.0</td>\n",
       "      <td>Female</td>\n",
       "      <td>National/WEST /South Ayrshire Council/South Ay...</td>\n",
       "      <td>66.0</td>\n",
       "      <td>NaN</td>\n",
       "    </tr>\n",
       "    <tr>\n",
       "      <th>88811</th>\n",
       "      <td>9402.0</td>\n",
       "      <td>Male</td>\n",
       "      <td>National/EAST /Edinburgh City Council/Edinburg...</td>\n",
       "      <td>32.0</td>\n",
       "      <td>Brain Injury</td>\n",
       "    </tr>\n",
       "    <tr>\n",
       "      <th>...</th>\n",
       "      <td>...</td>\n",
       "      <td>...</td>\n",
       "      <td>...</td>\n",
       "      <td>...</td>\n",
       "      <td>...</td>\n",
       "    </tr>\n",
       "    <tr>\n",
       "      <th>475462</th>\n",
       "      <td>5694.0</td>\n",
       "      <td>Female</td>\n",
       "      <td>NaN</td>\n",
       "      <td>29.0</td>\n",
       "      <td>Spinal Injury</td>\n",
       "    </tr>\n",
       "    <tr>\n",
       "      <th>475521</th>\n",
       "      <td>5657.0</td>\n",
       "      <td>Male</td>\n",
       "      <td>National/EAST /Edinburgh City Council/Edinburg...</td>\n",
       "      <td>88.0</td>\n",
       "      <td>Dementia</td>\n",
       "    </tr>\n",
       "    <tr>\n",
       "      <th>475525</th>\n",
       "      <td>5071.0</td>\n",
       "      <td>Male</td>\n",
       "      <td>National/North/North Housing</td>\n",
       "      <td>56.0</td>\n",
       "      <td>Learning Difficulties</td>\n",
       "    </tr>\n",
       "    <tr>\n",
       "      <th>475568</th>\n",
       "      <td>4703.0</td>\n",
       "      <td>Female</td>\n",
       "      <td>Dundee City Council/Menzieshill</td>\n",
       "      <td>56.0</td>\n",
       "      <td>Spina Bifida</td>\n",
       "    </tr>\n",
       "    <tr>\n",
       "      <th>475684</th>\n",
       "      <td>5129.0</td>\n",
       "      <td>Female</td>\n",
       "      <td>Arbroath</td>\n",
       "      <td>73.0</td>\n",
       "      <td>Epilepsy</td>\n",
       "    </tr>\n",
       "  </tbody>\n",
       "</table>\n",
       "<p>484 rows × 5 columns</p>\n",
       "</div>"
      ],
      "text/plain": [
       "        ExternalID  Gender                                           Location  \\\n",
       "0           8899.0    Male  National/WEST /Glasgow City Council/Glasgow Ea...   \n",
       "337         9181.0  Female  National/North/Aberdeen City Council/Raeden Ca...   \n",
       "4911        7901.0    Male  National/North/Aberdeen City Council/Raeden Ca...   \n",
       "28461       5535.0  Female  National/WEST /South Ayrshire Council/South Ay...   \n",
       "88811       9402.0    Male  National/EAST /Edinburgh City Council/Edinburg...   \n",
       "...            ...     ...                                                ...   \n",
       "475462      5694.0  Female                                                NaN   \n",
       "475521      5657.0    Male  National/EAST /Edinburgh City Council/Edinburg...   \n",
       "475525      5071.0    Male                       National/North/North Housing   \n",
       "475568      4703.0  Female                    Dundee City Council/Menzieshill   \n",
       "475684      5129.0  Female                                           Arbroath   \n",
       "\n",
       "         Age       CareSysCondition  \n",
       "0       58.0                 Cancer  \n",
       "337     93.0   Elderly Care/Support  \n",
       "4911    70.0                    NaN  \n",
       "28461   66.0                    NaN  \n",
       "88811   32.0           Brain Injury  \n",
       "...      ...                    ...  \n",
       "475462  29.0          Spinal Injury  \n",
       "475521  88.0               Dementia  \n",
       "475525  56.0  Learning Difficulties  \n",
       "475568  56.0           Spina Bifida  \n",
       "475684  73.0               Epilepsy  \n",
       "\n",
       "[484 rows x 5 columns]"
      ]
     },
     "execution_count": 50,
     "metadata": {},
     "output_type": "execute_result"
    }
   ],
   "source": [
    "data_extracted"
   ]
  },
  {
   "cell_type": "code",
   "execution_count": 51,
   "id": "00e0a721",
   "metadata": {},
   "outputs": [
    {
     "data": {
      "text/plain": [
       "National/EAST /Edinburgh City Council/Responder Service               0.190083\n",
       "National/North/Aberdeen City Council/Raeden Care Home/Aberdeen C@H    0.088843\n",
       "National/EAST /Edinburgh City Council/Edinburgh West LFC C@H          0.059917\n",
       "National/EAST /Edinburgh City Council/Edinburgh East Abbey C@H        0.043388\n",
       "National/WEST /Glasgow City Council/Glasgow West C@H                  0.037190\n",
       "Name: Location, dtype: float64"
      ]
     },
     "execution_count": 51,
     "metadata": {},
     "output_type": "execute_result"
    }
   ],
   "source": [
    "(data_extracted['Location'].value_counts() / data_extracted.shape[0]).head()"
   ]
  },
  {
   "cell_type": "markdown",
   "id": "61de7876",
   "metadata": {},
   "source": [
    "Responder Service has the most people, about accounting for 19 percent."
   ]
  },
  {
   "cell_type": "code",
   "execution_count": 52,
   "id": "8628512b",
   "metadata": {},
   "outputs": [
    {
     "data": {
      "text/plain": [
       "Female    0.592975\n",
       "Male      0.407025\n",
       "Name: Gender, dtype: float64"
      ]
     },
     "execution_count": 52,
     "metadata": {},
     "output_type": "execute_result"
    }
   ],
   "source": [
    "data_extracted['Gender'].value_counts() / data_extracted.shape[0]"
   ]
  },
  {
   "cell_type": "markdown",
   "id": "210d8c16",
   "metadata": {},
   "source": [
    "The ratio of the gender (female:male) is about 6:4."
   ]
  },
  {
   "cell_type": "markdown",
   "id": "8d2bc788",
   "metadata": {},
   "source": [
    "##### Q6: How does the data relate to the questions that the data owner has discussed with you? "
   ]
  },
  {
   "cell_type": "markdown",
   "id": "2cf369ba",
   "metadata": {},
   "source": [
    "According to the existing data, it is important to think about how to make some analysis between location and other variables subjectively and logically. For example, I can build stories from data. Further, I'm assigned location variable data. Therefore, I may analyze the data association between location and any other columns, such as the age distribution of people living in a certain area, their gender distribution, what kinds of entertainment activities they prefer, and their physical health status from the macro and micro dimensions."
   ]
  },
  {
   "cell_type": "markdown",
   "id": "04a8394b",
   "metadata": {},
   "source": [
    "# Ⅱ. Explore "
   ]
  },
  {
   "cell_type": "markdown",
   "id": "72d93997",
   "metadata": {},
   "source": [
    "At this stage, I will mainly focus on \"location\" and start with a statistical analysis of the basic characteristics and distributions of individual variables. Then, I will try to establish relationships between multiple variables to further explore the deeper meaning behind the data. Such as the relationship between\"location\"and\"age\"\"gender\"\"health\"\"Link Type\"."
   ]
  },
  {
   "cell_type": "code",
   "execution_count": 53,
   "id": "d6708631",
   "metadata": {},
   "outputs": [],
   "source": [
    "import seaborn as sns\n",
    "import matplotlib.pyplot as plt"
   ]
  },
  {
   "cell_type": "markdown",
   "id": "9ba88b66",
   "metadata": {},
   "source": [
    "#### (1) First, I analyzed the distribution of \"age\"."
   ]
  },
  {
   "cell_type": "code",
   "execution_count": 54,
   "id": "6ec1186b",
   "metadata": {
    "scrolled": false
   },
   "outputs": [
    {
     "name": "stderr",
     "output_type": "stream",
     "text": [
      "/opt/conda/lib/python3.9/site-packages/seaborn/distributions.py:2557: FutureWarning: `distplot` is a deprecated function and will be removed in a future version. Please adapt your code to use either `displot` (a figure-level function with similar flexibility) or `histplot` (an axes-level function for histograms).\n",
      "  warnings.warn(msg, FutureWarning)\n"
     ]
    },
    {
     "data": {
      "image/png": "[encoded data removed]",
      "text/plain": [
       "<Figure size 432x288 with 1 Axes>"
      ]
     },
     "metadata": {
      "needs_background": "light"
     },
     "output_type": "display_data"
    }
   ],
   "source": [
    "sns.distplot(data_extracted[(data_extracted['Age'] > 20) & (data_extracted['Age'] < 121)]['Age'])\n",
    "plt.title('Fig. 1. The distribution of age')\n",
    "plt.show()"
   ]
  },
  {
   "cell_type": "markdown",
   "id": "cb9cb7bb",
   "metadata": {},
   "source": [
    "As is shown in Fig. 1, the distribution of age is a little similar to the bell curve, but with twin peaks (in the 55-60 and the 80-85)."
   ]
  },
  {
   "cell_type": "markdown",
   "id": "4231e6d0",
   "metadata": {},
   "source": [
    "#### (2) Second, I analyzed the characteristic of \"location\". \n",
    "It is worth noting that the data of location are confusing form of expression, and I need to process them in advance."
   ]
  },
  {
   "cell_type": "code",
   "execution_count": 55,
   "id": "9fae8286",
   "metadata": {
    "scrolled": true
   },
   "outputs": [
    {
     "data": {
      "text/plain": [
       "0.9152892561983471"
      ]
     },
     "execution_count": 55,
     "metadata": {},
     "output_type": "execute_result"
    }
   ],
   "source": [
    "data_extracted['Location'].count() / data_extracted.shape[0]"
   ]
  },
  {
   "cell_type": "markdown",
   "id": "094e5564",
   "metadata": {},
   "source": [
    "There are some missing data."
   ]
  },
  {
   "cell_type": "code",
   "execution_count": 56,
   "id": "25512add",
   "metadata": {},
   "outputs": [],
   "source": [
    "data_for_analyzing_location = data_extracted"
   ]
  },
  {
   "cell_type": "code",
   "execution_count": 57,
   "id": "67aa97ba",
   "metadata": {},
   "outputs": [],
   "source": [
    "data_for_analyzing_location.dropna(subset=['Location'], inplace=True)"
   ]
  },
  {
   "cell_type": "code",
   "execution_count": 58,
   "id": "31c76187",
   "metadata": {
    "scrolled": true
   },
   "outputs": [
    {
     "data": {
      "text/plain": [
       "National/EAST /Edinburgh City Council/Responder Service                                    92\n",
       "National/North/Aberdeen City Council/Raeden Care Home/Aberdeen C@H                         43\n",
       "National/EAST /Edinburgh City Council/Edinburgh West LFC C@H                               29\n",
       "National/EAST /Edinburgh City Council/Edinburgh East Abbey C@H                             21\n",
       "National/WEST /Glasgow City Council/Glasgow West C@H                                       18\n",
       "National/North/Dundee City Council/Ardler & St Marys C@H                                   14\n",
       "National/North/Dundee City Council/Douglas & B/Ferry C@H                                   14\n",
       "National/EAST /Edinburgh City Council/Edinburgh East Fortune Place C@H                     14\n",
       "National/North/Dundee City Council/Menzieshill C@H                                         14\n",
       "National/North/Stirling Council/Forth Valley C@H                                           11\n",
       "Dundee City Council/Douglas & Broughty Ferry                                               10\n",
       "National/WEST /North Lanarkshire Council/North Lanarkshire C@H                             10\n",
       "National/WEST /West Housing                                                                10\n",
       "National/North/Dundee City Council/Charleston C@H                                           9\n",
       "National/WEST /Glasgow City Council/Glasgow East C@H/Helenvale/69 Glamis Road               9\n",
       "Dundee City Council/Ardler & St Mary's                                                      9\n",
       "National/WEST /Glasgow City Council/Glasgow East C@H/Helenvale/67 Glamis Road               9\n",
       "Dundee City Council/Menzieshill                                                             8\n",
       "National/WEST /South Ayrshire Council/South Ayrshire C@H/St Leonards /St Leonards Court     8\n",
       "National/EAST /Edinburgh City Council/Edinburgh East St Leonards C@H                        8\n",
       "National/EAST /Edinburgh City Council/Edinburgh North Western Harbour C@H                   7\n",
       "National/WEST /South Lanarkshire Council /South Lanarkshire C@H                             7\n",
       "National/EAST /Edinburgh City Council/Edinburgh West Morrison Cres C@H                      7\n",
       "National/WEST /Glasgow City Council/Glasgow East C@H/Helenvale/71 Glamis Road               6\n",
       "Dundee City Council/Charleston                                                              6\n",
       "National/EAST /Edinburgh City Council/Edinburgh Central Coxfield C@H                        5\n",
       "National/EAST /Edinburgh City Council/Edinburgh North Lindsay Road C@H                      5\n",
       "Aberdeen Council/Aberdeen                                                                   5\n",
       "National/North/North Housing                                                                5\n",
       "National/EAST /East Housing                                                                 5\n",
       "National/WEST /South Ayrshire Council/South Ayrshire C@H/St Leonards                        4\n",
       "National/EAST /Edinburgh City Council/Edinburgh Central Roseburn C@H                        4\n",
       "National/North/Stirling Council/Broom Care Home/Broom/Broom Court                           4\n",
       "National/North/Aberdeen City Council/Raeden Care Home/Raeden/Raeden Court                   2\n",
       "Test Machines Live                                                                          2\n",
       "Ayr/STH Ayshire St Leonards                                                                 2\n",
       "National                                                                                    1\n",
       "Test Machines Live/Test Region/Test Area/Test Locality/Test Complex/Test Building           1\n",
       "National/WEST /South Ayrshire Council/South Ayrshire C@H                                    1\n",
       "National/WEST /Glasgow City Council/Belses Care Home                                        1\n",
       "Aberdeen Council/Aberdeen/Raeden Court                                                      1\n",
       "National/EAST /Edinburgh City Council                                                       1\n",
       "Arbroath                                                                                    1\n",
       "Name: Location, dtype: int64"
      ]
     },
     "execution_count": 58,
     "metadata": {},
     "output_type": "execute_result"
    }
   ],
   "source": [
    "data_for_analyzing_location['Location'].value_counts()"
   ]
  },
  {
   "cell_type": "markdown",
   "id": "290ecf6b",
   "metadata": {},
   "source": [
    "It can be seen that there are some locations that the actual positions are the same, but the naming format is different. This situation needs to be handled."
   ]
  },
  {
   "cell_type": "markdown",
   "id": "13130348",
   "metadata": {},
   "source": [
    "I built a dictionary, which can be used for replace location words."
   ]
  },
  {
   "cell_type": "code",
   "execution_count": 59,
   "id": "f2921d3a",
   "metadata": {},
   "outputs": [],
   "source": [
    "dict = {\"Dundee City Council/Douglas & Broughty Ferry\": \"National/North/Dundee City Council/Douglas & Broughty Ferry\", \"Dundee City Council/Ardler & St Mary's\": \"National/North/Dundee City Council/Ardler & St Mary's\", \"Dundee City Council/Menzieshill\": \"National/North/Dundee City Council/Menzieshill\", \"Dundee City Council/Charleston\": \"National/North/Dundee City Council/Charleston\", \"Aberdeen Council/Aberdeen\": \"National/North/Aberdeen City Council/Raeden Care Home/Aberdeen C@H\", \"Ayr/STH Ayshire St Leonards\": \"National/WEST /South Ayrshire Council/South Ayrshire C@H/St Leonards\", \"Test Machines Live\": \"Test Machines Live/Test Region/Test Area/Test Locality/Test Complex/Test Building\", \"Aberdeen Council/Aberdeen/Raeden Court\": \"National/North/Aberdeen City Council/Aberdeen/Raeden Court\"}"
   ]
  },
  {
   "cell_type": "code",
   "execution_count": 60,
   "id": "969bce02",
   "metadata": {},
   "outputs": [
    {
     "data": {
      "text/plain": [
       "{'Dundee City Council/Douglas & Broughty Ferry': 'National/North/Dundee City Council/Douglas & Broughty Ferry',\n",
       " \"Dundee City Council/Ardler & St Mary's\": \"National/North/Dundee City Council/Ardler & St Mary's\",\n",
       " 'Dundee City Council/Menzieshill': 'National/North/Dundee City Council/Menzieshill',\n",
       " 'Dundee City Council/Charleston': 'National/North/Dundee City Council/Charleston',\n",
       " 'Aberdeen Council/Aberdeen': 'National/North/Aberdeen City Council/Raeden Care Home/Aberdeen C@H',\n",
       " 'Ayr/STH Ayshire St Leonards': 'National/WEST /South Ayrshire Council/South Ayrshire C@H/St Leonards',\n",
       " 'Test Machines Live': 'Test Machines Live/Test Region/Test Area/Test Locality/Test Complex/Test Building',\n",
       " 'Aberdeen Council/Aberdeen/Raeden Court': 'National/North/Aberdeen City Council/Aberdeen/Raeden Court'}"
      ]
     },
     "execution_count": 60,
     "metadata": {},
     "output_type": "execute_result"
    }
   ],
   "source": [
    "dict"
   ]
  },
  {
   "cell_type": "code",
   "execution_count": 61,
   "id": "e38baa9b",
   "metadata": {},
   "outputs": [],
   "source": [
    "data_for_analyzing_location['Location'] = data_for_analyzing_location['Location'].map(lambda x: dict[x] if x in dict else x)"
   ]
  },
  {
   "cell_type": "code",
   "execution_count": 62,
   "id": "5cc6be0e",
   "metadata": {
    "scrolled": false
   },
   "outputs": [
    {
     "data": {
      "text/plain": [
       "National/EAST /Edinburgh City Council/Responder Service                                    92\n",
       "National/North/Aberdeen City Council/Raeden Care Home/Aberdeen C@H                         48\n",
       "National/EAST /Edinburgh City Council/Edinburgh West LFC C@H                               29\n",
       "National/EAST /Edinburgh City Council/Edinburgh East Abbey C@H                             21\n",
       "National/WEST /Glasgow City Council/Glasgow West C@H                                       18\n",
       "National/North/Dundee City Council/Douglas & B/Ferry C@H                                   14\n",
       "National/North/Dundee City Council/Menzieshill C@H                                         14\n",
       "National/EAST /Edinburgh City Council/Edinburgh East Fortune Place C@H                     14\n",
       "National/North/Dundee City Council/Ardler & St Marys C@H                                   14\n",
       "National/North/Stirling Council/Forth Valley C@H                                           11\n",
       "National/North/Dundee City Council/Douglas & Broughty Ferry                                10\n",
       "National/WEST /North Lanarkshire Council/North Lanarkshire C@H                             10\n",
       "National/WEST /West Housing                                                                10\n",
       "National/North/Dundee City Council/Ardler & St Mary's                                       9\n",
       "National/WEST /Glasgow City Council/Glasgow East C@H/Helenvale/67 Glamis Road               9\n",
       "National/North/Dundee City Council/Charleston C@H                                           9\n",
       "National/WEST /Glasgow City Council/Glasgow East C@H/Helenvale/69 Glamis Road               9\n",
       "National/WEST /South Ayrshire Council/South Ayrshire C@H/St Leonards /St Leonards Court     8\n",
       "National/EAST /Edinburgh City Council/Edinburgh East St Leonards C@H                        8\n",
       "National/North/Dundee City Council/Menzieshill                                              8\n",
       "National/WEST /South Lanarkshire Council /South Lanarkshire C@H                             7\n",
       "National/EAST /Edinburgh City Council/Edinburgh North Western Harbour C@H                   7\n",
       "National/EAST /Edinburgh City Council/Edinburgh West Morrison Cres C@H                      7\n",
       "National/North/Dundee City Council/Charleston                                               6\n",
       "National/WEST /Glasgow City Council/Glasgow East C@H/Helenvale/71 Glamis Road               6\n",
       "National/North/North Housing                                                                5\n",
       "National/EAST /East Housing                                                                 5\n",
       "National/EAST /Edinburgh City Council/Edinburgh North Lindsay Road C@H                      5\n",
       "National/EAST /Edinburgh City Council/Edinburgh Central Coxfield C@H                        5\n",
       "National/North/Stirling Council/Broom Care Home/Broom/Broom Court                           4\n",
       "National/WEST /South Ayrshire Council/South Ayrshire C@H/St Leonards                        4\n",
       "National/EAST /Edinburgh City Council/Edinburgh Central Roseburn C@H                        4\n",
       "Test Machines Live/Test Region/Test Area/Test Locality/Test Complex/Test Building           3\n",
       "Ayr/STH Ayshire St Leonards                                                                 2\n",
       "National/North/Aberdeen City Council/Raeden Care Home/Raeden/Raeden Court                   2\n",
       "National                                                                                    1\n",
       "National/WEST /Glasgow City Council/Belses Care Home                                        1\n",
       "National/WEST /South Ayrshire Council/South Ayrshire C@H                                    1\n",
       "National/North/Aberdeen City Council/Aberdeen/Raeden Court                                  1\n",
       "National/EAST /Edinburgh City Council                                                       1\n",
       "Arbroath                                                                                    1\n",
       "Name: Location, dtype: int64"
      ]
     },
     "execution_count": 62,
     "metadata": {},
     "output_type": "execute_result"
    }
   ],
   "source": [
    "data_for_analyzing_location['Location'].value_counts()"
   ]
  },
  {
   "cell_type": "markdown",
   "id": "3753bed8",
   "metadata": {},
   "source": [
    "I found that there was an unsuccessful replacement, such as 'Ayr/STH Ayshire St Leonards'. And I fount there is a space character at the end of 'Ayr/STH Ayshire St Leonards', which is not easy to notice."
   ]
  },
  {
   "cell_type": "code",
   "execution_count": 63,
   "id": "9a24fd99",
   "metadata": {},
   "outputs": [
    {
     "data": {
      "text/html": [
       "<div>\n",
       "<style scoped>\n",
       "    .dataframe tbody tr th:only-of-type {\n",
       "        vertical-align: middle;\n",
       "    }\n",
       "\n",
       "    .dataframe tbody tr th {\n",
       "        vertical-align: top;\n",
       "    }\n",
       "\n",
       "    .dataframe thead th {\n",
       "        text-align: right;\n",
       "    }\n",
       "</style>\n",
       "<table border=\"1\" class=\"dataframe\">\n",
       "  <thead>\n",
       "    <tr style=\"text-align: right;\">\n",
       "      <th></th>\n",
       "      <th>ExternalID</th>\n",
       "      <th>Gender</th>\n",
       "      <th>Location</th>\n",
       "      <th>Age</th>\n",
       "      <th>CareSysCondition</th>\n",
       "    </tr>\n",
       "  </thead>\n",
       "  <tbody>\n",
       "    <tr>\n",
       "      <th>461957</th>\n",
       "      <td>5533.0</td>\n",
       "      <td>Female</td>\n",
       "      <td>Ayr/STH Ayshire St Leonards</td>\n",
       "      <td>69.0</td>\n",
       "      <td>Arthritis</td>\n",
       "    </tr>\n",
       "    <tr>\n",
       "      <th>473845</th>\n",
       "      <td>7738.0</td>\n",
       "      <td>Male</td>\n",
       "      <td>Ayr/STH Ayshire St Leonards</td>\n",
       "      <td>76.0</td>\n",
       "      <td>Diabetes</td>\n",
       "    </tr>\n",
       "  </tbody>\n",
       "</table>\n",
       "</div>"
      ],
      "text/plain": [
       "        ExternalID  Gender                      Location   Age  \\\n",
       "461957      5533.0  Female  Ayr/STH Ayshire St Leonards   69.0   \n",
       "473845      7738.0    Male  Ayr/STH Ayshire St Leonards   76.0   \n",
       "\n",
       "       CareSysCondition  \n",
       "461957        Arthritis  \n",
       "473845         Diabetes  "
      ]
     },
     "execution_count": 63,
     "metadata": {},
     "output_type": "execute_result"
    }
   ],
   "source": [
    "data_for_analyzing_location[data_for_analyzing_location['Location'] == 'Ayr/STH Ayshire St Leonards ']"
   ]
  },
  {
   "cell_type": "markdown",
   "id": "482eb041",
   "metadata": {},
   "source": [
    "Therefore, I revised the dictionary."
   ]
  },
  {
   "cell_type": "code",
   "execution_count": 64,
   "id": "056edca4",
   "metadata": {},
   "outputs": [],
   "source": [
    "dict = {\"Dundee City Council/Douglas & Broughty Ferry\": \"National/North/Dundee City Council/Douglas & Broughty Ferry\", \"Dundee City Council/Ardler & St Mary's\": \"National/North/Dundee City Council/Ardler & St Mary's\", \"Dundee City Council/Menzieshill\": \"National/North/Dundee City Council/Menzieshill\", \"Dundee City Council/Charleston\": \"National/North/Dundee City Council/Charleston\", \"Aberdeen Council/Aberdeen\": \"National/North/Aberdeen City Council/Raeden Care Home/Aberdeen C@H\", \"Ayr/STH Ayshire St Leonards \": \"National/WEST /South Ayrshire Council/South Ayrshire C@H/St Leonards\", \"Test Machines Live\": \"Test Machines Live/Test Region/Test Area/Test Locality/Test Complex/Test Building\", \"Aberdeen Council/Aberdeen/Raeden Court\": \"National/North/Aberdeen City Council/Aberdeen/Raeden Court\"}"
   ]
  },
  {
   "cell_type": "code",
   "execution_count": 65,
   "id": "b50728f9",
   "metadata": {},
   "outputs": [],
   "source": [
    "data_for_analyzing_location['Location'] = data_for_analyzing_location['Location'].map(lambda x: dict[x] if x in dict else x)"
   ]
  },
  {
   "cell_type": "code",
   "execution_count": 66,
   "id": "ec2a4ded",
   "metadata": {},
   "outputs": [
    {
     "data": {
      "text/plain": [
       "National/EAST /Edinburgh City Council/Responder Service                                    92\n",
       "National/North/Aberdeen City Council/Raeden Care Home/Aberdeen C@H                         48\n",
       "National/EAST /Edinburgh City Council/Edinburgh West LFC C@H                               29\n",
       "National/EAST /Edinburgh City Council/Edinburgh East Abbey C@H                             21\n",
       "National/WEST /Glasgow City Council/Glasgow West C@H                                       18\n",
       "National/North/Dundee City Council/Douglas & B/Ferry C@H                                   14\n",
       "National/North/Dundee City Council/Menzieshill C@H                                         14\n",
       "National/EAST /Edinburgh City Council/Edinburgh East Fortune Place C@H                     14\n",
       "National/North/Dundee City Council/Ardler & St Marys C@H                                   14\n",
       "National/North/Stirling Council/Forth Valley C@H                                           11\n",
       "National/North/Dundee City Council/Douglas & Broughty Ferry                                10\n",
       "National/WEST /North Lanarkshire Council/North Lanarkshire C@H                             10\n",
       "National/WEST /West Housing                                                                10\n",
       "National/North/Dundee City Council/Ardler & St Mary's                                       9\n",
       "National/WEST /Glasgow City Council/Glasgow East C@H/Helenvale/67 Glamis Road               9\n",
       "National/North/Dundee City Council/Charleston C@H                                           9\n",
       "National/WEST /Glasgow City Council/Glasgow East C@H/Helenvale/69 Glamis Road               9\n",
       "National/WEST /South Ayrshire Council/South Ayrshire C@H/St Leonards /St Leonards Court     8\n",
       "National/EAST /Edinburgh City Council/Edinburgh East St Leonards C@H                        8\n",
       "National/North/Dundee City Council/Menzieshill                                              8\n",
       "National/WEST /South Lanarkshire Council /South Lanarkshire C@H                             7\n",
       "National/EAST /Edinburgh City Council/Edinburgh North Western Harbour C@H                   7\n",
       "National/EAST /Edinburgh City Council/Edinburgh West Morrison Cres C@H                      7\n",
       "National/North/Dundee City Council/Charleston                                               6\n",
       "National/WEST /Glasgow City Council/Glasgow East C@H/Helenvale/71 Glamis Road               6\n",
       "National/North/North Housing                                                                5\n",
       "National/EAST /East Housing                                                                 5\n",
       "National/EAST /Edinburgh City Council/Edinburgh North Lindsay Road C@H                      5\n",
       "National/EAST /Edinburgh City Council/Edinburgh Central Coxfield C@H                        5\n",
       "National/North/Stirling Council/Broom Care Home/Broom/Broom Court                           4\n",
       "National/WEST /South Ayrshire Council/South Ayrshire C@H/St Leonards                        4\n",
       "National/EAST /Edinburgh City Council/Edinburgh Central Roseburn C@H                        4\n",
       "Test Machines Live/Test Region/Test Area/Test Locality/Test Complex/Test Building           3\n",
       "National/WEST /South Ayrshire Council/South Ayrshire C@H/St Leonards                        2\n",
       "National/North/Aberdeen City Council/Raeden Care Home/Raeden/Raeden Court                   2\n",
       "National                                                                                    1\n",
       "National/WEST /Glasgow City Council/Belses Care Home                                        1\n",
       "National/WEST /South Ayrshire Council/South Ayrshire C@H                                    1\n",
       "National/North/Aberdeen City Council/Aberdeen/Raeden Court                                  1\n",
       "National/EAST /Edinburgh City Council                                                       1\n",
       "Arbroath                                                                                    1\n",
       "Name: Location, dtype: int64"
      ]
     },
     "execution_count": 66,
     "metadata": {},
     "output_type": "execute_result"
    }
   ],
   "source": [
    "data_for_analyzing_location['Location'].value_counts()"
   ]
  },
  {
   "cell_type": "markdown",
   "id": "4febbe68",
   "metadata": {},
   "source": [
    "I selected a wider representation of location (east, north, west) for subsequent analysis.  "
   ]
  },
  {
   "cell_type": "code",
   "execution_count": 67,
   "id": "563ddc80",
   "metadata": {},
   "outputs": [],
   "source": [
    "data_for_analyzing_location = data_for_analyzing_location[data_for_analyzing_location['Location'].str.slice(0, 9) == 'National/']"
   ]
  },
  {
   "cell_type": "code",
   "execution_count": 68,
   "id": "974802db",
   "metadata": {},
   "outputs": [],
   "source": [
    "data_for_analyzing_location.insert(3, 'Location_1', data_for_analyzing_location['Location'].str.slice(9, 14))"
   ]
  },
  {
   "cell_type": "code",
   "execution_count": 69,
   "id": "c022ade9",
   "metadata": {},
   "outputs": [
    {
     "data": {
      "text/html": [
       "<div>\n",
       "<style scoped>\n",
       "    .dataframe tbody tr th:only-of-type {\n",
       "        vertical-align: middle;\n",
       "    }\n",
       "\n",
       "    .dataframe tbody tr th {\n",
       "        vertical-align: top;\n",
       "    }\n",
       "\n",
       "    .dataframe thead th {\n",
       "        text-align: right;\n",
       "    }\n",
       "</style>\n",
       "<table border=\"1\" class=\"dataframe\">\n",
       "  <thead>\n",
       "    <tr style=\"text-align: right;\">\n",
       "      <th></th>\n",
       "      <th>ExternalID</th>\n",
       "      <th>Gender</th>\n",
       "      <th>Location</th>\n",
       "      <th>Location_1</th>\n",
       "      <th>Age</th>\n",
       "      <th>CareSysCondition</th>\n",
       "    </tr>\n",
       "  </thead>\n",
       "  <tbody>\n",
       "    <tr>\n",
       "      <th>0</th>\n",
       "      <td>8899.0</td>\n",
       "      <td>Male</td>\n",
       "      <td>National/WEST /Glasgow City Council/Glasgow Ea...</td>\n",
       "      <td>WEST</td>\n",
       "      <td>58.0</td>\n",
       "      <td>Cancer</td>\n",
       "    </tr>\n",
       "    <tr>\n",
       "      <th>337</th>\n",
       "      <td>9181.0</td>\n",
       "      <td>Female</td>\n",
       "      <td>National/North/Aberdeen City Council/Raeden Ca...</td>\n",
       "      <td>North</td>\n",
       "      <td>93.0</td>\n",
       "      <td>Elderly Care/Support</td>\n",
       "    </tr>\n",
       "    <tr>\n",
       "      <th>4911</th>\n",
       "      <td>7901.0</td>\n",
       "      <td>Male</td>\n",
       "      <td>National/North/Aberdeen City Council/Raeden Ca...</td>\n",
       "      <td>North</td>\n",
       "      <td>70.0</td>\n",
       "      <td>NaN</td>\n",
       "    </tr>\n",
       "    <tr>\n",
       "      <th>28461</th>\n",
       "      <td>5535.0</td>\n",
       "      <td>Female</td>\n",
       "      <td>National/WEST /South Ayrshire Council/South Ay...</td>\n",
       "      <td>WEST</td>\n",
       "      <td>66.0</td>\n",
       "      <td>NaN</td>\n",
       "    </tr>\n",
       "    <tr>\n",
       "      <th>88811</th>\n",
       "      <td>9402.0</td>\n",
       "      <td>Male</td>\n",
       "      <td>National/EAST /Edinburgh City Council/Edinburg...</td>\n",
       "      <td>EAST</td>\n",
       "      <td>32.0</td>\n",
       "      <td>Brain Injury</td>\n",
       "    </tr>\n",
       "    <tr>\n",
       "      <th>...</th>\n",
       "      <td>...</td>\n",
       "      <td>...</td>\n",
       "      <td>...</td>\n",
       "      <td>...</td>\n",
       "      <td>...</td>\n",
       "      <td>...</td>\n",
       "    </tr>\n",
       "    <tr>\n",
       "      <th>475314</th>\n",
       "      <td>5962.0</td>\n",
       "      <td>Male</td>\n",
       "      <td>National/EAST /Edinburgh City Council/Edinburg...</td>\n",
       "      <td>EAST</td>\n",
       "      <td>77.0</td>\n",
       "      <td>NaN</td>\n",
       "    </tr>\n",
       "    <tr>\n",
       "      <th>475419</th>\n",
       "      <td>5475.0</td>\n",
       "      <td>Male</td>\n",
       "      <td>National/North/Dundee City Council/Menzieshill</td>\n",
       "      <td>North</td>\n",
       "      <td>54.0</td>\n",
       "      <td>Stroke</td>\n",
       "    </tr>\n",
       "    <tr>\n",
       "      <th>475521</th>\n",
       "      <td>5657.0</td>\n",
       "      <td>Male</td>\n",
       "      <td>National/EAST /Edinburgh City Council/Edinburg...</td>\n",
       "      <td>EAST</td>\n",
       "      <td>88.0</td>\n",
       "      <td>Dementia</td>\n",
       "    </tr>\n",
       "    <tr>\n",
       "      <th>475525</th>\n",
       "      <td>5071.0</td>\n",
       "      <td>Male</td>\n",
       "      <td>National/North/North Housing</td>\n",
       "      <td>North</td>\n",
       "      <td>56.0</td>\n",
       "      <td>Learning Difficulties</td>\n",
       "    </tr>\n",
       "    <tr>\n",
       "      <th>475568</th>\n",
       "      <td>4703.0</td>\n",
       "      <td>Female</td>\n",
       "      <td>National/North/Dundee City Council/Menzieshill</td>\n",
       "      <td>North</td>\n",
       "      <td>56.0</td>\n",
       "      <td>Spina Bifida</td>\n",
       "    </tr>\n",
       "  </tbody>\n",
       "</table>\n",
       "<p>438 rows × 6 columns</p>\n",
       "</div>"
      ],
      "text/plain": [
       "        ExternalID  Gender                                           Location  \\\n",
       "0           8899.0    Male  National/WEST /Glasgow City Council/Glasgow Ea...   \n",
       "337         9181.0  Female  National/North/Aberdeen City Council/Raeden Ca...   \n",
       "4911        7901.0    Male  National/North/Aberdeen City Council/Raeden Ca...   \n",
       "28461       5535.0  Female  National/WEST /South Ayrshire Council/South Ay...   \n",
       "88811       9402.0    Male  National/EAST /Edinburgh City Council/Edinburg...   \n",
       "...            ...     ...                                                ...   \n",
       "475314      5962.0    Male  National/EAST /Edinburgh City Council/Edinburg...   \n",
       "475419      5475.0    Male     National/North/Dundee City Council/Menzieshill   \n",
       "475521      5657.0    Male  National/EAST /Edinburgh City Council/Edinburg...   \n",
       "475525      5071.0    Male                       National/North/North Housing   \n",
       "475568      4703.0  Female     National/North/Dundee City Council/Menzieshill   \n",
       "\n",
       "       Location_1   Age       CareSysCondition  \n",
       "0           WEST   58.0                 Cancer  \n",
       "337         North  93.0   Elderly Care/Support  \n",
       "4911        North  70.0                    NaN  \n",
       "28461       WEST   66.0                    NaN  \n",
       "88811       EAST   32.0           Brain Injury  \n",
       "...           ...   ...                    ...  \n",
       "475314      EAST   77.0                    NaN  \n",
       "475419      North  54.0                 Stroke  \n",
       "475521      EAST   88.0               Dementia  \n",
       "475525      North  56.0  Learning Difficulties  \n",
       "475568      North  56.0           Spina Bifida  \n",
       "\n",
       "[438 rows x 6 columns]"
      ]
     },
     "execution_count": 69,
     "metadata": {},
     "output_type": "execute_result"
    }
   ],
   "source": [
    "data_for_analyzing_location"
   ]
  },
  {
   "cell_type": "code",
   "execution_count": 70,
   "id": "a2f65e92",
   "metadata": {},
   "outputs": [
    {
     "data": {
      "text/plain": [
       "EAST     198\n",
       "North    155\n",
       "WEST      85\n",
       "Name: Location_1, dtype: int64"
      ]
     },
     "execution_count": 70,
     "metadata": {},
     "output_type": "execute_result"
    }
   ],
   "source": [
    "data_for_analyzing_location['Location_1'].value_counts()"
   ]
  },
  {
   "cell_type": "markdown",
   "id": "e738d5a3",
   "metadata": {},
   "source": [
    "Then, I can see the number of people in different locations (west, north, east)."
   ]
  },
  {
   "cell_type": "code",
   "execution_count": 71,
   "id": "8101e19c",
   "metadata": {
    "scrolled": false
   },
   "outputs": [
    {
     "data": {
      "text/plain": [
       "<function matplotlib.pyplot.show(close=None, block=None)>"
      ]
     },
     "execution_count": 71,
     "metadata": {},
     "output_type": "execute_result"
    },
    {
     "data": {
      "image/png": "[encoded data removed]",
      "text/plain": [
       "<Figure size 432x288 with 1 Axes>"
      ]
     },
     "metadata": {
      "needs_background": "light"
     },
     "output_type": "display_data"
    }
   ],
   "source": [
    "plt.bar(['West','North','East'], data_for_analyzing_location['Location_1'].value_counts(ascending=True))\n",
    "plt.xlabel('Location')\n",
    "plt.ylabel('The number of people')\n",
    "plt.title('Fig. 2. The number of people in different locations')\n",
    "plt.show"
   ]
  },
  {
   "cell_type": "markdown",
   "id": "75e71491",
   "metadata": {},
   "source": [
    "From Fig. 2, it can be seen that there are more users in East than that in West or North."
   ]
  },
  {
   "cell_type": "markdown",
   "id": "c51de959",
   "metadata": {},
   "source": [
    "#### (3) Third, I analyzed the relationship between “location” and “age” of people."
   ]
  },
  {
   "cell_type": "code",
   "execution_count": 72,
   "id": "c8978f14",
   "metadata": {
    "scrolled": false
   },
   "outputs": [
    {
     "data": {
      "text/plain": [
       "Text(0.5, 1.0, 'Fig. 3. Relationship between location and age of people')"
      ]
     },
     "execution_count": 72,
     "metadata": {},
     "output_type": "execute_result"
    },
    {
     "data": {
      "image/png": "[encoded data removed]",
      "text/plain": [
       "<Figure size 432x288 with 1 Axes>"
      ]
     },
     "metadata": {
      "needs_background": "light"
     },
     "output_type": "display_data"
    }
   ],
   "source": [
    "sns.boxplot(x = 'Location_1', y = 'Age', data = data_for_analyzing_location)\n",
    "plt.xlabel('Location')\n",
    "plt.title('Fig. 3. Relationship between location and age of people')"
   ]
  },
  {
   "cell_type": "markdown",
   "id": "9e3f9d85",
   "metadata": {},
   "source": [
    "As is shown in Fig. 3, the users in North are order. And I found an outlier in North. "
   ]
  },
  {
   "cell_type": "code",
   "execution_count": 73,
   "id": "225fca9c",
   "metadata": {},
   "outputs": [
    {
     "data": {
      "text/html": [
       "<div>\n",
       "<style scoped>\n",
       "    .dataframe tbody tr th:only-of-type {\n",
       "        vertical-align: middle;\n",
       "    }\n",
       "\n",
       "    .dataframe tbody tr th {\n",
       "        vertical-align: top;\n",
       "    }\n",
       "\n",
       "    .dataframe thead th {\n",
       "        text-align: right;\n",
       "    }\n",
       "</style>\n",
       "<table border=\"1\" class=\"dataframe\">\n",
       "  <thead>\n",
       "    <tr style=\"text-align: right;\">\n",
       "      <th></th>\n",
       "      <th>ExternalID</th>\n",
       "      <th>Gender</th>\n",
       "      <th>Location</th>\n",
       "      <th>Location_1</th>\n",
       "      <th>Age</th>\n",
       "      <th>CareSysCondition</th>\n",
       "    </tr>\n",
       "  </thead>\n",
       "  <tbody>\n",
       "    <tr>\n",
       "      <th>461887</th>\n",
       "      <td>5749.0</td>\n",
       "      <td>Female</td>\n",
       "      <td>National/North/Dundee City Council/Menzieshill</td>\n",
       "      <td>North</td>\n",
       "      <td>4.0</td>\n",
       "      <td>Multiple Sclerosis</td>\n",
       "    </tr>\n",
       "  </tbody>\n",
       "</table>\n",
       "</div>"
      ],
      "text/plain": [
       "        ExternalID  Gender                                        Location  \\\n",
       "461887      5749.0  Female  National/North/Dundee City Council/Menzieshill   \n",
       "\n",
       "       Location_1  Age    CareSysCondition  \n",
       "461887      North  4.0  Multiple Sclerosis  "
      ]
     },
     "execution_count": 73,
     "metadata": {},
     "output_type": "execute_result"
    }
   ],
   "source": [
    "data_for_analyzing_location[(data_for_analyzing_location['Location_1'] == 'North') & (data_for_analyzing_location['Age'] < 20)]"
   ]
  },
  {
   "cell_type": "markdown",
   "id": "ec2e3066",
   "metadata": {},
   "source": [
    "A girl is 4 years old with multiple sclerosis."
   ]
  },
  {
   "cell_type": "markdown",
   "id": "a9320ede",
   "metadata": {},
   "source": [
    "#### (4) Fourth, I analyzed the relationship between \"location\" and \"gender\" of people."
   ]
  },
  {
   "cell_type": "code",
   "execution_count": 74,
   "id": "db0ab22f",
   "metadata": {
    "scrolled": true
   },
   "outputs": [
    {
     "data": {
      "text/plain": [
       "Text(0.5, 1.0, 'Fig. 4. Relationship between location and gender')"
      ]
     },
     "execution_count": 74,
     "metadata": {},
     "output_type": "execute_result"
    },
    {
     "data": {
      "image/png": "[encoded data removed]",
      "text/plain": [
       "<Figure size 432.125x360 with 1 Axes>"
      ]
     },
     "metadata": {
      "needs_background": "light"
     },
     "output_type": "display_data"
    }
   ],
   "source": [
    "sns.displot(data_for_analyzing_location, x =\"Location_1\", hue=\"Gender\", multiple=\"dodge\")\n",
    "plt.xlabel('Location')\n",
    "plt.ylabel('The number of people')\n",
    "plt.title('Fig. 4. Relationship between location and gender')"
   ]
  },
  {
   "cell_type": "markdown",
   "id": "fbe5488f",
   "metadata": {},
   "source": [
    "From Fig. 4, it is obvious that the number of female is greater than that of male in three regions. And the numbers of men and women are increasing in the West, north and East."
   ]
  },
  {
   "cell_type": "markdown",
   "id": "372282df",
   "metadata": {},
   "source": [
    "#### (5) Fifth, I wonder to explore the relationship between \"location\" and \"health\" of people."
   ]
  },
  {
   "cell_type": "code",
   "execution_count": 75,
   "id": "93e0e50a",
   "metadata": {},
   "outputs": [
    {
     "data": {
      "text/plain": [
       "0.8036529680365296"
      ]
     },
     "execution_count": 75,
     "metadata": {},
     "output_type": "execute_result"
    }
   ],
   "source": [
    "data_for_analyzing_location['CareSysCondition'].count() / data_for_analyzing_location.shape[0]"
   ]
  },
  {
   "cell_type": "markdown",
   "id": "3846683e",
   "metadata": {},
   "source": [
    "It is obvious that there are missing data in 'CareSysCondition'."
   ]
  },
  {
   "cell_type": "code",
   "execution_count": 76,
   "id": "ee4adc8e",
   "metadata": {},
   "outputs": [],
   "source": [
    "tmp_data_for_analyzing_location = data_for_analyzing_location"
   ]
  },
  {
   "cell_type": "code",
   "execution_count": 77,
   "id": "faceacb7",
   "metadata": {},
   "outputs": [
    {
     "data": {
      "text/html": [
       "<div>\n",
       "<style scoped>\n",
       "    .dataframe tbody tr th:only-of-type {\n",
       "        vertical-align: middle;\n",
       "    }\n",
       "\n",
       "    .dataframe tbody tr th {\n",
       "        vertical-align: top;\n",
       "    }\n",
       "\n",
       "    .dataframe thead th {\n",
       "        text-align: right;\n",
       "    }\n",
       "</style>\n",
       "<table border=\"1\" class=\"dataframe\">\n",
       "  <thead>\n",
       "    <tr style=\"text-align: right;\">\n",
       "      <th></th>\n",
       "      <th>ExternalID</th>\n",
       "      <th>Gender</th>\n",
       "      <th>Location</th>\n",
       "      <th>Location_1</th>\n",
       "      <th>Age</th>\n",
       "      <th>CareSysCondition</th>\n",
       "    </tr>\n",
       "  </thead>\n",
       "  <tbody>\n",
       "    <tr>\n",
       "      <th>0</th>\n",
       "      <td>8899.0</td>\n",
       "      <td>Male</td>\n",
       "      <td>National/WEST /Glasgow City Council/Glasgow Ea...</td>\n",
       "      <td>WEST</td>\n",
       "      <td>58.0</td>\n",
       "      <td>Cancer</td>\n",
       "    </tr>\n",
       "    <tr>\n",
       "      <th>337</th>\n",
       "      <td>9181.0</td>\n",
       "      <td>Female</td>\n",
       "      <td>National/North/Aberdeen City Council/Raeden Ca...</td>\n",
       "      <td>North</td>\n",
       "      <td>93.0</td>\n",
       "      <td>Elderly Care/Support</td>\n",
       "    </tr>\n",
       "    <tr>\n",
       "      <th>4911</th>\n",
       "      <td>7901.0</td>\n",
       "      <td>Male</td>\n",
       "      <td>National/North/Aberdeen City Council/Raeden Ca...</td>\n",
       "      <td>North</td>\n",
       "      <td>70.0</td>\n",
       "      <td>NaN</td>\n",
       "    </tr>\n",
       "    <tr>\n",
       "      <th>28461</th>\n",
       "      <td>5535.0</td>\n",
       "      <td>Female</td>\n",
       "      <td>National/WEST /South Ayrshire Council/South Ay...</td>\n",
       "      <td>WEST</td>\n",
       "      <td>66.0</td>\n",
       "      <td>NaN</td>\n",
       "    </tr>\n",
       "    <tr>\n",
       "      <th>88811</th>\n",
       "      <td>9402.0</td>\n",
       "      <td>Male</td>\n",
       "      <td>National/EAST /Edinburgh City Council/Edinburg...</td>\n",
       "      <td>EAST</td>\n",
       "      <td>32.0</td>\n",
       "      <td>Brain Injury</td>\n",
       "    </tr>\n",
       "    <tr>\n",
       "      <th>...</th>\n",
       "      <td>...</td>\n",
       "      <td>...</td>\n",
       "      <td>...</td>\n",
       "      <td>...</td>\n",
       "      <td>...</td>\n",
       "      <td>...</td>\n",
       "    </tr>\n",
       "    <tr>\n",
       "      <th>475314</th>\n",
       "      <td>5962.0</td>\n",
       "      <td>Male</td>\n",
       "      <td>National/EAST /Edinburgh City Council/Edinburg...</td>\n",
       "      <td>EAST</td>\n",
       "      <td>77.0</td>\n",
       "      <td>NaN</td>\n",
       "    </tr>\n",
       "    <tr>\n",
       "      <th>475419</th>\n",
       "      <td>5475.0</td>\n",
       "      <td>Male</td>\n",
       "      <td>National/North/Dundee City Council/Menzieshill</td>\n",
       "      <td>North</td>\n",
       "      <td>54.0</td>\n",
       "      <td>Stroke</td>\n",
       "    </tr>\n",
       "    <tr>\n",
       "      <th>475521</th>\n",
       "      <td>5657.0</td>\n",
       "      <td>Male</td>\n",
       "      <td>National/EAST /Edinburgh City Council/Edinburg...</td>\n",
       "      <td>EAST</td>\n",
       "      <td>88.0</td>\n",
       "      <td>Dementia</td>\n",
       "    </tr>\n",
       "    <tr>\n",
       "      <th>475525</th>\n",
       "      <td>5071.0</td>\n",
       "      <td>Male</td>\n",
       "      <td>National/North/North Housing</td>\n",
       "      <td>North</td>\n",
       "      <td>56.0</td>\n",
       "      <td>Learning Difficulties</td>\n",
       "    </tr>\n",
       "    <tr>\n",
       "      <th>475568</th>\n",
       "      <td>4703.0</td>\n",
       "      <td>Female</td>\n",
       "      <td>National/North/Dundee City Council/Menzieshill</td>\n",
       "      <td>North</td>\n",
       "      <td>56.0</td>\n",
       "      <td>Spina Bifida</td>\n",
       "    </tr>\n",
       "  </tbody>\n",
       "</table>\n",
       "<p>438 rows × 6 columns</p>\n",
       "</div>"
      ],
      "text/plain": [
       "        ExternalID  Gender                                           Location  \\\n",
       "0           8899.0    Male  National/WEST /Glasgow City Council/Glasgow Ea...   \n",
       "337         9181.0  Female  National/North/Aberdeen City Council/Raeden Ca...   \n",
       "4911        7901.0    Male  National/North/Aberdeen City Council/Raeden Ca...   \n",
       "28461       5535.0  Female  National/WEST /South Ayrshire Council/South Ay...   \n",
       "88811       9402.0    Male  National/EAST /Edinburgh City Council/Edinburg...   \n",
       "...            ...     ...                                                ...   \n",
       "475314      5962.0    Male  National/EAST /Edinburgh City Council/Edinburg...   \n",
       "475419      5475.0    Male     National/North/Dundee City Council/Menzieshill   \n",
       "475521      5657.0    Male  National/EAST /Edinburgh City Council/Edinburg...   \n",
       "475525      5071.0    Male                       National/North/North Housing   \n",
       "475568      4703.0  Female     National/North/Dundee City Council/Menzieshill   \n",
       "\n",
       "       Location_1   Age       CareSysCondition  \n",
       "0           WEST   58.0                 Cancer  \n",
       "337         North  93.0   Elderly Care/Support  \n",
       "4911        North  70.0                    NaN  \n",
       "28461       WEST   66.0                    NaN  \n",
       "88811       EAST   32.0           Brain Injury  \n",
       "...           ...   ...                    ...  \n",
       "475314      EAST   77.0                    NaN  \n",
       "475419      North  54.0                 Stroke  \n",
       "475521      EAST   88.0               Dementia  \n",
       "475525      North  56.0  Learning Difficulties  \n",
       "475568      North  56.0           Spina Bifida  \n",
       "\n",
       "[438 rows x 6 columns]"
      ]
     },
     "execution_count": 77,
     "metadata": {},
     "output_type": "execute_result"
    }
   ],
   "source": [
    "tmp_data_for_analyzing_location"
   ]
  },
  {
   "cell_type": "code",
   "execution_count": 78,
   "id": "687b0f0b",
   "metadata": {},
   "outputs": [
    {
     "name": "stderr",
     "output_type": "stream",
     "text": [
      "/opt/conda/lib/python3.9/site-packages/pandas/util/_decorators.py:311: SettingWithCopyWarning: \n",
      "A value is trying to be set on a copy of a slice from a DataFrame\n",
      "\n",
      "See the caveats in the documentation: https://pandas.pydata.org/pandas-docs/stable/user_guide/indexing.html#returning-a-view-versus-a-copy\n",
      "  return func(*args, **kwargs)\n"
     ]
    }
   ],
   "source": [
    "tmp_data_for_analyzing_location.dropna(subset=['CareSysCondition'], inplace=True)"
   ]
  },
  {
   "cell_type": "code",
   "execution_count": 79,
   "id": "b074fbe8",
   "metadata": {},
   "outputs": [
    {
     "data": {
      "text/html": [
       "<div>\n",
       "<style scoped>\n",
       "    .dataframe tbody tr th:only-of-type {\n",
       "        vertical-align: middle;\n",
       "    }\n",
       "\n",
       "    .dataframe tbody tr th {\n",
       "        vertical-align: top;\n",
       "    }\n",
       "\n",
       "    .dataframe thead th {\n",
       "        text-align: right;\n",
       "    }\n",
       "</style>\n",
       "<table border=\"1\" class=\"dataframe\">\n",
       "  <thead>\n",
       "    <tr style=\"text-align: right;\">\n",
       "      <th></th>\n",
       "      <th>ExternalID</th>\n",
       "      <th>Gender</th>\n",
       "      <th>Location</th>\n",
       "      <th>Location_1</th>\n",
       "      <th>Age</th>\n",
       "      <th>CareSysCondition</th>\n",
       "    </tr>\n",
       "  </thead>\n",
       "  <tbody>\n",
       "    <tr>\n",
       "      <th>0</th>\n",
       "      <td>8899.0</td>\n",
       "      <td>Male</td>\n",
       "      <td>National/WEST /Glasgow City Council/Glasgow Ea...</td>\n",
       "      <td>WEST</td>\n",
       "      <td>58.0</td>\n",
       "      <td>Cancer</td>\n",
       "    </tr>\n",
       "    <tr>\n",
       "      <th>337</th>\n",
       "      <td>9181.0</td>\n",
       "      <td>Female</td>\n",
       "      <td>National/North/Aberdeen City Council/Raeden Ca...</td>\n",
       "      <td>North</td>\n",
       "      <td>93.0</td>\n",
       "      <td>Elderly Care/Support</td>\n",
       "    </tr>\n",
       "    <tr>\n",
       "      <th>88811</th>\n",
       "      <td>9402.0</td>\n",
       "      <td>Male</td>\n",
       "      <td>National/EAST /Edinburgh City Council/Edinburg...</td>\n",
       "      <td>EAST</td>\n",
       "      <td>32.0</td>\n",
       "      <td>Brain Injury</td>\n",
       "    </tr>\n",
       "    <tr>\n",
       "      <th>88868</th>\n",
       "      <td>5542.0</td>\n",
       "      <td>Male</td>\n",
       "      <td>National/WEST /South Ayrshire Council/South Ay...</td>\n",
       "      <td>WEST</td>\n",
       "      <td>58.0</td>\n",
       "      <td>Epilepsy</td>\n",
       "    </tr>\n",
       "    <tr>\n",
       "      <th>111365</th>\n",
       "      <td>4763.0</td>\n",
       "      <td>Male</td>\n",
       "      <td>National/North/Dundee City Council/Menzieshill...</td>\n",
       "      <td>North</td>\n",
       "      <td>65.0</td>\n",
       "      <td>Cerebral Palsy</td>\n",
       "    </tr>\n",
       "    <tr>\n",
       "      <th>...</th>\n",
       "      <td>...</td>\n",
       "      <td>...</td>\n",
       "      <td>...</td>\n",
       "      <td>...</td>\n",
       "      <td>...</td>\n",
       "      <td>...</td>\n",
       "    </tr>\n",
       "    <tr>\n",
       "      <th>474016</th>\n",
       "      <td>5966.0</td>\n",
       "      <td>Male</td>\n",
       "      <td>National/EAST /Edinburgh City Council</td>\n",
       "      <td>EAST</td>\n",
       "      <td>85.0</td>\n",
       "      <td>Elderly Care/Support</td>\n",
       "    </tr>\n",
       "    <tr>\n",
       "      <th>475419</th>\n",
       "      <td>5475.0</td>\n",
       "      <td>Male</td>\n",
       "      <td>National/North/Dundee City Council/Menzieshill</td>\n",
       "      <td>North</td>\n",
       "      <td>54.0</td>\n",
       "      <td>Stroke</td>\n",
       "    </tr>\n",
       "    <tr>\n",
       "      <th>475521</th>\n",
       "      <td>5657.0</td>\n",
       "      <td>Male</td>\n",
       "      <td>National/EAST /Edinburgh City Council/Edinburg...</td>\n",
       "      <td>EAST</td>\n",
       "      <td>88.0</td>\n",
       "      <td>Dementia</td>\n",
       "    </tr>\n",
       "    <tr>\n",
       "      <th>475525</th>\n",
       "      <td>5071.0</td>\n",
       "      <td>Male</td>\n",
       "      <td>National/North/North Housing</td>\n",
       "      <td>North</td>\n",
       "      <td>56.0</td>\n",
       "      <td>Learning Difficulties</td>\n",
       "    </tr>\n",
       "    <tr>\n",
       "      <th>475568</th>\n",
       "      <td>4703.0</td>\n",
       "      <td>Female</td>\n",
       "      <td>National/North/Dundee City Council/Menzieshill</td>\n",
       "      <td>North</td>\n",
       "      <td>56.0</td>\n",
       "      <td>Spina Bifida</td>\n",
       "    </tr>\n",
       "  </tbody>\n",
       "</table>\n",
       "<p>352 rows × 6 columns</p>\n",
       "</div>"
      ],
      "text/plain": [
       "        ExternalID  Gender                                           Location  \\\n",
       "0           8899.0    Male  National/WEST /Glasgow City Council/Glasgow Ea...   \n",
       "337         9181.0  Female  National/North/Aberdeen City Council/Raeden Ca...   \n",
       "88811       9402.0    Male  National/EAST /Edinburgh City Council/Edinburg...   \n",
       "88868       5542.0    Male  National/WEST /South Ayrshire Council/South Ay...   \n",
       "111365      4763.0    Male  National/North/Dundee City Council/Menzieshill...   \n",
       "...            ...     ...                                                ...   \n",
       "474016      5966.0    Male              National/EAST /Edinburgh City Council   \n",
       "475419      5475.0    Male     National/North/Dundee City Council/Menzieshill   \n",
       "475521      5657.0    Male  National/EAST /Edinburgh City Council/Edinburg...   \n",
       "475525      5071.0    Male                       National/North/North Housing   \n",
       "475568      4703.0  Female     National/North/Dundee City Council/Menzieshill   \n",
       "\n",
       "       Location_1   Age       CareSysCondition  \n",
       "0           WEST   58.0                 Cancer  \n",
       "337         North  93.0   Elderly Care/Support  \n",
       "88811       EAST   32.0           Brain Injury  \n",
       "88868       WEST   58.0               Epilepsy  \n",
       "111365      North  65.0         Cerebral Palsy  \n",
       "...           ...   ...                    ...  \n",
       "474016      EAST   85.0   Elderly Care/Support  \n",
       "475419      North  54.0                 Stroke  \n",
       "475521      EAST   88.0               Dementia  \n",
       "475525      North  56.0  Learning Difficulties  \n",
       "475568      North  56.0           Spina Bifida  \n",
       "\n",
       "[352 rows x 6 columns]"
      ]
     },
     "execution_count": 79,
     "metadata": {},
     "output_type": "execute_result"
    }
   ],
   "source": [
    "tmp_data_for_analyzing_location"
   ]
  },
  {
   "cell_type": "code",
   "execution_count": 80,
   "id": "a23865cc",
   "metadata": {},
   "outputs": [
    {
     "data": {
      "text/plain": [
       "Text(0.5, 1.0, 'Fig. 5. Relationship between location and health')"
      ]
     },
     "execution_count": 80,
     "metadata": {},
     "output_type": "execute_result"
    },
    {
     "data": {
      "image/png": "[encoded data removed]",
      "text/plain": [
       "<Figure size 512.375x360 with 1 Axes>"
      ]
     },
     "metadata": {
      "needs_background": "light"
     },
     "output_type": "display_data"
    }
   ],
   "source": [
    "sns.displot(tmp_data_for_analyzing_location, x=\"Location_1\", hue=\"CareSysCondition\", multiple=\"stack\")\n",
    "plt.xlabel('Location')\n",
    "plt.ylabel('The number of people')\n",
    "plt.title('Fig. 5. Relationship between location and health')"
   ]
  },
  {
   "cell_type": "markdown",
   "id": "annoying-minutes",
   "metadata": {},
   "source": [
    "As is shown in Fig. 5, In gerneal, the east had the highest number of users with illness, followed by the north and the west. In specific, the people with cerebral Palsy are most in West. The people with elderly care/support are most in North. The people with mental health issues are most in East."
   ]
  },
  {
   "cell_type": "markdown",
   "id": "preceding-traffic",
   "metadata": {},
   "source": [
    "#### (6) Last, I analyzed the relationship between \"location\" and \"Link Title\"."
   ]
  },
  {
   "cell_type": "code",
   "execution_count": 81,
   "id": "innovative-occasion",
   "metadata": {},
   "outputs": [],
   "source": [
    "data_extracted_second = data_of_all.iloc[:,[5, 6, 13]].drop_duplicates()"
   ]
  },
  {
   "cell_type": "code",
   "execution_count": 82,
   "id": "nearby-logic",
   "metadata": {},
   "outputs": [
    {
     "data": {
      "text/html": [
       "<div>\n",
       "<style scoped>\n",
       "    .dataframe tbody tr th:only-of-type {\n",
       "        vertical-align: middle;\n",
       "    }\n",
       "\n",
       "    .dataframe tbody tr th {\n",
       "        vertical-align: top;\n",
       "    }\n",
       "\n",
       "    .dataframe thead th {\n",
       "        text-align: right;\n",
       "    }\n",
       "</style>\n",
       "<table border=\"1\" class=\"dataframe\">\n",
       "  <thead>\n",
       "    <tr style=\"text-align: right;\">\n",
       "      <th></th>\n",
       "      <th>Link Title</th>\n",
       "      <th>Link  Type</th>\n",
       "      <th>Location_y</th>\n",
       "    </tr>\n",
       "  </thead>\n",
       "  <tbody>\n",
       "    <tr>\n",
       "      <th>0</th>\n",
       "      <td>My Care Team</td>\n",
       "      <td>Category</td>\n",
       "      <td>National/WEST /Glasgow City Council/Glasgow Ea...</td>\n",
       "    </tr>\n",
       "    <tr>\n",
       "      <th>1</th>\n",
       "      <td>My Care</td>\n",
       "      <td>Category</td>\n",
       "      <td>National/WEST /Glasgow City Council/Glasgow Ea...</td>\n",
       "    </tr>\n",
       "    <tr>\n",
       "      <th>2</th>\n",
       "      <td>Care Notes</td>\n",
       "      <td>Internet</td>\n",
       "      <td>National/WEST /Glasgow City Council/Glasgow Ea...</td>\n",
       "    </tr>\n",
       "    <tr>\n",
       "      <th>8</th>\n",
       "      <td>Local Information - Glasgow</td>\n",
       "      <td>Category</td>\n",
       "      <td>National/WEST /Glasgow City Council/Glasgow Ea...</td>\n",
       "    </tr>\n",
       "    <tr>\n",
       "      <th>9</th>\n",
       "      <td>My Neighbourhood</td>\n",
       "      <td>Category</td>\n",
       "      <td>National/WEST /Glasgow City Council/Glasgow Ea...</td>\n",
       "    </tr>\n",
       "    <tr>\n",
       "      <th>...</th>\n",
       "      <td>...</td>\n",
       "      <td>...</td>\n",
       "      <td>...</td>\n",
       "    </tr>\n",
       "    <tr>\n",
       "      <th>475729</th>\n",
       "      <td>Bowling</td>\n",
       "      <td>HTML page</td>\n",
       "      <td>Arbroath</td>\n",
       "    </tr>\n",
       "    <tr>\n",
       "      <th>475734</th>\n",
       "      <td>Roy Orbison</td>\n",
       "      <td>Internet</td>\n",
       "      <td>Arbroath</td>\n",
       "    </tr>\n",
       "    <tr>\n",
       "      <th>475738</th>\n",
       "      <td>Classic EastEnders Channel</td>\n",
       "      <td>Internet</td>\n",
       "      <td>Arbroath</td>\n",
       "    </tr>\n",
       "    <tr>\n",
       "      <th>475739</th>\n",
       "      <td>Coronation Street</td>\n",
       "      <td>Internet</td>\n",
       "      <td>Arbroath</td>\n",
       "    </tr>\n",
       "    <tr>\n",
       "      <th>475740</th>\n",
       "      <td>Videos</td>\n",
       "      <td>Category</td>\n",
       "      <td>Arbroath</td>\n",
       "    </tr>\n",
       "  </tbody>\n",
       "</table>\n",
       "<p>5214 rows × 3 columns</p>\n",
       "</div>"
      ],
      "text/plain": [
       "                         Link Title Link  Type  \\\n",
       "0                      My Care Team   Category   \n",
       "1                           My Care   Category   \n",
       "2                        Care Notes   Internet   \n",
       "8       Local Information - Glasgow   Category   \n",
       "9                  My Neighbourhood   Category   \n",
       "...                             ...        ...   \n",
       "475729                      Bowling  HTML page   \n",
       "475734                  Roy Orbison   Internet   \n",
       "475738   Classic EastEnders Channel   Internet   \n",
       "475739            Coronation Street   Internet   \n",
       "475740                       Videos   Category   \n",
       "\n",
       "                                               Location_y  \n",
       "0       National/WEST /Glasgow City Council/Glasgow Ea...  \n",
       "1       National/WEST /Glasgow City Council/Glasgow Ea...  \n",
       "2       National/WEST /Glasgow City Council/Glasgow Ea...  \n",
       "8       National/WEST /Glasgow City Council/Glasgow Ea...  \n",
       "9       National/WEST /Glasgow City Council/Glasgow Ea...  \n",
       "...                                                   ...  \n",
       "475729                                           Arbroath  \n",
       "475734                                           Arbroath  \n",
       "475738                                           Arbroath  \n",
       "475739                                           Arbroath  \n",
       "475740                                           Arbroath  \n",
       "\n",
       "[5214 rows x 3 columns]"
      ]
     },
     "execution_count": 82,
     "metadata": {},
     "output_type": "execute_result"
    }
   ],
   "source": [
    "data_extracted_second"
   ]
  },
  {
   "cell_type": "code",
   "execution_count": 83,
   "id": "rental-gentleman",
   "metadata": {},
   "outputs": [
    {
     "data": {
      "text/plain": [
       "Link Title    1.000000\n",
       "Link  Type    1.000000\n",
       "Location_y    0.959724\n",
       "dtype: float64"
      ]
     },
     "execution_count": 83,
     "metadata": {},
     "output_type": "execute_result"
    }
   ],
   "source": [
    "data_extracted_second.count() / data_extracted_second.shape[0]"
   ]
  },
  {
   "cell_type": "code",
   "execution_count": 84,
   "id": "southwest-curtis",
   "metadata": {},
   "outputs": [],
   "source": [
    "data_extracted_second.rename(columns={'Location_y':'Location'}, inplace=True)"
   ]
  },
  {
   "cell_type": "code",
   "execution_count": 85,
   "id": "generic-found",
   "metadata": {},
   "outputs": [],
   "source": [
    "data_extracted_second.dropna(subset=['Location'], inplace=True)"
   ]
  },
  {
   "cell_type": "code",
   "execution_count": 86,
   "id": "inclusive-antique",
   "metadata": {},
   "outputs": [],
   "source": [
    "data_extracted_second['Location'] = data_extracted_second['Location'].map(lambda x: dict[x] if x in dict else x)"
   ]
  },
  {
   "cell_type": "code",
   "execution_count": 87,
   "id": "practical-coverage",
   "metadata": {},
   "outputs": [
    {
     "data": {
      "text/plain": [
       "National/North/Aberdeen City Council/Raeden Care Home/Aberdeen C@H                         0.115308\n",
       "National/EAST /Edinburgh City Council/Responder Service                                    0.070344\n",
       "National/WEST /South Ayrshire Council/South Ayrshire C@H/St Leonards /St Leonards Court    0.064948\n",
       "National/EAST /Edinburgh City Council/Edinburgh West LFC C@H                               0.058553\n",
       "National/North/Dundee City Council/Charleston C@H                                          0.056954\n",
       "National/North/Dundee City Council/Menzieshill C@H                                         0.051359\n",
       "National/WEST /Glasgow City Council/Glasgow West C@H                                       0.047162\n",
       "National/EAST /Edinburgh City Council/Edinburgh East Abbey C@H                             0.033173\n",
       "National/North/Stirling Council/Forth Valley C@H                                           0.032374\n",
       "National/WEST /Glasgow City Council/Glasgow East C@H/Helenvale/67 Glamis Road              0.031775\n",
       "National/North/Dundee City Council/Douglas & B/Ferry C@H                                   0.026978\n",
       "National/North/Dundee City Council/Ardler & St Marys C@H                                   0.024181\n",
       "National/North/Aberdeen City Council/Raeden Care Home/Raeden/Raeden Court                  0.022982\n",
       "National/North/Stirling Council/Broom Care Home/Broom/Broom Court                          0.022782\n",
       "Test Machines Live/Test Region/Test Area/Test Locality/Test Complex/Test Building          0.022582\n",
       "National/WEST /South Lanarkshire Council /South Lanarkshire C@H                            0.021583\n",
       "National/EAST /Edinburgh City Council/Edinburgh East Fortune Place C@H                     0.021183\n",
       "National/WEST /Glasgow City Council/Glasgow East C@H/Helenvale/71 Glamis Road              0.020783\n",
       "National/North/North Housing                                                               0.018385\n",
       "National/North/Dundee City Council/Charleston                                              0.018185\n",
       "National/WEST /South Ayrshire Council/South Ayrshire C@H/St Leonards                       0.017986\n",
       "National/EAST /East Housing                                                                0.017786\n",
       "National/WEST /West Housing                                                                0.017386\n",
       "National/WEST /Glasgow City Council/Glasgow East C@H/Helenvale/69 Glamis Road              0.016587\n",
       "National/North/Dundee City Council/Menzieshill                                             0.015188\n",
       "National/WEST /North Lanarkshire Council/North Lanarkshire C@H                             0.013189\n",
       "National/EAST /Edinburgh City Council/Edinburgh West Morrison Cres C@H                     0.011990\n",
       "National/North/Dundee City Council/Douglas & Broughty Ferry                                0.011391\n",
       "National/WEST /South Ayrshire Council/South Ayrshire C@H/St Leonards                       0.011191\n",
       "National/WEST /Glasgow City Council/Belses Care Home                                       0.010592\n",
       "National/EAST /Edinburgh City Council/Edinburgh Central Coxfield C@H                       0.009992\n",
       "National/EAST /Edinburgh City Council/Edinburgh North Western Harbour C@H                  0.008393\n",
       "National/EAST /Edinburgh City Council/Edinburgh North Lindsay Road C@H                     0.008393\n",
       "National/WEST /South Ayrshire Council/South Ayrshire C@H                                   0.007394\n",
       "National                                                                                   0.006994\n",
       "National/EAST /Edinburgh City Council/Edinburgh East St Leonards C@H                       0.006795\n",
       "National/EAST /Edinburgh City Council                                                      0.006795\n",
       "National/EAST /Edinburgh City Council/Edinburgh Central Roseburn C@H                       0.005995\n",
       "National/North/Dundee City Council/Ardler & St Mary's                                      0.005596\n",
       "Arbroath                                                                                   0.005196\n",
       "National/North/Aberdeen City Council/Aberdeen/Raeden Court                                 0.003597\n",
       "Name: Location, dtype: float64"
      ]
     },
     "execution_count": 87,
     "metadata": {},
     "output_type": "execute_result"
    }
   ],
   "source": [
    "data_extracted_second['Location'].value_counts() / data_extracted_second.shape[0]"
   ]
  },
  {
   "cell_type": "code",
   "execution_count": 88,
   "id": "wanted-terminal",
   "metadata": {},
   "outputs": [],
   "source": [
    "data_extracted_second = data_extracted_second[data_extracted_second['Location'].str.slice(0, 9) == 'National/']"
   ]
  },
  {
   "cell_type": "code",
   "execution_count": 89,
   "id": "moral-authentication",
   "metadata": {},
   "outputs": [],
   "source": [
    "data_extracted_second.insert(3, 'Location_1', data_extracted_second['Location'].str.slice(9, 14))"
   ]
  },
  {
   "cell_type": "code",
   "execution_count": 90,
   "id": "hydraulic-jacket",
   "metadata": {},
   "outputs": [
    {
     "data": {
      "text/html": [
       "<div>\n",
       "<style scoped>\n",
       "    .dataframe tbody tr th:only-of-type {\n",
       "        vertical-align: middle;\n",
       "    }\n",
       "\n",
       "    .dataframe tbody tr th {\n",
       "        vertical-align: top;\n",
       "    }\n",
       "\n",
       "    .dataframe thead th {\n",
       "        text-align: right;\n",
       "    }\n",
       "</style>\n",
       "<table border=\"1\" class=\"dataframe\">\n",
       "  <thead>\n",
       "    <tr style=\"text-align: right;\">\n",
       "      <th></th>\n",
       "      <th>Link Title</th>\n",
       "      <th>Link  Type</th>\n",
       "      <th>Location</th>\n",
       "      <th>Location_1</th>\n",
       "    </tr>\n",
       "  </thead>\n",
       "  <tbody>\n",
       "    <tr>\n",
       "      <th>0</th>\n",
       "      <td>My Care Team</td>\n",
       "      <td>Category</td>\n",
       "      <td>National/WEST /Glasgow City Council/Glasgow Ea...</td>\n",
       "      <td>WEST</td>\n",
       "    </tr>\n",
       "    <tr>\n",
       "      <th>1</th>\n",
       "      <td>My Care</td>\n",
       "      <td>Category</td>\n",
       "      <td>National/WEST /Glasgow City Council/Glasgow Ea...</td>\n",
       "      <td>WEST</td>\n",
       "    </tr>\n",
       "    <tr>\n",
       "      <th>2</th>\n",
       "      <td>Care Notes</td>\n",
       "      <td>Internet</td>\n",
       "      <td>National/WEST /Glasgow City Council/Glasgow Ea...</td>\n",
       "      <td>WEST</td>\n",
       "    </tr>\n",
       "    <tr>\n",
       "      <th>8</th>\n",
       "      <td>Local Information - Glasgow</td>\n",
       "      <td>Category</td>\n",
       "      <td>National/WEST /Glasgow City Council/Glasgow Ea...</td>\n",
       "      <td>WEST</td>\n",
       "    </tr>\n",
       "    <tr>\n",
       "      <th>9</th>\n",
       "      <td>My Neighbourhood</td>\n",
       "      <td>Category</td>\n",
       "      <td>National/WEST /Glasgow City Council/Glasgow Ea...</td>\n",
       "      <td>WEST</td>\n",
       "    </tr>\n",
       "    <tr>\n",
       "      <th>...</th>\n",
       "      <td>...</td>\n",
       "      <td>...</td>\n",
       "      <td>...</td>\n",
       "      <td>...</td>\n",
       "    </tr>\n",
       "    <tr>\n",
       "      <th>475622</th>\n",
       "      <td>Tayside: New Digital Skills Intern</td>\n",
       "      <td>Internet</td>\n",
       "      <td>National/North/Dundee City Council/Menzieshill</td>\n",
       "      <td>North</td>\n",
       "    </tr>\n",
       "    <tr>\n",
       "      <th>475625</th>\n",
       "      <td>Candy Crush Saga</td>\n",
       "      <td>Internet</td>\n",
       "      <td>National/North/Dundee City Council/Menzieshill</td>\n",
       "      <td>North</td>\n",
       "    </tr>\n",
       "    <tr>\n",
       "      <th>475658</th>\n",
       "      <td>Dundee United Football Club</td>\n",
       "      <td>Internet</td>\n",
       "      <td>National/North/Dundee City Council/Menzieshill</td>\n",
       "      <td>North</td>\n",
       "    </tr>\n",
       "    <tr>\n",
       "      <th>475676</th>\n",
       "      <td>Sudoku</td>\n",
       "      <td>Internet</td>\n",
       "      <td>National/North/Dundee City Council/Menzieshill</td>\n",
       "      <td>North</td>\n",
       "    </tr>\n",
       "    <tr>\n",
       "      <th>475681</th>\n",
       "      <td>Keys To Life</td>\n",
       "      <td>Internet</td>\n",
       "      <td>National/North/Dundee City Council/Menzieshill</td>\n",
       "      <td>North</td>\n",
       "    </tr>\n",
       "  </tbody>\n",
       "</table>\n",
       "<p>4830 rows × 4 columns</p>\n",
       "</div>"
      ],
      "text/plain": [
       "                                Link Title Link  Type  \\\n",
       "0                             My Care Team   Category   \n",
       "1                                  My Care   Category   \n",
       "2                               Care Notes   Internet   \n",
       "8              Local Information - Glasgow   Category   \n",
       "9                         My Neighbourhood   Category   \n",
       "...                                    ...        ...   \n",
       "475622  Tayside: New Digital Skills Intern   Internet   \n",
       "475625                    Candy Crush Saga   Internet   \n",
       "475658         Dundee United Football Club   Internet   \n",
       "475676                              Sudoku   Internet   \n",
       "475681                        Keys To Life   Internet   \n",
       "\n",
       "                                                 Location Location_1  \n",
       "0       National/WEST /Glasgow City Council/Glasgow Ea...      WEST   \n",
       "1       National/WEST /Glasgow City Council/Glasgow Ea...      WEST   \n",
       "2       National/WEST /Glasgow City Council/Glasgow Ea...      WEST   \n",
       "8       National/WEST /Glasgow City Council/Glasgow Ea...      WEST   \n",
       "9       National/WEST /Glasgow City Council/Glasgow Ea...      WEST   \n",
       "...                                                   ...        ...  \n",
       "475622     National/North/Dundee City Council/Menzieshill      North  \n",
       "475625     National/North/Dundee City Council/Menzieshill      North  \n",
       "475658     National/North/Dundee City Council/Menzieshill      North  \n",
       "475676     National/North/Dundee City Council/Menzieshill      North  \n",
       "475681     National/North/Dundee City Council/Menzieshill      North  \n",
       "\n",
       "[4830 rows x 4 columns]"
      ]
     },
     "execution_count": 90,
     "metadata": {},
     "output_type": "execute_result"
    }
   ],
   "source": [
    "data_extracted_second"
   ]
  },
  {
   "cell_type": "code",
   "execution_count": 91,
   "id": "finished-popularity",
   "metadata": {},
   "outputs": [
    {
     "data": {
      "text/plain": [
       "Internet         7.663657\n",
       "Category         2.715576\n",
       "Radio            0.239278\n",
       "HTML page        0.112867\n",
       "Services         0.058691\n",
       "Standard page    0.051919\n",
       "TV               0.036117\n",
       "Gallery          0.024831\n",
       "Name: Link  Type, dtype: float64"
      ]
     },
     "execution_count": 91,
     "metadata": {},
     "output_type": "execute_result"
    }
   ],
   "source": [
    "(data_extracted_second['Link  Type'].value_counts() / data_extracted.shape[0]).head(10)"
   ]
  },
  {
   "cell_type": "code",
   "execution_count": 92,
   "id": "white-alloy",
   "metadata": {},
   "outputs": [],
   "source": [
    "data_extracted_second_for_link_type = data_extracted_second[(data_extracted_second['Link  Type'] == 'Internet') | (data_extracted_second['Link  Type'] == 'Category') | (data_extracted_second['Link  Type'] == 'Radio') | (data_extracted_second['Link  Type'] == 'HTML page')]"
   ]
  },
  {
   "cell_type": "code",
   "execution_count": 93,
   "id": "activated-pricing",
   "metadata": {},
   "outputs": [
    {
     "data": {
      "text/html": [
       "<div>\n",
       "<style scoped>\n",
       "    .dataframe tbody tr th:only-of-type {\n",
       "        vertical-align: middle;\n",
       "    }\n",
       "\n",
       "    .dataframe tbody tr th {\n",
       "        vertical-align: top;\n",
       "    }\n",
       "\n",
       "    .dataframe thead th {\n",
       "        text-align: right;\n",
       "    }\n",
       "</style>\n",
       "<table border=\"1\" class=\"dataframe\">\n",
       "  <thead>\n",
       "    <tr style=\"text-align: right;\">\n",
       "      <th></th>\n",
       "      <th>Link Title</th>\n",
       "      <th>Link  Type</th>\n",
       "      <th>Location</th>\n",
       "      <th>Location_1</th>\n",
       "    </tr>\n",
       "  </thead>\n",
       "  <tbody>\n",
       "    <tr>\n",
       "      <th>0</th>\n",
       "      <td>My Care Team</td>\n",
       "      <td>Category</td>\n",
       "      <td>National/WEST /Glasgow City Council/Glasgow Ea...</td>\n",
       "      <td>WEST</td>\n",
       "    </tr>\n",
       "    <tr>\n",
       "      <th>1</th>\n",
       "      <td>My Care</td>\n",
       "      <td>Category</td>\n",
       "      <td>National/WEST /Glasgow City Council/Glasgow Ea...</td>\n",
       "      <td>WEST</td>\n",
       "    </tr>\n",
       "    <tr>\n",
       "      <th>2</th>\n",
       "      <td>Care Notes</td>\n",
       "      <td>Internet</td>\n",
       "      <td>National/WEST /Glasgow City Council/Glasgow Ea...</td>\n",
       "      <td>WEST</td>\n",
       "    </tr>\n",
       "    <tr>\n",
       "      <th>8</th>\n",
       "      <td>Local Information - Glasgow</td>\n",
       "      <td>Category</td>\n",
       "      <td>National/WEST /Glasgow City Council/Glasgow Ea...</td>\n",
       "      <td>WEST</td>\n",
       "    </tr>\n",
       "    <tr>\n",
       "      <th>9</th>\n",
       "      <td>My Neighbourhood</td>\n",
       "      <td>Category</td>\n",
       "      <td>National/WEST /Glasgow City Council/Glasgow Ea...</td>\n",
       "      <td>WEST</td>\n",
       "    </tr>\n",
       "    <tr>\n",
       "      <th>...</th>\n",
       "      <td>...</td>\n",
       "      <td>...</td>\n",
       "      <td>...</td>\n",
       "      <td>...</td>\n",
       "    </tr>\n",
       "    <tr>\n",
       "      <th>475622</th>\n",
       "      <td>Tayside: New Digital Skills Intern</td>\n",
       "      <td>Internet</td>\n",
       "      <td>National/North/Dundee City Council/Menzieshill</td>\n",
       "      <td>North</td>\n",
       "    </tr>\n",
       "    <tr>\n",
       "      <th>475625</th>\n",
       "      <td>Candy Crush Saga</td>\n",
       "      <td>Internet</td>\n",
       "      <td>National/North/Dundee City Council/Menzieshill</td>\n",
       "      <td>North</td>\n",
       "    </tr>\n",
       "    <tr>\n",
       "      <th>475658</th>\n",
       "      <td>Dundee United Football Club</td>\n",
       "      <td>Internet</td>\n",
       "      <td>National/North/Dundee City Council/Menzieshill</td>\n",
       "      <td>North</td>\n",
       "    </tr>\n",
       "    <tr>\n",
       "      <th>475676</th>\n",
       "      <td>Sudoku</td>\n",
       "      <td>Internet</td>\n",
       "      <td>National/North/Dundee City Council/Menzieshill</td>\n",
       "      <td>North</td>\n",
       "    </tr>\n",
       "    <tr>\n",
       "      <th>475681</th>\n",
       "      <td>Keys To Life</td>\n",
       "      <td>Internet</td>\n",
       "      <td>National/North/Dundee City Council/Menzieshill</td>\n",
       "      <td>North</td>\n",
       "    </tr>\n",
       "  </tbody>\n",
       "</table>\n",
       "<p>4754 rows × 4 columns</p>\n",
       "</div>"
      ],
      "text/plain": [
       "                                Link Title Link  Type  \\\n",
       "0                             My Care Team   Category   \n",
       "1                                  My Care   Category   \n",
       "2                               Care Notes   Internet   \n",
       "8              Local Information - Glasgow   Category   \n",
       "9                         My Neighbourhood   Category   \n",
       "...                                    ...        ...   \n",
       "475622  Tayside: New Digital Skills Intern   Internet   \n",
       "475625                    Candy Crush Saga   Internet   \n",
       "475658         Dundee United Football Club   Internet   \n",
       "475676                              Sudoku   Internet   \n",
       "475681                        Keys To Life   Internet   \n",
       "\n",
       "                                                 Location Location_1  \n",
       "0       National/WEST /Glasgow City Council/Glasgow Ea...      WEST   \n",
       "1       National/WEST /Glasgow City Council/Glasgow Ea...      WEST   \n",
       "2       National/WEST /Glasgow City Council/Glasgow Ea...      WEST   \n",
       "8       National/WEST /Glasgow City Council/Glasgow Ea...      WEST   \n",
       "9       National/WEST /Glasgow City Council/Glasgow Ea...      WEST   \n",
       "...                                                   ...        ...  \n",
       "475622     National/North/Dundee City Council/Menzieshill      North  \n",
       "475625     National/North/Dundee City Council/Menzieshill      North  \n",
       "475658     National/North/Dundee City Council/Menzieshill      North  \n",
       "475676     National/North/Dundee City Council/Menzieshill      North  \n",
       "475681     National/North/Dundee City Council/Menzieshill      North  \n",
       "\n",
       "[4754 rows x 4 columns]"
      ]
     },
     "execution_count": 93,
     "metadata": {},
     "output_type": "execute_result"
    }
   ],
   "source": [
    "data_extracted_second_for_link_type"
   ]
  },
  {
   "cell_type": "code",
   "execution_count": 94,
   "id": "better-exclusion",
   "metadata": {},
   "outputs": [
    {
     "data": {
      "text/plain": [
       "Text(0.5, 1.0, 'Fig. 6. Relationship between location and link type')"
      ]
     },
     "execution_count": 94,
     "metadata": {},
     "output_type": "execute_result"
    },
    {
     "data": {
      "image/png": "[encoded data removed]",
      "text/plain": [
       "<Figure size 451.625x360 with 1 Axes>"
      ]
     },
     "metadata": {
      "needs_background": "light"
     },
     "output_type": "display_data"
    }
   ],
   "source": [
    "sns.displot(data_extracted_second_for_link_type, x=\"Location_1\", hue=\"Link  Type\", multiple=\"stack\")\n",
    "plt.xlabel('Location')\n",
    "plt.ylabel('The number of people')\n",
    "plt.title('Fig. 6. Relationship between location and link type')"
   ]
  },
  {
   "cell_type": "code",
   "execution_count": 95,
   "id": "desirable-engineer",
   "metadata": {},
   "outputs": [
    {
     "data": {
      "text/plain": [
       "Text(0.5, 1.0, 'Fig. 7. Relationship between Link type and location')"
      ]
     },
     "execution_count": 95,
     "metadata": {},
     "output_type": "execute_result"
    },
    {
     "data": {
      "image/png": "[encoded data removed]",
      "text/plain": [
       "<Figure size 427.5x360 with 1 Axes>"
      ]
     },
     "metadata": {
      "needs_background": "light"
     },
     "output_type": "display_data"
    }
   ],
   "source": [
    "sns.displot(data_extracted_second_for_link_type, x=\"Link  Type\", hue=\"Location_1\", multiple=\"stack\")\n",
    "plt.xlabel('Location')\n",
    "plt.ylabel('The number of people')\n",
    "plt.title('Fig. 7. Relationship between Link type and location')"
   ]
  },
  {
   "cell_type": "markdown",
   "id": "surrounded-aerospace",
   "metadata": {},
   "source": [
    "According to Fig.6 and Fig.7, it can be seen that \"category\" and \"Internet\" are the most popular types of entertainment activities conducted by users in the eastern, western and northern regions. And more specifically, \"Internet\" is a much larger type than \"category\". But in terms of the number of people, users in the north have the highest number of entertainment activities.\n",
    "\n"
   ]
  },
  {
   "cell_type": "markdown",
   "id": "777fcea7",
   "metadata": {},
   "source": [
    "Overall, Combined with Fig. 3, the results of Fig. 5 can be explained. In the North area, people are generally 60-85 years old. The demand for service of elderly care and support is high. Thus, the people with elderly care are most. In the East area, people are 40-70 years old. They face retirement, changing pace of life and menopause stress and so on. Thus, their mental health will be prone to problems."
   ]
  },
  {
   "cell_type": "markdown",
   "id": "444a8784",
   "metadata": {},
   "source": [
    "It is worth noting that the number of people with cancer is high in East area, which may lead to our inquiry of next stage."
   ]
  },
  {
   "cell_type": "markdown",
   "id": "ca496d1f",
   "metadata": {},
   "source": [
    "# Ⅲ.  Reflect and Hypothesis "
   ]
  },
  {
   "cell_type": "markdown",
   "id": "076e2bf0",
   "metadata": {},
   "source": [
    "##### Q1: A 200 word reflection on the data "
   ]
  },
  {
   "cell_type": "markdown",
   "id": "93f84ed6",
   "metadata": {},
   "source": [
    "Based on the above analysis, I firstly realized that in the middle-aged and elderly groups, the age differences within them can lead to different needs in their lives. This also inspires me that when I design for olderly groups, it is important to notice the composition of their age. And I should study carefully the physiological and psychological characteristics of different age groups. Secondly, the characteristics of gender are noteworthy. In the above results, users in each area are more female than male, indicating that their demand for this kind of care service is stronger, which will cause me to think about whether olderly women in real life are more inconvenient than olderly men on some occasions. Besides, I think the difference of health needs for eldly people (as shown in Fig. 5) in the east, west and north may be directly related to the actual economic level and the development of medical care in these areas. Meanwhile, It is worth noting that the East area has significantly more users than the other areas, and the apparent youth of users' age structure may also be related to the culture of the East area and the residents' abilities to accept the new service."
   ]
  },
  {
   "cell_type": "markdown",
   "id": "61a0f676",
   "metadata": {},
   "source": [
    "##### Q2: 3-5 hypotheses with an explanation of: (1) What your hypothesis is; (2) Why you think that (referring to your graphs); (3) How you could go about testing it (note that this may include: further studies, asking the data owner, using some advanced algorithms, check each data point individually, etc.)"
   ]
  },
  {
   "cell_type": "markdown",
   "id": "outer-surgeon",
   "metadata": {},
   "source": [
    "Hypothesis 1: Men are harder to become users of the company than women. It can be seen from Fig. 2 that there are fewer male users than female users in all three locations. For testing the hypothesis, I think it is possible to enrich the data and validate it by interviewing male and female users, or by consulting the data owner.\n",
    "\n",
    "Hypothesis 2: Middle-aged women in East area may face more psychological stress. The reasons for my assumption are based on the results of Figs. 3, 4 and 5. Fig. 3 shows that users in East area are relatively young, are the middle-aged and elderly groups. Fig. 4 shows that the proportion of female in all three areas is higher than that of male in terms of gender composition. However, in Fig. 5, the number of people in East area are significantly higher in terms of psychological stress than in the other two areas, suggesting that the cause may be age-related. Thus, I speculate that middle-aged women may face greater psychological pressure, which is also related to the actual female menopause, post-retirement life. To test this hypothesis, I needed to analyze the age composition and sex ratio of people with mental health issues in East area, and compare three areas based on the two indicators.\n",
    "\n",
    "Hypothesis 3: The main requirement for people who are 55-60 years old is mainly elderly care/support, and the main requirement for people who are 80-85 years old is solving mental health issues. As is shown in Fig. 1, there are two peaks in the users' distribution of age, one is 55-60, the other one is 80-85, and the number of the former is more than the latter. The hypothesis was proposed in view of the results of Fig. 3 and Fig. 5. To verify this hypothesis, the age composition of elderly care and mental health issues in Fig. 5 needs to be analyzed."
   ]
  }
 ],
 "metadata": {
  "kernelspec": {
   "display_name": "Python 3",
   "language": "python",
   "name": "python3"
  },
  "language_info": {
   "codemirror_mode": {
    "name": "ipython",
    "version": 3
   },
   "file_extension": ".py",
   "mimetype": "text/x-python",
   "name": "python",
   "nbconvert_exporter": "python",
   "pygments_lexer": "ipython3",
   "version": "3.9.2"
  }
 },
 "nbformat": 4,
 "nbformat_minor": 5
}
